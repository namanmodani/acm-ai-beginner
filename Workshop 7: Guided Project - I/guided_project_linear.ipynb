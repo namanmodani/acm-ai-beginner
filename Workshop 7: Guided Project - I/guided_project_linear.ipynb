{
  "nbformat": 4,
  "nbformat_minor": 0,
  "metadata": {
    "colab": {
      "name": "guided_project_linear.ipynb",
      "provenance": [],
      "collapsed_sections": [],
      "include_colab_link": true
    },
    "kernelspec": {
      "name": "python3",
      "display_name": "Python 3"
    },
    "language_info": {
      "name": "python"
    }
  },
  "cells": [
    {
      "cell_type": "markdown",
      "metadata": {
        "id": "view-in-github",
        "colab_type": "text"
      },
      "source": [
        "<a href=\"https://colab.research.google.com/github/namanmodani/acm-ai-beginner/blob/main/guided_project_linear.ipynb\" target=\"_parent\"><img src=\"https://colab.research.google.com/assets/colab-badge.svg\" alt=\"Open In Colab\"/></a>"
      ]
    },
    {
      "cell_type": "markdown",
      "metadata": {
        "id": "xsVoYCwPROCW"
      },
      "source": [
        "# Guided Project - Linear Regression\n",
        "ACM AI Beginner Track - Workshop 7\n",
        "\n",
        "---\n",
        "[Feedback Form](https://bit.ly/btrack-w22-feedback)\n",
        "\n",
        "[Discord](https://bit.ly/ACMdiscord)"
      ]
    },
    {
      "cell_type": "code",
      "metadata": {
        "id": "J-VmzaJ6heMh"
      },
      "source": [
        "# import modules\n",
        "import matplotlib.pyplot as plt\n",
        "import numpy as np\n",
        "from sklearn.model_selection import train_test_split\n",
        "from sklearn.datasets import load_boston\n",
        "from sklearn.metrics import r2_score"
      ],
      "execution_count": null,
      "outputs": []
    },
    {
      "cell_type": "code",
      "metadata": {
        "id": "pdw6fvaohqhh"
      },
      "source": [
        "# set the random seed\n",
        "np.random.seed(0)"
      ],
      "execution_count": null,
      "outputs": []
    },
    {
      "cell_type": "markdown",
      "metadata": {
        "id": "dPMsmy0miFb2"
      },
      "source": [
        "# $$\\textbf{Function to be learned - a line}$$\n",
        "### $$f(x)=\\pi x + 10$$"
      ]
    },
    {
      "cell_type": "code",
      "metadata": {
        "id": "zlzdFEiVh6vU"
      },
      "source": [
        "def f(x):\n",
        "  return np.pi*x + 10"
      ],
      "execution_count": null,
      "outputs": []
    },
    {
      "cell_type": "code",
      "metadata": {
        "id": "A4X9QOrbiKdW"
      },
      "source": [
        "def f_with_noise(x):\n",
        "  return f(x) + np.random.normal(0, 20, size=x.shape)"
      ],
      "execution_count": null,
      "outputs": []
    },
    {
      "cell_type": "code",
      "metadata": {
        "id": "-74OC1TSikt6"
      },
      "source": [
        "# generate 100 data from [0, 100) for X\n",
        "X = np.arange(0, 100)\n",
        "y = f_with_noise(X)"
      ],
      "execution_count": null,
      "outputs": []
    },
    {
      "cell_type": "code",
      "metadata": {
        "id": "GhrG3NM6i12l"
      },
      "source": [
        "# plot\n",
        "plt.figure(figsize=[8, 6])\n",
        "plt.scatter(X, y, alpha=0.5)"
      ],
      "execution_count": null,
      "outputs": []
    },
    {
      "cell_type": "code",
      "metadata": {
        "id": "F3IRbmxIzMCL"
      },
      "source": [
        "# Reshape X into (N, 1)\n",
        "X = X.reshape(-1, 1)"
      ],
      "execution_count": null,
      "outputs": []
    },
    {
      "cell_type": "code",
      "metadata": {
        "id": "dF3r2hdjj8va"
      },
      "source": [
        "# shape\n",
        "print('Shape of X:', X.shape)\n",
        "print('Shape of y:', y.shape)"
      ],
      "execution_count": null,
      "outputs": []
    },
    {
      "cell_type": "code",
      "metadata": {
        "id": "ng0_V9Nsjuw2"
      },
      "source": [
        "# split training and test data with train_test_split\n",
        "X_train, X_test, y_train, y_test = train_test_split(X, y, test_size=0.2, random_state=42)"
      ],
      "execution_count": null,
      "outputs": []
    },
    {
      "cell_type": "markdown",
      "source": [
        "## Refresher on Classes in Python\n",
        "`__init__` is the constructor of the class `Rectangle`. It is called when an object of the class `Rectangle` is created. \n",
        "\n",
        "`self.b` and `self.h` are attributes of `Rectangle`. This makes sense because every `Rectangle` object should have a base and a height.\n",
        "\n",
        "Lastly, `area` is a method of `Rectangle`. A method is very similar to a function except you invoke a method on a object using the dot notation in Python. E.g. `my_rect.area()` would invoke the `area` method on the `my_rect` object."
      ],
      "metadata": {
        "id": "22wqhWCkvvBX"
      }
    },
    {
      "cell_type": "code",
      "source": [
        "class Rectangle: \n",
        "  def __init__(self, b, h): \n",
        "      self.b = b \n",
        "      self.h = h\n",
        "\n",
        "  def area(self): \n",
        "      return self.b*self.h"
      ],
      "metadata": {
        "id": "bDDD39sovyNg"
      },
      "execution_count": null,
      "outputs": []
    },
    {
      "cell_type": "code",
      "source": [
        "my_rect = Rectangle(3, 5) \n",
        "print(\"Area: \", my_rect.area())"
      ],
      "metadata": {
        "id": "_KIDi13yvz-2"
      },
      "execution_count": null,
      "outputs": []
    },
    {
      "cell_type": "markdown",
      "metadata": {
        "id": "0JmlhxpKli0f"
      },
      "source": [
        "# Brief Review of Linear Regression\n",
        "N: number of samples \\\\\n",
        "f: number of features \\\\\n",
        "X: data; shape = (N, f) \\\\\n",
        "y: labels/targets; shape = (N, ) \\\\\n",
        "W: weights; shape = (f, ) \\\\\n",
        "b: bias; scalar \\\\\n",
        "a: learning rate; scalar \\\\"
      ]
    },
    {
      "cell_type": "markdown",
      "metadata": {
        "id": "VN5qqdWZXEFf"
      },
      "source": [
        "## $$\\textbf{Loss function - MSE}$$\n",
        "### $$L(y, \\hat{y}) = \\frac{1}{N} \\sum_{i=1}^{N} \\big(y_i-\\hat{y_i}\\big)^2 $$\n",
        "\\\\\n",
        "## $$\\textbf{Gradients of Loss with respect to W, b}$$\n",
        "### $$ \\frac{\\partial L}{\\partial W} = \\frac{2}{N}X^T\\big(\\hat{y}-y\\big)$$\n",
        "### $$ \\frac{\\partial L}{\\partial b} = \\frac{2}{N}\\sum_{i=1}^{N}\\big(\\hat{y_i}-y_i\\big)$$\n",
        "\\\\\n",
        "## $$\\textbf{Gradient Descent - update W, b accordingly}$$\n",
        "### $$W = W - \\alpha \\frac{\\partial L}{\\partial W}$$\n",
        "### $$b = b - \\alpha \\frac{\\partial L}{\\partial b}$$"
      ]
    },
    {
      "cell_type": "code",
      "metadata": {
        "id": "vQML3QQZklQn"
      },
      "source": [
        "# Linear Regression Class\n",
        "class Linear_Regression():\n",
        "  \"\"\"\n",
        "  Ordinary least squares Linear Regression.\n",
        "\n",
        "  Linear_Regression fits a linear model with coefficients w = (w1, ..., wf)\n",
        "  to minimize the residual sum of squares between the observed targets in\n",
        "  the dataset, and the targets predicted by the linear approximation.\n",
        "\n",
        "  Parameters:\n",
        "    num_epochs - number of epochs\n",
        "    lr - learning rate\n",
        "    verbose - creates a plot if set to True\n",
        "\n",
        "  Attributes:\n",
        "    epochs - number of epochs\n",
        "    alpha - learning rate\n",
        "    verbose - creates a plot when fitting train data if set to True\n",
        "    weights - numpy.ndarray with shape (f, )\n",
        "    bias - float\n",
        "    loss_history - list containing the loss of each epoch\n",
        "  \"\"\"\n",
        "  def __init__(self, num_epochs=50, lr=0.00002, verbose=False):\n",
        "    \"\"\"\n",
        "    Initializes a linear regression model.\n",
        "    \n",
        "    Parameters:\n",
        "      num_epochs - number of epochs: int\n",
        "      lr - learning rate: float\n",
        "      verbose - verbose: boolean\n",
        "    \"\"\"\n",
        "    self.epochs = num_epochs\n",
        "    self.alpha = lr\n",
        "    self.verbose = verbose\n",
        "  \n",
        "  def predict(self, X):\n",
        "    \"\"\"\n",
        "    Makes a prediction using the hypothesis.\n",
        "\n",
        "    Parameters:\n",
        "      X - data: numpy.ndarray with shape (N, f)\n",
        "\n",
        "    Returns:\n",
        "      predictions - numpy.ndarray with shape (N, )\n",
        "    \"\"\"\n",
        "    # TO DO: implement predict (using our hypothesis) - 1 line\n",
        "    pass\n",
        "\n",
        "  def loss(self, y, y_hat):\n",
        "    \"\"\"\n",
        "    Computes the Mean Squared Error (MSE) of the current predictions.\n",
        "\n",
        "    Parameters:\n",
        "      y - targets: numpy.ndarray with shape (N, )\n",
        "      y_hat - predictions: numpy.ndarray with shape (N, )\n",
        "\n",
        "    Returns:\n",
        "      loss - float\n",
        "    \"\"\"\n",
        "    # TO DO: compute loss (MSE) - 1 line\n",
        "    pass\n",
        "\n",
        "  def grads(self, X, y, y_hat):\n",
        "    \"\"\"\n",
        "    Computes the gradients of the loss with respect the weights and bias.\n",
        "\n",
        "    Parameters:\n",
        "      X - data: numpy.ndarray with shape (N, f)\n",
        "      y - targets: numpy.ndarray with shape (N, )\n",
        "      y_hat - predictions: numpy.ndarray with shape (N, )\n",
        "\n",
        "    Returns:\n",
        "      grads - tuple containing the gradients dw, db\n",
        "    \"\"\"\n",
        "    n = y.shape[0]\n",
        "    # TO DO: compute gradients - 2 lines\n",
        "    pass\n",
        "\n",
        "  def fit(self, X, y):\n",
        "    \"\"\"\n",
        "    Fits the model to the training data and targets.\n",
        "\n",
        "    Parameters:\n",
        "      X - training data: numpy.ndarray with shape (N, f)\n",
        "      y - targets: numpy.ndarray with shape (N, )\n",
        "\n",
        "    Returns:\n",
        "      a reference to self\n",
        "    \"\"\"\n",
        "    # initialize weights and bias\n",
        "    self.weights = np.random.rand(X.shape[1])\n",
        "    self.bias = np.random.rand()\n",
        "    self.loss_history = []\n",
        "\n",
        "    # training loop\n",
        "    for i in range(self.epochs):\n",
        "      # TO DO: make predictions - 1 line\n",
        "      pass\n",
        "\n",
        "      # TO DO: compute loss - 1 line\n",
        "      pass\n",
        "\n",
        "      # TO DO: compute gradients - 1 line\n",
        "      pass\n",
        "\n",
        "      # TO DO: update self.weights and self.bias - 2 lines\n",
        "      pass\n",
        "\n",
        "      self.loss_history.append(loss)\n",
        "\n",
        "    if self.verbose:\n",
        "      plt.figure(figsize=[8, 6])\n",
        "      plt.xlabel('epoch')\n",
        "      plt.ylabel('loss')\n",
        "      plt.plot(np.arange(1, len(self.loss_history) + 1), self.loss_history)\n",
        "      plt.show()\n",
        "\n",
        "    return self"
      ],
      "execution_count": null,
      "outputs": []
    },
    {
      "cell_type": "code",
      "metadata": {
        "id": "dXuoA4sjwOfQ"
      },
      "source": [
        "# fit the model to the train data\n",
        "lin_reg = Linear_Regression(verbose=True).fit(X_train, y_train)"
      ],
      "execution_count": null,
      "outputs": []
    },
    {
      "cell_type": "code",
      "metadata": {
        "id": "A1t0rA7a-_00"
      },
      "source": [
        "print('weights:', lin_reg.weights)\n",
        "print('bias:', lin_reg.bias.round(10))"
      ],
      "execution_count": null,
      "outputs": []
    },
    {
      "cell_type": "code",
      "metadata": {
        "id": "MUh488zp0uXe"
      },
      "source": [
        "# make prediction on test data\n",
        "y_pred = lin_reg.predict(X_test)"
      ],
      "execution_count": null,
      "outputs": []
    },
    {
      "cell_type": "markdown",
      "metadata": {
        "id": "AU_n4vPI2gjc"
      },
      "source": [
        "## Which r2 score do you expect to be higher? Why?"
      ]
    },
    {
      "cell_type": "code",
      "metadata": {
        "id": "2O1Q7anE4pJi"
      },
      "source": [
        "# r2 score\n",
        "print('Test r2 score:', r2_score(y_test, y_pred).round(3))\n",
        "print('Train r2 score:', r2_score(y_train, lin_reg.predict(X_train)).round(3))"
      ],
      "execution_count": null,
      "outputs": []
    },
    {
      "cell_type": "code",
      "metadata": {
        "id": "HuidK36exJdH"
      },
      "source": [
        "# plot data\n",
        "plt.figure(figsize=[8, 6])\n",
        "plt.scatter(X_train, y_train, alpha=0.5, label='train')\n",
        "plt.scatter(X_test, y_test, alpha=0.5, label='test')\n",
        "plt.plot(X, lin_reg.predict(X), color='r', label='best fit')\n",
        "plt.legend()"
      ],
      "execution_count": null,
      "outputs": []
    },
    {
      "cell_type": "markdown",
      "metadata": {
        "id": "Tmn3TG_U2nRg"
      },
      "source": [
        "## The effect of different learning rates\n",
        "### Which learning rate would you pick for our model on this particular dataset? Why?"
      ]
    },
    {
      "cell_type": "code",
      "metadata": {
        "id": "z1rlbOaj24kX"
      },
      "source": [
        "lr = [0.000005, 0.00002, 0.00008]\n",
        "plt.figure(figsize=[8, 6])\n",
        "plt.xlabel('epoch')\n",
        "plt.ylabel('loss')\n",
        "\n",
        "for l in lr:\n",
        "  lin_reg = Linear_Regression(lr=l).fit(X_train, y_train)\n",
        "  plt.plot(np.arange(1, len(lin_reg.loss_history) + 1), lin_reg.loss_history, label=f'lr={l}')\n",
        "\n",
        "plt.legend()\n",
        "plt.show()"
      ],
      "execution_count": null,
      "outputs": []
    },
    {
      "cell_type": "markdown",
      "metadata": {
        "id": "hNDQjKze3DZw"
      },
      "source": [
        "## Let's apply our model to a real world dataset (Boston Housing Prices)\n",
        "Sklearn documentation: https://scikit-learn.org/stable/modules/generated/sklearn.datasets.load_boston.html"
      ]
    },
    {
      "cell_type": "code",
      "metadata": {
        "id": "By-7V7yx29rO"
      },
      "source": [
        "# load the boston dataset\n",
        "boston = load_boston()"
      ],
      "execution_count": null,
      "outputs": []
    },
    {
      "cell_type": "code",
      "metadata": {
        "id": "kyNFvdvK31TP"
      },
      "source": [
        "# documentation\n",
        "print(boston.DESCR)"
      ],
      "execution_count": null,
      "outputs": []
    },
    {
      "cell_type": "code",
      "metadata": {
        "id": "YLU5r4GVMc0f"
      },
      "source": [
        "X = boston.data\n",
        "y = boston.target"
      ],
      "execution_count": null,
      "outputs": []
    },
    {
      "cell_type": "code",
      "metadata": {
        "id": "LXvc6Ikz36_t"
      },
      "source": [
        "# train_test_split\n",
        "X_train, X_test, y_train, y_test = train_test_split(X, y, test_size=0.2, random_state=42)"
      ],
      "execution_count": null,
      "outputs": []
    },
    {
      "cell_type": "code",
      "metadata": {
        "id": "JkVwXYS85PN4"
      },
      "source": [
        "# Fit on training data (this will take a while to run)\n",
        "lin_reg2 = Linear_Regression(num_epochs=10**(6), lr=3.2*10**(-6)).fit(X_train, y_train)"
      ],
      "execution_count": null,
      "outputs": []
    },
    {
      "cell_type": "markdown",
      "metadata": {
        "id": "0GsRCARn2rIz"
      },
      "source": [
        "## Feel free to try out some other learning rates and see what happens :)"
      ]
    },
    {
      "cell_type": "code",
      "metadata": {
        "id": "xDnuP6FF64Nn"
      },
      "source": [
        "# predict\n",
        "y_pred = lin_reg2.predict(X_test)"
      ],
      "execution_count": null,
      "outputs": []
    },
    {
      "cell_type": "code",
      "metadata": {
        "id": "Ri84uOEO6Lp1"
      },
      "source": [
        "# r2 score\n",
        "print('Test r2 score:', r2_score(y_test, y_pred).round(3))"
      ],
      "execution_count": null,
      "outputs": []
    },
    {
      "cell_type": "markdown",
      "metadata": {
        "id": "ClpGbH7o387a"
      },
      "source": [
        "## Let's compare our model to sklearn's model! (The moment of truth)"
      ]
    },
    {
      "cell_type": "code",
      "metadata": {
        "id": "1N96ftu6q_3l"
      },
      "source": [
        "from sklearn.linear_model import LinearRegression\n",
        "\n",
        "reg = LinearRegression().fit(X_train, y_train)\n",
        "print('Test r2 score:', reg.score(X_test, y_test).round(3))"
      ],
      "execution_count": null,
      "outputs": []
    },
    {
      "cell_type": "markdown",
      "metadata": {
        "id": "MeCLlonN8d9F"
      },
      "source": [
        "## Not too shabby, eh?\n",
        "## Next week: Guided Project - Logistic Regression\n",
        "## Stay tuned!"
      ]
    }
  ]
}