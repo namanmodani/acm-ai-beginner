{
  "nbformat": 4,
  "nbformat_minor": 0,
  "metadata": {
    "colab": {
      "name": "multiclass_classification.ipynb",
      "provenance": [],
      "collapsed_sections": [],
      "include_colab_link": true
    },
    "kernelspec": {
      "name": "python3",
      "display_name": "Python 3"
    },
    "language_info": {
      "name": "python"
    }
  },
  "cells": [
    {
      "cell_type": "markdown",
      "metadata": {
        "id": "view-in-github",
        "colab_type": "text"
      },
      "source": [
        "<a href=\"https://colab.research.google.com/github/namanmodani/acm-ai-beginner/blob/main/multiclass_classification.ipynb\" target=\"_parent\"><img src=\"https://colab.research.google.com/assets/colab-badge.svg\" alt=\"Open In Colab\"/></a>"
      ]
    },
    {
      "cell_type": "code",
      "metadata": {
        "id": "YHqbCR6H0Fb7"
      },
      "source": [
        "import numpy as np\n",
        "import matplotlib.pyplot as plt\n",
        "from sklearn.model_selection import train_test_split\n",
        "from sklearn.linear_model import LogisticRegression\n",
        "from sklearn.datasets import load_iris"
      ],
      "execution_count": null,
      "outputs": []
    },
    {
      "cell_type": "code",
      "metadata": {
        "id": "NZlxk6Zx0hIa"
      },
      "source": [
        "# load the iris dataset\n",
        "X, y = load_iris(return_X_y=True)"
      ],
      "execution_count": null,
      "outputs": []
    },
    {
      "cell_type": "code",
      "metadata": {
        "colab": {
          "base_uri": "https://localhost:8080/"
        },
        "id": "o-8Hb-Gc1alm",
        "outputId": "572ae76d-91e2-47e7-cccf-09c76ff2201e"
      },
      "source": [
        "print('X has shape:', X.shape)\n",
        "print('y has shape:', y.shape)"
      ],
      "execution_count": null,
      "outputs": [
        {
          "output_type": "stream",
          "name": "stdout",
          "text": [
            "X has shape: (150, 4)\n",
            "y has shape: (150,)\n"
          ]
        }
      ]
    },
    {
      "cell_type": "code",
      "metadata": {
        "colab": {
          "base_uri": "https://localhost:8080/"
        },
        "id": "rUCqcsPQBA2Y",
        "outputId": "972845cf-e340-4829-9a6e-b256a2717c6d"
      },
      "source": [
        "# drop the last 2 features (we'll work in 2D for now)\n",
        "X = X[:, :2]\n",
        "print('X has shape:', X.shape)"
      ],
      "execution_count": null,
      "outputs": [
        {
          "output_type": "stream",
          "name": "stdout",
          "text": [
            "X has shape: (150, 2)\n"
          ]
        }
      ]
    },
    {
      "cell_type": "markdown",
      "metadata": {
        "id": "_VkoeKYz1Iz8"
      },
      "source": [
        "# Let's tackle binary classification first"
      ]
    },
    {
      "cell_type": "code",
      "metadata": {
        "id": "Gvnw4P6J0ss3"
      },
      "source": [
        "# drop all the data that has label 2\n",
        "def convert_to_binary(X, y):\n",
        "  y01 = (y != 2)\n",
        "  X = X[y01, :]\n",
        "  y = y[y01]\n",
        "  return X, y"
      ],
      "execution_count": null,
      "outputs": []
    },
    {
      "cell_type": "code",
      "metadata": {
        "colab": {
          "base_uri": "https://localhost:8080/"
        },
        "id": "PRtK478f1uoP",
        "outputId": "b0d0338f-a16b-4a8d-dbfd-339f2417e718"
      },
      "source": [
        "X_bin, y_bin = convert_to_binary(X, y)\n",
        "print('X_bin has shape:', X_bin.shape)\n",
        "print('y_bin has shape:', y_bin.shape)"
      ],
      "execution_count": null,
      "outputs": [
        {
          "output_type": "stream",
          "name": "stdout",
          "text": [
            "X_bin has shape: (100, 2)\n",
            "y_bin has shape: (100,)\n"
          ]
        }
      ]
    },
    {
      "cell_type": "code",
      "metadata": {
        "id": "gPTEzmcX5qp-"
      },
      "source": [
        "def plot_data(X, y):\n",
        "  y0 = (y == 0)\n",
        "  y1 = (y == 1)\n",
        "  y2 = (y == 2)\n",
        "\n",
        "  plt.figure(figsize=[8, 6])\n",
        "  plt.xlabel('sepal length (cm)')\n",
        "  plt.ylabel('sepal width (cm)')\n",
        "  plt.scatter(X[y0, 0], X[y0, 1], c='b', label='Class 0')\n",
        "  plt.scatter(X[y1, 0], X[y1, 1], c='r', label='Class 1')\n",
        "  plt.scatter(X[y2, 0], X[y2, 1], c='g', label='Class 2')\n",
        "  plt.legend()"
      ],
      "execution_count": null,
      "outputs": []
    },
    {
      "cell_type": "code",
      "metadata": {
        "colab": {
          "base_uri": "https://localhost:8080/",
          "height": 390
        },
        "id": "CEk1-SCMBmFa",
        "outputId": "84a1938e-c2c0-4e73-c792-a871908fe232"
      },
      "source": [
        "# plot_data on X_bin, y_bin\n",
        "plot_data(X_bin, y_bin)"
      ],
      "execution_count": null,
      "outputs": [
        {
          "output_type": "display_data",
          "data": {
            "image/png": "[encoded data removed]",
            "text/plain": [
              "<Figure size 576x432 with 1 Axes>"
            ]
          },
          "metadata": {
            "needs_background": "light"
          }
        }
      ]
    },
    {
      "cell_type": "code",
      "metadata": {
        "id": "i_z2ZrMc6g29"
      },
      "source": [
        "# split data into train and test data\n",
        "X_train, X_test, y_train, y_test = train_test_split(X_bin, y_bin, test_size=0.2, random_state=9)"
      ],
      "execution_count": null,
      "outputs": []
    },
    {
      "cell_type": "code",
      "metadata": {
        "id": "uklUwqg87Dkj"
      },
      "source": [
        "# fit the logistic regression to X_train, y_train\n",
        "binary_model = LogisticRegression().fit(X_train, y_train)"
      ],
      "execution_count": null,
      "outputs": []
    },
    {
      "cell_type": "code",
      "metadata": {
        "colab": {
          "base_uri": "https://localhost:8080/"
        },
        "id": "-mhR1oYf7pkc",
        "outputId": "7271f7ec-ea3a-44e7-b894-fac3ac05a2fa"
      },
      "source": [
        "# print accuracy on test data\n",
        "acc = binary_model.score(X_test, y_test)\n",
        "print('Test accuracy:', acc)"
      ],
      "execution_count": null,
      "outputs": [
        {
          "output_type": "stream",
          "name": "stdout",
          "text": [
            "Test accuracy: 0.95\n"
          ]
        }
      ]
    },
    {
      "cell_type": "code",
      "metadata": {
        "colab": {
          "base_uri": "https://localhost:8080/"
        },
        "id": "hckpgCdu9NBg",
        "outputId": "79b02d12-a1bf-4f61-a30d-0d7addcb67ce"
      },
      "source": [
        "# get model weights\n",
        "binary_model.coef_"
      ],
      "execution_count": null,
      "outputs": [
        {
          "output_type": "execute_result",
          "data": {
            "text/plain": [
              "array([[ 2.88868978, -2.72919824]])"
            ]
          },
          "metadata": {},
          "execution_count": 14
        }
      ]
    },
    {
      "cell_type": "code",
      "metadata": {
        "colab": {
          "base_uri": "https://localhost:8080/"
        },
        "id": "8Abavmp39mVC",
        "outputId": "a4f3dbac-65e6-49c7-f6f7-3c88c33f5186"
      },
      "source": [
        "# get model bias\n",
        "binary_model.intercept_"
      ],
      "execution_count": null,
      "outputs": [
        {
          "output_type": "execute_result",
          "data": {
            "text/plain": [
              "array([-7.07994242])"
            ]
          },
          "metadata": {},
          "execution_count": 15
        }
      ]
    },
    {
      "cell_type": "code",
      "metadata": {
        "colab": {
          "base_uri": "https://localhost:8080/",
          "height": 406
        },
        "id": "ZOScGxRS9TQK",
        "outputId": "81383aa9-1254-4392-a04f-e01ffefd902d"
      },
      "source": [
        "# plot decision boundary of model\n",
        "plot_data(X_bin, y_bin)\n",
        "slope = - (binary_model.coef_[:, 0]/binary_model.coef_[:, 1])\n",
        "intercept = - (binary_model.intercept_[0]/binary_model.coef_[:, 1])\n",
        "X_plot = np.arange(4, 8)\n",
        "y_plot = slope * X_plot + intercept\n",
        "\n",
        "# plot X_plot, y_plot with plt.plot()\n",
        "plt.plot(X_plot, y_plot, c='black', label='decision boundary')\n",
        "plt.legend()"
      ],
      "execution_count": null,
      "outputs": [
        {
          "output_type": "execute_result",
          "data": {
            "text/plain": [
              "<matplotlib.legend.Legend at 0x7f5deca269d0>"
            ]
          },
          "metadata": {},
          "execution_count": 16
        },
        {
          "output_type": "display_data",
          "data": {
            "image/png": "[encoded data removed]",
            "text/plain": [
              "<Figure size 576x432 with 1 Axes>"
            ]
          },
          "metadata": {
            "needs_background": "light"
          }
        }
      ]
    },
    {
      "cell_type": "markdown",
      "metadata": {
        "id": "ay06URJ-AsMH"
      },
      "source": [
        "# Let's tackle multiclass classification"
      ]
    },
    {
      "cell_type": "code",
      "source": [
        "# plot data\n",
        "plot_data(X, y)"
      ],
      "metadata": {
        "colab": {
          "base_uri": "https://localhost:8080/",
          "height": 390
        },
        "id": "ZEN9SjEsaHxd",
        "outputId": "e25f7be7-3c63-4e55-e491-975ff9da1f7f"
      },
      "execution_count": null,
      "outputs": [
        {
          "output_type": "display_data",
          "data": {
            "image/png": "[encoded data removed]",
            "text/plain": [
              "<Figure size 576x432 with 1 Axes>"
            ]
          },
          "metadata": {
            "needs_background": "light"
          }
        }
      ]
    },
    {
      "cell_type": "code",
      "source": [
        "# train test split\n",
        "X_train, X_test, y_train, y_test = train_test_split(X, y, test_size=0.2, random_state=9)"
      ],
      "metadata": {
        "id": "rkAR0kO5anvp"
      },
      "execution_count": null,
      "outputs": []
    },
    {
      "cell_type": "code",
      "source": [
        "# train\n",
        "multiclass_model = LogisticRegression().fit(X_train, y_train)"
      ],
      "metadata": {
        "id": "zD-3y_tYaedH"
      },
      "execution_count": null,
      "outputs": []
    },
    {
      "cell_type": "code",
      "source": [
        "acc = multiclass_model.score(X_test, y_test)\n",
        "print('Test accuracy:', acc)"
      ],
      "metadata": {
        "colab": {
          "base_uri": "https://localhost:8080/"
        },
        "id": "c4qsS7zwbCwp",
        "outputId": "52d6136b-0f87-4fc8-996f-3e56beb2b858"
      },
      "execution_count": null,
      "outputs": [
        {
          "output_type": "stream",
          "name": "stdout",
          "text": [
            "Test accuracy: 0.9333333333333333\n"
          ]
        }
      ]
    },
    {
      "cell_type": "code",
      "source": [
        "# get model parameters\n",
        "print(f'Model weights:\\n{multiclass_model.coef_}\\n')\n",
        "print(f'Model bias:\\n{multiclass_model.intercept_}')"
      ],
      "metadata": {
        "colab": {
          "base_uri": "https://localhost:8080/"
        },
        "id": "cSvkUyGRbJl-",
        "outputId": "995e2291-208a-4147-90f1-35e317312cc8"
      },
      "execution_count": null,
      "outputs": [
        {
          "output_type": "stream",
          "name": "stdout",
          "text": [
            "Model weights:\n",
            "[[-2.50280394  2.16157087]\n",
            " [ 0.62272951 -1.44206518]\n",
            " [ 1.88007444 -0.71950568]]\n",
            "\n",
            "Model bias:\n",
            "[ 7.18105479  1.37277873 -8.55383352]\n"
          ]
        }
      ]
    },
    {
      "cell_type": "markdown",
      "source": [
        "**Pay attention to the shape of the weights and bias**"
      ],
      "metadata": {
        "id": "whByKHm8bVcg"
      }
    },
    {
      "cell_type": "code",
      "source": [
        "# visualize results\n",
        "plot_data(X, y)\n",
        "plt.xlim(4, 8)\n",
        "plt.ylim(1.9, 4.5)\n",
        "\n",
        "# Plot the decision boundary. For that, we will assign a color to each\n",
        "# point in the mesh [x_min, x_max]x[y_min, y_max].\n",
        "x_min, x_max = X[:, 0].min() - .5, X[:, 0].max() + .5\n",
        "y_min, y_max = X[:, 1].min() - .5, X[:, 1].max() + .5\n",
        "h = .02  # step size in the mesh\n",
        "xx, yy = np.meshgrid(np.arange(x_min, x_max, h), np.arange(y_min, y_max, h))\n",
        "Z = multiclass_model.predict(np.c_[xx.ravel(), yy.ravel()])\n",
        "\n",
        "# Put the result into a color plot\n",
        "Z = Z.reshape(xx.shape)\n",
        "plt.pcolormesh(xx, yy, Z, cmap=plt.cm.Paired, alpha=0.2)\n",
        "\n",
        "plt.legend()"
      ],
      "metadata": {
        "colab": {
          "base_uri": "https://localhost:8080/",
          "height": 410
        },
        "id": "OFVklyYIbOBJ",
        "outputId": "2102bca3-4a73-4eee-f4ba-e643a1ba66b7"
      },
      "execution_count": null,
      "outputs": [
        {
          "output_type": "execute_result",
          "data": {
            "text/plain": [
              "<matplotlib.legend.Legend at 0x7f5deb51b510>"
            ]
          },
          "metadata": {},
          "execution_count": 23
        },
        {
          "output_type": "display_data",
          "data": {
            "image/png": "[encoded data removed]",
            "text/plain": [
              "<Figure size 576x432 with 1 Axes>"
            ]
          },
          "metadata": {
            "needs_background": "light"
          }
        }
      ]
    },
    {
      "cell_type": "markdown",
      "source": [
        "**Unfortunately, the decision boundary is NOT able to separate the data perfectly (hence, the 90% accuracy). The main reason being the data from class 1 and class 2 are NOT linearly separable.**"
      ],
      "metadata": {
        "id": "F5bdtN_jbly3"
      }
    }
  ]
}