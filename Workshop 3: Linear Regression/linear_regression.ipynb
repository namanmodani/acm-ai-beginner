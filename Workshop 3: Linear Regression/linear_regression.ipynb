{
  "nbformat": 4,
  "nbformat_minor": 0,
  "metadata": {
    "colab": {
      "name": "linear_regression.ipynb",
      "provenance": [],
      "collapsed_sections": [],
      "include_colab_link": true
    },
    "kernelspec": {
      "name": "python3",
      "display_name": "Python 3"
    },
    "language_info": {
      "name": "python"
    }
  },
  "cells": [
    {
      "cell_type": "markdown",
      "metadata": {
        "id": "view-in-github",
        "colab_type": "text"
      },
      "source": [
        "<a href=\"https://colab.research.google.com/github/namanmodani/acm-ai-beginner/blob/main/linear_regression.ipynb\" target=\"_parent\"><img src=\"https://colab.research.google.com/assets/colab-badge.svg\" alt=\"Open In Colab\"/></a>"
      ]
    },
    {
      "cell_type": "code",
      "metadata": {
        "id": "J4lGEXuxK3Lw"
      },
      "source": [
        "# import\n",
        "import numpy as np\n",
        "from sklearn import datasets\n",
        "from sklearn.linear_model import LinearRegression\n",
        "from sklearn.model_selection import train_test_split\n",
        "from sklearn.metrics import r2_score, mean_squared_error\n",
        "import matplotlib.pyplot as plt"
      ],
      "execution_count": null,
      "outputs": []
    },
    {
      "cell_type": "markdown",
      "metadata": {
        "id": "9ebN4HScWbJB"
      },
      "source": [
        "**Data Creation and Preprocessing**"
      ]
    },
    {
      "cell_type": "code",
      "metadata": {
        "id": "QO4CLM5LLuwA"
      },
      "source": [
        "num_data = 300\n",
        "X = np.linspace(0, 50, num_data)\n",
        "noise = 15 * np.random.randn(num_data) \n",
        "y = 4 * X + 14 + noise"
      ],
      "execution_count": null,
      "outputs": []
    },
    {
      "cell_type": "code",
      "metadata": {
        "id": "GasCEr25pvzY"
      },
      "source": [
        "# Split and Preprocess Data\n",
        "X_train, X_test, y_train, y_test = train_test_split(X, y, test_size=0.2, shuffle=True) # shuffle is set to True by default\n",
        "X_train = X_train.reshape(-1, 1)\n",
        "X_test = X_test.reshape(-1, 1)"
      ],
      "execution_count": null,
      "outputs": []
    },
    {
      "cell_type": "code",
      "metadata": {
        "id": "fJoEYDGQp2Qg"
      },
      "source": [
        "# Visualize Data\n",
        "plt.scatter(X_train, y_train, color='blue', label='Training', alpha=0.5)\n",
        "plt.scatter(X_test, y_test, color='red', label='Testing', alpha=0.5)\n",
        "plt.legend()"
      ],
      "execution_count": null,
      "outputs": []
    },
    {
      "cell_type": "markdown",
      "metadata": {
        "id": "h_WlgfL9Xv-T"
      },
      "source": [
        "**Training the Model**"
      ]
    },
    {
      "cell_type": "code",
      "metadata": {
        "id": "hqrWSJtfq4NA"
      },
      "source": [
        "# Fit Model\n",
        "model = LinearRegression().fit(X_train, y_train)"
      ],
      "execution_count": null,
      "outputs": []
    },
    {
      "cell_type": "code",
      "metadata": {
        "id": "RS2KAQARsdrJ"
      },
      "source": [
        "# Check Model's Params\n",
        "print(\"Model weights: {}\".format(model.coef_))\n",
        "print(\"Model bias: {}\".format(model.intercept_))"
      ],
      "execution_count": null,
      "outputs": []
    },
    {
      "cell_type": "code",
      "metadata": {
        "id": "TaS5dJfwVIUc"
      },
      "source": [
        "# Evaluate model on test data\n",
        "r2 = model.score(X_test, y_test)\n",
        "print(\"r2 score: {}\".format(r2))"
      ],
      "execution_count": null,
      "outputs": []
    },
    {
      "cell_type": "code",
      "metadata": {
        "id": "Okk7fs6jvlyq"
      },
      "source": [
        "# Compute MSE loss on test data\n",
        "y_pred = model.predict(X_test)\n",
        "mse = mean_squared_error(y_test, y_pred)\n",
        "\n",
        "print(\"Mean Squared Error: {}\".format(mse))"
      ],
      "execution_count": null,
      "outputs": []
    },
    {
      "cell_type": "code",
      "metadata": {
        "id": "A3cdCT-vtcQO"
      },
      "source": [
        "# Plot best fit line\n",
        "plt.scatter(X_train, y_train, color='c', label='Training', alpha=0.5)\n",
        "plt.scatter(X_test, y_test, color='royalblue', label='Testing', alpha=0.5)\n",
        "X_axis = np.linspace(0, 50, num_data).reshape(-1, 1)\n",
        "y_axis = model.predict(X_axis)\n",
        "plt.plot(X_axis, y_axis, color='red', label='Fit')\n",
        "plt.legend()"
      ],
      "execution_count": null,
      "outputs": []
    },
    {
      "cell_type": "markdown",
      "metadata": {
        "id": "8GInqyZ3xLRa"
      },
      "source": [
        "**Real Dataset with Higher Dimensions Example (Feel free to skip if running short on time)**"
      ]
    },
    {
      "cell_type": "code",
      "metadata": {
        "id": "KLrBuuintld6"
      },
      "source": [
        "# Load Dataset\n",
        "diabetes_X, diabetes_y = datasets.load_diabetes(return_X_y=True)"
      ],
      "execution_count": null,
      "outputs": []
    },
    {
      "cell_type": "code",
      "metadata": {
        "id": "6vNYjJSwtqDs"
      },
      "source": [
        "# Split Data\n",
        "X_train, X_test, y_train, y_test = train_test_split(diabetes_X, diabetes_y, test_size=0.2, shuffle=True)"
      ],
      "execution_count": null,
      "outputs": []
    },
    {
      "cell_type": "code",
      "metadata": {
        "id": "bb0pm7Onx4-S"
      },
      "source": [
        "# Fit Model\n",
        "diabetes_model = LinearRegression().fit(X_train, y_train)"
      ],
      "execution_count": null,
      "outputs": []
    },
    {
      "cell_type": "code",
      "metadata": {
        "id": "V7cLu2JlyXtQ"
      },
      "source": [
        "# Check Model's Params\n",
        "print(\"Model weights: {}\".format(diabetes_model.coef_))\n",
        "print(\"Model bias: {}\".format(diabetes_model.intercept_))"
      ],
      "execution_count": null,
      "outputs": []
    },
    {
      "cell_type": "code",
      "metadata": {
        "id": "gGy54oZzywei"
      },
      "source": [
        "# Evaluate model on test data\n",
        "diabetes_r2 = diabetes_model.score(X_test, y_test)\n",
        "print(\"r2 score: {}\".format(diabetes_r2))"
      ],
      "execution_count": null,
      "outputs": []
    },
    {
      "cell_type": "code",
      "metadata": {
        "id": "qOPniSZJzAfj"
      },
      "source": [
        "# Compute MSE loss on test data\n",
        "diabetes_pred = diabetes_model.predict(X_test)\n",
        "diabetes_mse = mean_squared_error(y_test, diabetes_pred)\n",
        "print(\"Mean Squared Error: {}\".format(diabetes_mse))"
      ],
      "execution_count": null,
      "outputs": []
    },
    {
      "cell_type": "markdown",
      "metadata": {
        "id": "mfZGAyd2z0I5"
      },
      "source": [
        "**Extension: If you want to try this out more, consider only looking at one of the ten input variables from this dataset. Then, you can plot the regression and get a picture of why this dataset isn't the best for linear regression.**\n"
      ]
    },
    {
      "cell_type": "code",
      "metadata": {
        "id": "LgUkeY8yij16"
      },
      "source": [
        ""
      ],
      "execution_count": null,
      "outputs": []
    }
  ]
}