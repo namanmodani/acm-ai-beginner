{
  "nbformat": 4,
  "nbformat_minor": 0,
  "metadata": {
    "colab": {
      "name": "Intro to Python",
      "provenance": [],
      "collapsed_sections": [],
      "include_colab_link": true
    },
    "kernelspec": {
      "name": "python3",
      "display_name": "Python 3"
    },
    "language_info": {
      "name": "python"
    }
  },
  "cells": [
    {
      "cell_type": "markdown",
      "metadata": {
        "id": "view-in-github",
        "colab_type": "text"
      },
      "source": [
        "<a href=\"https://colab.research.google.com/github/namanmodani/acm-ai-beginner/blob/main/intro.ipynb\" target=\"_parent\"><img src=\"https://colab.research.google.com/assets/colab-badge.svg\" alt=\"Open In Colab\"/></a>"
      ]
    },
    {
      "cell_type": "markdown",
      "metadata": {
        "id": "yqff7ldmtyJX"
      },
      "source": [
        "## Data Types and Operations"
      ]
    },
    {
      "cell_type": "markdown",
      "metadata": {
        "id": "NQtdGuhYtyJL"
      },
      "source": [
        "# ACM AI Beginner Track\n",
        "## Intro to Python Code Documentation\n",
        "This document serves as reference material for the Beginner Track workshop \"Intro to Python\". While it shouldn't be treated as a comprehensive introduction to Python (a very versatile and powerful programming language!) it contains the necessary material needed for AI's Beginner Track workshop and a bit more\n",
        "\n",
        "This notebook has lots and lots of information and you can use it as a guide to Python throughout this workshop series. We won't be using all of the functionality described in this doc for our projects, but they're still useful to know nonetheless for future projects! \n",
        "\n",
        "Lastly, during this live demo we're going to be covering the parts of the python syntax that are unique to python and skipping over some of the simpler bits of syntax. But feel free to refer back to this doc in case something is unclear!"
      ]
    },
    {
      "cell_type": "markdown",
      "metadata": {
        "id": "ZuDMq4Ksy3QF"
      },
      "source": [
        "How would we do Math?"
      ]
    },
    {
      "cell_type": "markdown",
      "metadata": {
        "id": "XhRThA52tyJa"
      },
      "source": [
        "### Integers and Floats"
      ]
    },
    {
      "cell_type": "code",
      "metadata": {
        "colab": {
          "base_uri": "https://localhost:8080/"
        },
        "id": "IDNEIkKr6DAX",
        "outputId": "02742a4f-86f5-46a6-d65b-13d81144b243"
      },
      "source": [
        "8 + 2"
      ],
      "execution_count": null,
      "outputs": [
        {
          "output_type": "execute_result",
          "data": {
            "text/plain": [
              "10"
            ]
          },
          "metadata": {},
          "execution_count": 1
        }
      ]
    },
    {
      "cell_type": "code",
      "metadata": {
        "id": "KM09YgnEtyJf",
        "colab": {
          "base_uri": "https://localhost:8080/"
        },
        "outputId": "29411b29-46e2-4d8c-8956-5191662bec97"
      },
      "source": [
        "# Addition\n",
        "8 + 2"
      ],
      "execution_count": null,
      "outputs": [
        {
          "output_type": "execute_result",
          "data": {
            "text/plain": [
              "10"
            ]
          },
          "metadata": {},
          "execution_count": 2
        }
      ]
    },
    {
      "cell_type": "code",
      "metadata": {
        "id": "ILdV42G3tyJ2",
        "colab": {
          "base_uri": "https://localhost:8080/"
        },
        "outputId": "d3aabfad-d471-493a-cb44-7b2e6937aaea"
      },
      "source": [
        "# Multiplication\n",
        "# this multiplies 3 times 2\n",
        "3 * 2"
      ],
      "execution_count": null,
      "outputs": [
        {
          "output_type": "execute_result",
          "data": {
            "text/plain": [
              "6"
            ]
          },
          "metadata": {},
          "execution_count": 3
        }
      ]
    },
    {
      "cell_type": "code",
      "metadata": {
        "id": "G1H9GQ2etyKG",
        "colab": {
          "base_uri": "https://localhost:8080/"
        },
        "outputId": "e8d61308-168c-4faa-db50-18c0e6251c66"
      },
      "source": [
        "# Subtraction\n",
        "5 - 9"
      ],
      "execution_count": null,
      "outputs": [
        {
          "output_type": "execute_result",
          "data": {
            "text/plain": [
              "-4"
            ]
          },
          "metadata": {},
          "execution_count": 4
        }
      ]
    },
    {
      "cell_type": "code",
      "metadata": {
        "id": "kfR1ASurtyKd",
        "colab": {
          "base_uri": "https://localhost:8080/"
        },
        "outputId": "c602621f-fbfe-4a48-df15-4bbc86d90de5"
      },
      "source": [
        "# Modulo \n",
        "10 % 3"
      ],
      "execution_count": null,
      "outputs": [
        {
          "output_type": "execute_result",
          "data": {
            "text/plain": [
              "1"
            ]
          },
          "metadata": {},
          "execution_count": 5
        }
      ]
    },
    {
      "cell_type": "code",
      "metadata": {
        "id": "D08L3g98tyKT",
        "colab": {
          "base_uri": "https://localhost:8080/"
        },
        "outputId": "8ee7263e-1b79-4944-f38e-36250c0ee3be"
      },
      "source": [
        "## Division\n",
        "5 / 6"
      ],
      "execution_count": null,
      "outputs": [
        {
          "output_type": "execute_result",
          "data": {
            "text/plain": [
              "0.8333333333333334"
            ]
          },
          "metadata": {},
          "execution_count": 6
        }
      ]
    },
    {
      "cell_type": "code",
      "metadata": {
        "id": "aHBhww7kx-PS",
        "colab": {
          "base_uri": "https://localhost:8080/"
        },
        "outputId": "3f5d5999-92ff-46a7-a1d1-67cf18ef68f9"
      },
      "source": [
        "## Integer Division\n",
        "5//6"
      ],
      "execution_count": null,
      "outputs": [
        {
          "output_type": "execute_result",
          "data": {
            "text/plain": [
              "0"
            ]
          },
          "metadata": {},
          "execution_count": 7
        }
      ]
    },
    {
      "cell_type": "code",
      "metadata": {
        "id": "8_NP1sHktyLH",
        "colab": {
          "base_uri": "https://localhost:8080/"
        },
        "outputId": "beb86a68-3084-4adc-f554-5015c111c87d"
      },
      "source": [
        "## Exponentiation \n",
        "2**5"
      ],
      "execution_count": null,
      "outputs": [
        {
          "output_type": "execute_result",
          "data": {
            "text/plain": [
              "32"
            ]
          },
          "metadata": {},
          "execution_count": 8
        }
      ]
    },
    {
      "cell_type": "markdown",
      "metadata": {
        "id": "cELUmB_7zAFB"
      },
      "source": [
        "I just came up with a cool number, how do I save it?"
      ]
    },
    {
      "cell_type": "markdown",
      "metadata": {
        "id": "2GqfoemptyLU"
      },
      "source": [
        "### Variables\n",
        "Variables cannot begin with numbers or special characters. Variable naming conventions use all lowercase letters, with words separated by underscores."
      ]
    },
    {
      "cell_type": "code",
      "metadata": {
        "id": "Di_nGdgBtyLW",
        "colab": {
          "base_uri": "https://localhost:8080/"
        },
        "outputId": "a0565e60-3822-4023-ccf4-778048e952fb"
      },
      "source": [
        "variable = 2\n",
        "variable"
      ],
      "execution_count": null,
      "outputs": [
        {
          "output_type": "execute_result",
          "data": {
            "text/plain": [
              "2"
            ]
          },
          "metadata": {},
          "execution_count": 9
        }
      ]
    },
    {
      "cell_type": "code",
      "metadata": {
        "id": "9U7f1D0ktyLf",
        "colab": {
          "base_uri": "https://localhost:8080/"
        },
        "outputId": "4a399f94-0f5a-4a43-cea5-01329ab9e418"
      },
      "source": [
        "first_prime_number = 2\n",
        "second_prime_number = first_prime_number + 1\n",
        "first_prime_number = 3\n",
        "second_prime_number"
      ],
      "execution_count": null,
      "outputs": [
        {
          "output_type": "execute_result",
          "data": {
            "text/plain": [
              "3"
            ]
          },
          "metadata": {},
          "execution_count": 10
        }
      ]
    },
    {
      "cell_type": "code",
      "metadata": {
        "id": "WOSg9YkktyLx",
        "colab": {
          "base_uri": "https://localhost:8080/",
          "height": 184
        },
        "outputId": "53b22947-0671-4554-f020-f848390ae419"
      },
      "source": [
        "y = x + 2\n",
        "y"
      ],
      "execution_count": null,
      "outputs": [
        {
          "output_type": "error",
          "ename": "NameError",
          "evalue": "ignored",
          "traceback": [
            "\u001b[0;31m---------------------------------------------------------------------------\u001b[0m",
            "\u001b[0;31mNameError\u001b[0m                                 Traceback (most recent call last)",
            "\u001b[0;32m<ipython-input-11-ab2713d5275c>\u001b[0m in \u001b[0;36m<module>\u001b[0;34m()\u001b[0m\n\u001b[0;32m----> 1\u001b[0;31m \u001b[0my\u001b[0m \u001b[0;34m=\u001b[0m \u001b[0mx\u001b[0m \u001b[0;34m+\u001b[0m \u001b[0;36m2\u001b[0m\u001b[0;34m\u001b[0m\u001b[0;34m\u001b[0m\u001b[0m\n\u001b[0m\u001b[1;32m      2\u001b[0m \u001b[0my\u001b[0m\u001b[0;34m\u001b[0m\u001b[0;34m\u001b[0m\u001b[0m\n",
            "\u001b[0;31mNameError\u001b[0m: name 'x' is not defined"
          ]
        }
      ]
    },
    {
      "cell_type": "code",
      "metadata": {
        "id": "ey61zD_Gyybe"
      },
      "source": [
        "## Initialize x as 3\n",
        "x = 3"
      ],
      "execution_count": null,
      "outputs": []
    },
    {
      "cell_type": "markdown",
      "metadata": {
        "id": "9qrsqz3gyoba"
      },
      "source": [
        "Note that Google Colab notebooks preserve the state of the variables. \n",
        "Try running the cell below twice and see what the output is\n"
      ]
    },
    {
      "cell_type": "code",
      "metadata": {
        "id": "6jzQYBnuyXfi",
        "colab": {
          "base_uri": "https://localhost:8080/"
        },
        "outputId": "8043dd11-c5a6-4787-c6f0-1e3cca88dc8e"
      },
      "source": [
        "x = x+1\n",
        "print(x)        # what do you think the output will be?"
      ],
      "execution_count": null,
      "outputs": [
        {
          "output_type": "stream",
          "text": [
            "6\n"
          ],
          "name": "stdout"
        }
      ]
    },
    {
      "cell_type": "markdown",
      "metadata": {
        "id": "alDmD7JbzEk2"
      },
      "source": [
        "I want to send my friend a message, how do I store the text?\n"
      ]
    },
    {
      "cell_type": "markdown",
      "metadata": {
        "id": "gwt5KfPwtyMA"
      },
      "source": [
        "### Strings\n",
        "Python makes use of single and double quotes."
      ]
    },
    {
      "cell_type": "code",
      "metadata": {
        "id": "WZhlJGBYtyMC"
      },
      "source": [
        "## Double and single quotes can be used interchangeably most of the time.\n",
        "string = 'Hello, World!'\n",
        "another_string = \"This works too.\""
      ],
      "execution_count": null,
      "outputs": []
    },
    {
      "cell_type": "code",
      "metadata": {
        "id": "pHCnHZFatyMN",
        "colab": {
          "base_uri": "https://localhost:8080/",
          "height": 36
        },
        "outputId": "eb3a3cfd-a445-4e2a-e6b0-b1eb6ad66109"
      },
      "source": [
        "# You need to use double quotes when you have single quotes in your string.\n",
        "yet_another_string = \"Can't use single quotes when you already have them in a string!\"\n",
        "yet_another_string"
      ],
      "execution_count": null,
      "outputs": [
        {
          "output_type": "execute_result",
          "data": {
            "application/vnd.google.colaboratory.intrinsic+json": {
              "type": "string"
            },
            "text/plain": [
              "\"Can't use single quotes when you already have them in a string!\""
            ]
          },
          "metadata": {
            "tags": []
          },
          "execution_count": 30
        }
      ]
    },
    {
      "cell_type": "markdown",
      "metadata": {
        "id": "w9fpcDR-zJ8T"
      },
      "source": [
        "How would I get the computer to display my name?"
      ]
    },
    {
      "cell_type": "markdown",
      "metadata": {
        "id": "t_iz-2obtyMd"
      },
      "source": [
        "### Printing \n",
        "The main way to ouput data in Python."
      ]
    },
    {
      "cell_type": "code",
      "metadata": {
        "id": "qV4APqO2tyMf"
      },
      "source": [
        "## print(value to be printed)\n",
        "\n",
        "num = 17 "
      ],
      "execution_count": null,
      "outputs": []
    },
    {
      "cell_type": "code",
      "metadata": {
        "id": "5mWpQalQtyMt",
        "colab": {
          "base_uri": "https://localhost:8080/"
        },
        "outputId": "f7254b9c-e3bc-4fb8-d779-6461446ee4a7"
      },
      "source": [
        "name = \"George\"\n",
        "print(name)"
      ],
      "execution_count": null,
      "outputs": [
        {
          "output_type": "stream",
          "text": [
            "George\n"
          ],
          "name": "stdout"
        }
      ]
    },
    {
      "cell_type": "code",
      "metadata": {
        "id": "ttq_hjUQtyM6",
        "colab": {
          "base_uri": "https://localhost:8080/"
        },
        "outputId": "6cd3efb3-894a-4c10-f798-1abd01729789"
      },
      "source": [
        "print(\"My name is {} and I'm {} years old.\".format(name, num))"
      ],
      "execution_count": null,
      "outputs": [
        {
          "output_type": "stream",
          "text": [
            "My name is George and I'm 17 years old.\n"
          ],
          "name": "stdout"
        }
      ]
    },
    {
      "cell_type": "markdown",
      "metadata": {
        "id": "KTg6FqLczNc4"
      },
      "source": [
        "How would I store multiple values in one spot?"
      ]
    },
    {
      "cell_type": "markdown",
      "metadata": {
        "id": "X2F8lQxVtyNE"
      },
      "source": [
        "### Lists\n",
        "Lists are containers for data."
      ]
    },
    {
      "cell_type": "code",
      "metadata": {
        "id": "4II3hh5RtyNF"
      },
      "source": [
        "# Lists are enclosed in square brackets \n",
        "my_list = [5, 10, 15, 20, 25]"
      ],
      "execution_count": null,
      "outputs": []
    },
    {
      "cell_type": "code",
      "metadata": {
        "id": "CR0nlZCztyNV",
        "colab": {
          "base_uri": "https://localhost:8080/"
        },
        "outputId": "fadf3b6e-e01e-42d3-8758-b9992b57534a"
      },
      "source": [
        "# You can have different data types in a list.\n",
        "['string', 8, 5.91]"
      ],
      "execution_count": null,
      "outputs": [
        {
          "output_type": "execute_result",
          "data": {
            "text/plain": [
              "['string', 8, 5.91]"
            ]
          },
          "metadata": {
            "tags": []
          },
          "execution_count": 7
        }
      ]
    },
    {
      "cell_type": "code",
      "metadata": {
        "id": "3SGQ65ZqtyNg",
        "colab": {
          "base_uri": "https://localhost:8080/"
        },
        "outputId": "0c7d8768-3a2a-4975-8b81-027afaa562e5"
      },
      "source": [
        "# You can also have nested lists.\n",
        "numbers = [1, [2, 3, 4], 5, [6, [7, 8]], 9]\n",
        "numbers"
      ],
      "execution_count": null,
      "outputs": [
        {
          "output_type": "execute_result",
          "data": {
            "text/plain": [
              "[1, [2, 3, 4], 5, [6, [7, 8]], 9]"
            ]
          },
          "metadata": {
            "tags": []
          },
          "execution_count": 8
        }
      ]
    },
    {
      "cell_type": "code",
      "metadata": {
        "id": "_UpbqrmptyNm",
        "colab": {
          "base_uri": "https://localhost:8080/"
        },
        "outputId": "3dfda166-97ea-4864-a010-9d7bb7494397"
      },
      "source": [
        "numbers.append(10)\n",
        "numbers"
      ],
      "execution_count": null,
      "outputs": [
        {
          "output_type": "execute_result",
          "data": {
            "text/plain": [
              "[1, [2, 3, 4], 5, [6, [7, 8]], 9, 10, 10, 10]"
            ]
          },
          "metadata": {
            "tags": []
          },
          "execution_count": 11
        }
      ]
    },
    {
      "cell_type": "markdown",
      "metadata": {
        "id": "IoRQYpHI2zI6"
      },
      "source": [
        "How do I access the info I just stored?\n"
      ]
    },
    {
      "cell_type": "code",
      "metadata": {
        "id": "qGqrJv5gtyNy",
        "colab": {
          "base_uri": "https://localhost:8080/"
        },
        "outputId": "3120a348-3708-4e2e-9d15-c11d7c7549e4"
      },
      "source": [
        "# You can index lists using bracket notation. Indexing begins at 0.\n",
        "numbers[0]"
      ],
      "execution_count": null,
      "outputs": [
        {
          "output_type": "execute_result",
          "data": {
            "text/plain": [
              "1"
            ]
          },
          "metadata": {
            "tags": []
          },
          "execution_count": 12
        }
      ]
    },
    {
      "cell_type": "code",
      "metadata": {
        "id": "8w5MOf1ltyN5",
        "colab": {
          "base_uri": "https://localhost:8080/"
        },
        "outputId": "c31f1cc7-3409-431f-f58c-f88b1971140a"
      },
      "source": [
        "numbers[1]"
      ],
      "execution_count": null,
      "outputs": [
        {
          "output_type": "execute_result",
          "data": {
            "text/plain": [
              "[2, 3, 4]"
            ]
          },
          "metadata": {
            "tags": []
          },
          "execution_count": 13
        }
      ]
    },
    {
      "cell_type": "code",
      "metadata": {
        "id": "COuiSU7JtyOG",
        "colab": {
          "base_uri": "https://localhost:8080/"
        },
        "outputId": "82be498c-b7ad-42e0-a828-06214b28d2c0"
      },
      "source": [
        "numbers[3][1][0]        # what do you think the output will be?"
      ],
      "execution_count": null,
      "outputs": [
        {
          "output_type": "execute_result",
          "data": {
            "text/plain": [
              "7"
            ]
          },
          "metadata": {
            "tags": []
          },
          "execution_count": 14
        }
      ]
    },
    {
      "cell_type": "code",
      "metadata": {
        "id": "ecDmCKcA6tLy"
      },
      "source": [
        "my_list = [5, 10, 15, 20, 25]"
      ],
      "execution_count": null,
      "outputs": []
    },
    {
      "cell_type": "code",
      "metadata": {
        "id": "aotNCdqP6w4X",
        "colab": {
          "base_uri": "https://localhost:8080/"
        },
        "outputId": "72b196aa-d998-4c5e-e059-1de97de0a46a"
      },
      "source": [
        "# list[start_index(inclusive) : end_index (not inclusive)]\n",
        "my_list[1:4]"
      ],
      "execution_count": null,
      "outputs": [
        {
          "output_type": "execute_result",
          "data": {
            "text/plain": [
              "[10, 15, 20]"
            ]
          },
          "metadata": {
            "tags": []
          },
          "execution_count": 16
        }
      ]
    },
    {
      "cell_type": "code",
      "metadata": {
        "id": "SMwZlJ8ZtyOP",
        "colab": {
          "base_uri": "https://localhost:8080/"
        },
        "outputId": "d7d7d90f-00d8-4c96-bfc8-965818b2d2fa"
      },
      "source": [
        "# This grabs all elements at position 3 and onwards.\n",
        "my_list[3:]"
      ],
      "execution_count": null,
      "outputs": [
        {
          "output_type": "execute_result",
          "data": {
            "text/plain": [
              "[20, 25]"
            ]
          },
          "metadata": {
            "tags": []
          },
          "execution_count": 17
        }
      ]
    },
    {
      "cell_type": "code",
      "metadata": {
        "id": "GgYtc3yotyOW",
        "colab": {
          "base_uri": "https://localhost:8080/"
        },
        "outputId": "e7261164-a754-4b9b-c9f7-8021385e577f"
      },
      "source": [
        "# This grabs all elements from the start until, but not including potition 2.\n",
        "my_list[:2]"
      ],
      "execution_count": null,
      "outputs": [
        {
          "output_type": "execute_result",
          "data": {
            "text/plain": [
              "[5, 10]"
            ]
          },
          "metadata": {
            "tags": []
          },
          "execution_count": 18
        }
      ]
    },
    {
      "cell_type": "code",
      "metadata": {
        "id": "pB9uG0hCtyOm",
        "colab": {
          "base_uri": "https://localhost:8080/"
        },
        "outputId": "24ce6c3b-6e69-4c4f-e589-6b786bbf9a31"
      },
      "source": [
        "# You can also reassign elements in a list.\n",
        "numbers[0] = 'one'\n",
        "numbers"
      ],
      "execution_count": null,
      "outputs": [
        {
          "output_type": "execute_result",
          "data": {
            "text/plain": [
              "['one', [2, 3, 4], 5, [6, [7, 8]], 9, 10, 10, 10]"
            ]
          },
          "metadata": {
            "tags": []
          },
          "execution_count": 19
        }
      ]
    },
    {
      "cell_type": "markdown",
      "metadata": {
        "id": "U4cWbR6WzXLG"
      },
      "source": [
        "I want to carry an umbrella if it is raining outside"
      ]
    },
    {
      "cell_type": "markdown",
      "metadata": {
        "id": "ArhyaIuhtyQN"
      },
      "source": [
        "## if, elif and else Statements"
      ]
    },
    {
      "cell_type": "code",
      "metadata": {
        "id": "Q9QHwBDmzi80"
      },
      "source": [
        "raining = None \n",
        "if raining==True:\n",
        "  print(\"Carry an umbrella\")\n",
        "else: \n",
        "  print(\"It's sunny outside\")"
      ],
      "execution_count": null,
      "outputs": []
    },
    {
      "cell_type": "markdown",
      "metadata": {
        "id": "rw2QYpYgzvy2"
      },
      "source": [
        "Do I have enough meal swipes to enter the dining hall?"
      ]
    },
    {
      "cell_type": "code",
      "metadata": {
        "id": "zLgaHu8kztln"
      },
      "source": [
        "swipes = None \n",
        "if swipes > 1: \n",
        "  print(\"Enter dining hall\")\n",
        "else: \n",
        "  print(\"Check out the vending machines\")"
      ],
      "execution_count": null,
      "outputs": []
    },
    {
      "cell_type": "markdown",
      "metadata": {
        "id": "k__Z_WHdz8FQ"
      },
      "source": [
        "Can I go to the UCLA v USC football game? \n",
        "\n"
      ]
    },
    {
      "cell_type": "code",
      "metadata": {
        "id": "5T6rQnvUz7MZ"
      },
      "source": [
        "have_a_ticket = None \n",
        "have_a_ride = None \n",
        "if have_a_ticket == True and have_a_ride == True:\n",
        "  print(\"Go Bruins!!\")\n",
        "elif have_a_ticket == True and have_a_ride == False:\n",
        "  print(\"Hitchhike?\")\n",
        "elif have_a_ticket == False and have_a_ride== True: \n",
        "  print(\"Tailgating is still fun?\")\n",
        "else:\n",
        "  print(\"Time to review your TV subscription :(\")\n",
        "  "
      ],
      "execution_count": null,
      "outputs": []
    },
    {
      "cell_type": "markdown",
      "metadata": {
        "id": "knKfw9et04Ke"
      },
      "source": [
        "I want to print out the UCLA chant: <br> U - C - L - A. <br> UCLA. <br> FIGHT FIGHT FIGHT."
      ]
    },
    {
      "cell_type": "markdown",
      "metadata": {
        "id": "aEUQLOGYtyQd"
      },
      "source": [
        "## For Loops"
      ]
    },
    {
      "cell_type": "code",
      "metadata": {
        "colab": {
          "base_uri": "https://localhost:8080/"
        },
        "id": "7k1Khdzv1Ek1",
        "outputId": "9f0369a5-1f0e-4864-c2eb-5db22a3606a0"
      },
      "source": [
        "print(\"U - C - L - A\")\n",
        "print(\"UCLA. \")\n",
        "for _ in range(3):\n",
        "  print(\"FIGHT\")"
      ],
      "execution_count": null,
      "outputs": [
        {
          "output_type": "stream",
          "name": "stdout",
          "text": [
            "U - C - L - A\n",
            "UCLA. \n",
            "FIGHT\n",
            "FIGHT\n",
            "FIGHT\n"
          ]
        }
      ]
    },
    {
      "cell_type": "markdown",
      "metadata": {
        "id": "unWzZlTy1f9T"
      },
      "source": [
        "I want to print out the list of classes I'm enrolled in"
      ]
    },
    {
      "cell_type": "code",
      "metadata": {
        "colab": {
          "base_uri": "https://localhost:8080/"
        },
        "id": "T6xW-76R1fX5",
        "outputId": "61c747ea-7c2e-4182-e714-eea53f3cc60d"
      },
      "source": [
        "classes = [\"CS31\", \"Engcomp 3\", \"Math 31A\"]\n",
        "for c in classes: \n",
        "  print(c)"
      ],
      "execution_count": null,
      "outputs": [
        {
          "output_type": "stream",
          "name": "stdout",
          "text": [
            "CS31\n",
            "Engcomp 3\n",
            "Math 31A\n"
          ]
        }
      ]
    },
    {
      "cell_type": "markdown",
      "metadata": {
        "id": "SoAt1k4w2Ou3"
      },
      "source": [
        "I wrote a really nice piece of code to print out my name 5 times. <br>\n",
        "My friend wants to also print out their name 5 times. <br>\n",
        "Should I just copy-paste my code? "
      ]
    },
    {
      "cell_type": "markdown",
      "metadata": {
        "id": "XtvGbnaNtyRO"
      },
      "source": [
        "## Functions"
      ]
    },
    {
      "cell_type": "code",
      "metadata": {
        "colab": {
          "base_uri": "https://localhost:8080/"
        },
        "id": "-p6M0nwu2LAi",
        "outputId": "0e7faf16-8834-4c6d-a99a-92b14d0a5d33"
      },
      "source": [
        "def print_name(name):\n",
        "  for i in range(5):\n",
        "    print(name)\n",
        "  \n",
        "print_name(\"Nikhil\")\n",
        "print_name(\"Sudhanshu\")"
      ],
      "execution_count": null,
      "outputs": [
        {
          "output_type": "stream",
          "name": "stdout",
          "text": [
            "Nikhil\n",
            "Nikhil\n",
            "Nikhil\n",
            "Nikhil\n",
            "Nikhil\n",
            "Sudhanshu\n",
            "Sudhanshu\n",
            "Sudhanshu\n",
            "Sudhanshu\n",
            "Sudhanshu\n"
          ]
        }
      ]
    },
    {
      "cell_type": "code",
      "metadata": {
        "id": "AJzVMHCBvbsK"
      },
      "source": [
        "# If you're looking for some extra problems to test out your knowledge, check out this worksheet!\n",
        "# https://drive.google.com/file/d/1QNRb4aZ_0Bk_nGoosZipVNVywakJJWM_/view?usp=sharing\n",
        "# https://drive.google.com/drive/u/1/folders/1WnBsZZ2SNN3YfLM8ysgxrI-Ge6IJ-GSu"
      ],
      "execution_count": null,
      "outputs": []
    }
  ]
}