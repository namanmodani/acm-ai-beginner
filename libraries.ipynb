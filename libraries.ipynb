{
  "nbformat": 4,
  "nbformat_minor": 0,
  "metadata": {
    "colab": {
      "name": "libraries.ipynb",
      "provenance": [],
      "collapsed_sections": [],
      "include_colab_link": true
    },
    "kernelspec": {
      "name": "python3",
      "display_name": "Python 3"
    },
    "language_info": {
      "name": "python"
    }
  },
  "cells": [
    {
      "cell_type": "markdown",
      "metadata": {
        "id": "view-in-github",
        "colab_type": "text"
      },
      "source": [
        "<a href=\"https://colab.research.google.com/github/namanmodani/acm-ai-beginner/blob/main/libraries.ipynb\" target=\"_parent\"><img src=\"https://colab.research.google.com/assets/colab-badge.svg\" alt=\"Open In Colab\"/></a>"
      ]
    },
    {
      "cell_type": "markdown",
      "metadata": {
        "id": "N0RmHRhRiH-C"
      },
      "source": [
        "# **Intro to NumPy**\n",
        "NumPy is one of the most popular libraries in Python for data science and machine learning. Let's begin by importing the NumPy module to our notebook. \\\\\n",
        "**API reference**: https://numpy.org/doc/stable/reference/index.html"
      ]
    },
    {
      "cell_type": "code",
      "metadata": {
        "id": "nvlptMX3ieSE"
      },
      "source": [
        "import numpy as np"
      ],
      "execution_count": null,
      "outputs": []
    },
    {
      "cell_type": "markdown",
      "metadata": {
        "id": "gxz-jTt6j7d3"
      },
      "source": [
        "# What is a NumPy Array?\n",
        "NumPy provides an N-dimensional array type, the ndarray, which describes a collection of “items” of the same type. The items can be indexed using for example N integers. In NumPy dimensions are called axes. \\\\\n",
        "**Further reading**: https://numpy.org/doc/stable/reference/arrays.html"
      ]
    },
    {
      "cell_type": "markdown",
      "metadata": {
        "id": "DDSi-1Zojy1N"
      },
      "source": [
        "# Creating NumPy Arrays\n",
        "There are several ways to create arrays. Let's create one by using the `array` function. \\\\\n",
        "Notice that it takes a list as its parameter."
      ]
    },
    {
      "cell_type": "code",
      "metadata": {
        "colab": {
          "base_uri": "https://localhost:8080/"
        },
        "id": "iMHrBB61jcfE",
        "outputId": "e1b75457-3c16-42ef-d8a8-931912fcf050"
      },
      "source": [
        "# create a numpy array\n",
        "first_arr = np.array([1,2,3])\n",
        "first_arr.shape"
      ],
      "execution_count": null,
      "outputs": [
        {
          "output_type": "execute_result",
          "data": {
            "text/plain": [
              "(3,)"
            ]
          },
          "metadata": {},
          "execution_count": 7
        }
      ]
    },
    {
      "cell_type": "markdown",
      "metadata": {
        "id": "6tmOM1DdnoIg"
      },
      "source": [
        "We can create a 2D array by passing in a nested list."
      ]
    },
    {
      "cell_type": "code",
      "metadata": {
        "colab": {
          "base_uri": "https://localhost:8080/"
        },
        "id": "77Rysl6Rj-9l",
        "outputId": "f12104c4-f2aa-4577-9a78-7f8ae452bae6"
      },
      "source": [
        "# create a 2D numpy array\n",
        "arr2 = np.array([[1,2, 3], [10, 14, -5]])\n",
        "arr2.shape"
      ],
      "execution_count": null,
      "outputs": [
        {
          "output_type": "execute_result",
          "data": {
            "text/plain": [
              "(2, 3)"
            ]
          },
          "metadata": {},
          "execution_count": 5
        }
      ]
    },
    {
      "cell_type": "markdown",
      "metadata": {
        "id": "EwddAtaInvRv"
      },
      "source": [
        "**Exercise**: Create a 1x3 Numpy array containing any values of your choice."
      ]
    },
    {
      "cell_type": "code",
      "metadata": {
        "id": "5AEcGFOaYg9h",
        "colab": {
          "base_uri": "https://localhost:8080/"
        },
        "outputId": "16555d05-35a9-4fee-ca15-a3ee46ebf2a3"
      },
      "source": [
        "### Type your answer here ###\n"
      ],
      "execution_count": null,
      "outputs": [
        {
          "output_type": "execute_result",
          "data": {
            "text/plain": [
              "(1, 3)"
            ]
          },
          "metadata": {},
          "execution_count": 6
        }
      ]
    },
    {
      "cell_type": "markdown",
      "metadata": {
        "id": "pyF990Kv1TIW"
      },
      "source": [
        "# Basic Operations\n",
        "Arithmetic operators on arrays apply elementwise. A new array is created and filled with the result. Here are some examples:"
      ]
    },
    {
      "cell_type": "code",
      "metadata": {
        "colab": {
          "base_uri": "https://localhost:8080/"
        },
        "id": "Di6OpEWD1R_7",
        "outputId": "4a8deeac-2fa4-4a30-d4e1-c8dad818071f"
      },
      "source": [
        "a = np.array([20, 30, 40, 50])\n",
        "b = np.array([1, 2, 3, 4])\n",
        "b"
      ],
      "execution_count": null,
      "outputs": [
        {
          "output_type": "execute_result",
          "data": {
            "text/plain": [
              "array([1, 2, 3, 4])"
            ]
          },
          "metadata": {},
          "execution_count": 9
        }
      ]
    },
    {
      "cell_type": "code",
      "metadata": {
        "colab": {
          "base_uri": "https://localhost:8080/"
        },
        "id": "O0l-5E3q2SMF",
        "outputId": "dc716e51-c64a-484b-811c-b1adcdeee32c"
      },
      "source": [
        "# addition\n",
        "a + b\n",
        "c = np.array([5, 6, 7, 8])\n",
        "a + c"
      ],
      "execution_count": null,
      "outputs": [
        {
          "output_type": "execute_result",
          "data": {
            "text/plain": [
              "array([25, 36, 47, 58])"
            ]
          },
          "metadata": {},
          "execution_count": 12
        }
      ]
    },
    {
      "cell_type": "code",
      "metadata": {
        "colab": {
          "base_uri": "https://localhost:8080/"
        },
        "id": "i0zeTBu12Uqa",
        "outputId": "215f4531-d106-4f8a-cc30-9c0fb6405dca"
      },
      "source": [
        "# subtraction\n",
        "a - b"
      ],
      "execution_count": null,
      "outputs": [
        {
          "output_type": "execute_result",
          "data": {
            "text/plain": [
              "array([19, 28, 37, 46])"
            ]
          },
          "metadata": {},
          "execution_count": 14
        }
      ]
    },
    {
      "cell_type": "code",
      "metadata": {
        "colab": {
          "base_uri": "https://localhost:8080/"
        },
        "id": "s2iPZ-Mn2jIN",
        "outputId": "aa0efd67-63f2-477f-a6b8-02869d7b1514"
      },
      "source": [
        "# scalar multiplication\n",
        "5 * a"
      ],
      "execution_count": null,
      "outputs": [
        {
          "output_type": "execute_result",
          "data": {
            "text/plain": [
              "array([100, 150, 200, 250])"
            ]
          },
          "metadata": {},
          "execution_count": 15
        }
      ]
    },
    {
      "cell_type": "code",
      "metadata": {
        "colab": {
          "base_uri": "https://localhost:8080/"
        },
        "id": "ecq_RVrn2zul",
        "outputId": "b7bee543-ba7f-40bb-91d7-54f87861591d"
      },
      "source": [
        "# boolean comparison\n",
        "a < 35"
      ],
      "execution_count": null,
      "outputs": [
        {
          "output_type": "execute_result",
          "data": {
            "text/plain": [
              "array([ True,  True, False, False])"
            ]
          },
          "metadata": {},
          "execution_count": 16
        }
      ]
    },
    {
      "cell_type": "markdown",
      "metadata": {
        "id": "-QT7Df7m1mbh"
      },
      "source": [
        "Unlike in many matrix languages, the product operator `*` operates elementwise in NumPy arrays. The matrix product can be performed using the `@` operator (in python >=3.5) or the `dot` function or method:"
      ]
    },
    {
      "cell_type": "code",
      "metadata": {
        "id": "heK7LCDK4acQ"
      },
      "source": [
        "A = np.array([[1, 1], [0, 1]])\n",
        "B = np.array([[2, 0], [3, 4]])"
      ],
      "execution_count": null,
      "outputs": []
    },
    {
      "cell_type": "code",
      "metadata": {
        "colab": {
          "base_uri": "https://localhost:8080/"
        },
        "id": "S3MkzIWnlRcm",
        "outputId": "d7c0d0f9-e112-4fe4-8cbd-fba69986d272"
      },
      "source": [
        "A"
      ],
      "execution_count": null,
      "outputs": [
        {
          "output_type": "execute_result",
          "data": {
            "text/plain": [
              "array([[1, 1],\n",
              "       [0, 1]])"
            ]
          },
          "metadata": {},
          "execution_count": 20
        }
      ]
    },
    {
      "cell_type": "code",
      "metadata": {
        "colab": {
          "base_uri": "https://localhost:8080/"
        },
        "id": "9MXMDKLNlS_-",
        "outputId": "7e8285c1-545a-48b1-9c8e-94c94d4923ac"
      },
      "source": [
        "B"
      ],
      "execution_count": null,
      "outputs": [
        {
          "output_type": "execute_result",
          "data": {
            "text/plain": [
              "array([[2, 0],\n",
              "       [3, 4]])"
            ]
          },
          "metadata": {},
          "execution_count": 23
        }
      ]
    },
    {
      "cell_type": "code",
      "metadata": {
        "colab": {
          "base_uri": "https://localhost:8080/"
        },
        "id": "HmFksEF41s9s",
        "outputId": "6b415d4a-5430-4022-9306-d62ab4516f1a"
      },
      "source": [
        "# elementwise product *\n",
        "A*B"
      ],
      "execution_count": null,
      "outputs": [
        {
          "output_type": "execute_result",
          "data": {
            "text/plain": [
              "array([[2, 0],\n",
              "       [0, 4]])"
            ]
          },
          "metadata": {},
          "execution_count": 18
        }
      ]
    },
    {
      "cell_type": "code",
      "metadata": {
        "colab": {
          "base_uri": "https://localhost:8080/"
        },
        "id": "1sCstTKZ3XTu",
        "outputId": "0c94c719-d123-445e-d71a-c31a9e1918be"
      },
      "source": [
        "# matrix multiplication @\n",
        "A @ B"
      ],
      "execution_count": null,
      "outputs": [
        {
          "output_type": "execute_result",
          "data": {
            "text/plain": [
              "array([[5, 4],\n",
              "       [3, 4]])"
            ]
          },
          "metadata": {},
          "execution_count": 24
        }
      ]
    },
    {
      "cell_type": "code",
      "metadata": {
        "colab": {
          "base_uri": "https://localhost:8080/"
        },
        "id": "avNuxz_l3fz5",
        "outputId": "a3d96322-158c-4b55-8307-acd1b6eda52b"
      },
      "source": [
        "# In Python versions < 3.5, matrix multiplication can be done using dot()\n",
        "np.dot(A, B)\n",
        "np.matmul(A, B)"
      ],
      "execution_count": null,
      "outputs": [
        {
          "output_type": "execute_result",
          "data": {
            "text/plain": [
              "array([[5, 4],\n",
              "       [3, 4]])"
            ]
          },
          "metadata": {},
          "execution_count": 26
        }
      ]
    },
    {
      "cell_type": "markdown",
      "metadata": {
        "id": "uG0HuEO07maq"
      },
      "source": [
        "Many unary operations, such as computing the sum of all the elements in the array, are implemented as methods of the `ndarray` class."
      ]
    },
    {
      "cell_type": "code",
      "metadata": {
        "colab": {
          "base_uri": "https://localhost:8080/"
        },
        "id": "sqBqQPPg8Vc8",
        "outputId": "0527b6dc-e02b-4b42-e915-c61eae7d501d"
      },
      "source": [
        "# sum\n",
        "print(B)\n",
        "B.sum()"
      ],
      "execution_count": null,
      "outputs": [
        {
          "output_type": "stream",
          "name": "stdout",
          "text": [
            "[[2 0]\n",
            " [3 4]]\n"
          ]
        },
        {
          "output_type": "execute_result",
          "data": {
            "text/plain": [
              "9"
            ]
          },
          "metadata": {},
          "execution_count": 32
        }
      ]
    },
    {
      "cell_type": "code",
      "metadata": {
        "colab": {
          "base_uri": "https://localhost:8080/"
        },
        "id": "0F_yHnTQ8XGD",
        "outputId": "b8f072ce-f639-49de-be6a-3140b7686f71"
      },
      "source": [
        "# min()\n",
        "B.min()"
      ],
      "execution_count": null,
      "outputs": [
        {
          "output_type": "execute_result",
          "data": {
            "text/plain": [
              "0"
            ]
          },
          "metadata": {},
          "execution_count": 33
        }
      ]
    },
    {
      "cell_type": "code",
      "metadata": {
        "colab": {
          "base_uri": "https://localhost:8080/"
        },
        "id": "R4OyjZk58b--",
        "outputId": "9feb8989-030a-443e-e974-1d3e9839f096"
      },
      "source": [
        "# max()\n",
        "B.max()"
      ],
      "execution_count": null,
      "outputs": [
        {
          "output_type": "execute_result",
          "data": {
            "text/plain": [
              "4"
            ]
          },
          "metadata": {},
          "execution_count": 34
        }
      ]
    },
    {
      "cell_type": "markdown",
      "metadata": {
        "id": "uORkNMZ58ghq"
      },
      "source": [
        "By default, these operations apply to the array as though it were a list of numbers, regardless of its shape. However, by specifying the `axis` parameter you can apply an operation along the specified axis of an array:"
      ]
    },
    {
      "cell_type": "code",
      "metadata": {
        "colab": {
          "base_uri": "https://localhost:8080/"
        },
        "id": "axQwk_aQKPEO",
        "outputId": "035114b5-3faf-4707-c72d-e56f72979efc"
      },
      "source": [
        "arr2 = np.array([[1, 2, 3], [4, 5, 6]])\n",
        "arr2"
      ],
      "execution_count": null,
      "outputs": [
        {
          "output_type": "execute_result",
          "data": {
            "text/plain": [
              "array([[1, 2, 3],\n",
              "       [4, 5, 6]])"
            ]
          },
          "metadata": {},
          "execution_count": 35
        }
      ]
    },
    {
      "cell_type": "code",
      "metadata": {
        "colab": {
          "base_uri": "https://localhost:8080/"
        },
        "id": "55BTpS5b8k4q",
        "outputId": "b85914ae-313e-44d2-dc3b-996df869f47e"
      },
      "source": [
        "# sum of each column\n",
        "arr2.sum(axis=0)"
      ],
      "execution_count": null,
      "outputs": [
        {
          "output_type": "execute_result",
          "data": {
            "text/plain": [
              "array([5, 7, 9])"
            ]
          },
          "metadata": {},
          "execution_count": 37
        }
      ]
    },
    {
      "cell_type": "code",
      "metadata": {
        "colab": {
          "base_uri": "https://localhost:8080/"
        },
        "id": "qfNdRWgF8rrM",
        "outputId": "37dc9fad-a4ea-4059-946e-e7999c618934"
      },
      "source": [
        "# min of each row \n",
        "arr2.min(axis=1)"
      ],
      "execution_count": null,
      "outputs": [
        {
          "output_type": "execute_result",
          "data": {
            "text/plain": [
              "array([1, 4])"
            ]
          },
          "metadata": {},
          "execution_count": 39
        }
      ]
    },
    {
      "cell_type": "markdown",
      "metadata": {
        "id": "kkdO19RdnORF"
      },
      "source": [
        "# Universal Functions\n",
        "NumPy provides familiar mathematical functions such as `sin`, `cos`, and `exp`. In NumPy, these are called “universal functions” (ufunc). Within NumPy, these functions operate elementwise on an array, producing an array as output. We'll go through some of the most common ones together."
      ]
    },
    {
      "cell_type": "code",
      "metadata": {
        "colab": {
          "base_uri": "https://localhost:8080/"
        },
        "id": "ka1QXJ6lmsYT",
        "outputId": "7faf7509-12b7-4f8e-c9c8-29ee4028ea1a"
      },
      "source": [
        "# exp()\n",
        "np.exp(arr2)"
      ],
      "execution_count": null,
      "outputs": [
        {
          "output_type": "execute_result",
          "data": {
            "text/plain": [
              "array([[  2.71828183,   7.3890561 ,  20.08553692],\n",
              "       [ 54.59815003, 148.4131591 , 403.42879349]])"
            ]
          },
          "metadata": {},
          "execution_count": 40
        }
      ]
    },
    {
      "cell_type": "code",
      "metadata": {
        "colab": {
          "base_uri": "https://localhost:8080/"
        },
        "id": "eHoAcLnB-Cb6",
        "outputId": "baeafff2-093d-4f7f-b9fa-bc69c9369e57"
      },
      "source": [
        "# sqrt()\n",
        "np.sqrt(arr2)"
      ],
      "execution_count": null,
      "outputs": [
        {
          "output_type": "execute_result",
          "data": {
            "text/plain": [
              "array([[1.        , 1.41421356, 1.73205081],\n",
              "       [2.        , 2.23606798, 2.44948974]])"
            ]
          },
          "metadata": {},
          "execution_count": 41
        }
      ]
    },
    {
      "cell_type": "code",
      "metadata": {
        "colab": {
          "base_uri": "https://localhost:8080/"
        },
        "id": "mGBR22xTVJ6Q",
        "outputId": "f8077d8b-a546-459d-cf6f-c5adb8b07939"
      },
      "source": [
        "# sin()\n",
        "np.sin(arr2)"
      ],
      "execution_count": null,
      "outputs": [
        {
          "output_type": "execute_result",
          "data": {
            "text/plain": [
              "array([[ 0.84147098,  0.90929743,  0.14112001],\n",
              "       [-0.7568025 , -0.95892427, -0.2794155 ]])"
            ]
          },
          "metadata": {},
          "execution_count": 42
        }
      ]
    },
    {
      "cell_type": "markdown",
      "metadata": {
        "id": "HlrSHUgxlBP7"
      },
      "source": [
        "# Indexing, Slicing and Iterating\n",
        "One-dimensional arrays can be indexed, sliced and iterated over, much like lists and other Python sequences."
      ]
    },
    {
      "cell_type": "code",
      "metadata": {
        "colab": {
          "base_uri": "https://localhost:8080/"
        },
        "id": "mp2Al45Uk2W3",
        "outputId": "6b09c678-f28f-4e0f-da24-bd3fa0ab6cfe"
      },
      "source": [
        "arr3 = np.array([0, 1, 2, 3, 4, 5, 6, 7, 8, 9])\n",
        "arr3[2]   # gets the third element in arr3"
      ],
      "execution_count": null,
      "outputs": [
        {
          "output_type": "execute_result",
          "data": {
            "text/plain": [
              "2"
            ]
          },
          "metadata": {},
          "execution_count": 43
        }
      ]
    },
    {
      "cell_type": "markdown",
      "metadata": {
        "id": "6IWEGMpmBJIU"
      },
      "source": [
        "**Exercise**: Select the last 4 elements in `arr3` and store them in `ex3`. \\\\\n",
        "Hint: The syntax for slicing an NumPy array is same as slicing a list.\n",
        "\n"
      ]
    },
    {
      "cell_type": "code",
      "metadata": {
        "id": "_t_UlQZ0BJ3j",
        "colab": {
          "base_uri": "https://localhost:8080/"
        },
        "outputId": "9b45c537-0811-4daf-961d-70c381ad6f38"
      },
      "source": [
        "### Type your answer here ###\n"
      ],
      "execution_count": null,
      "outputs": [
        {
          "output_type": "execute_result",
          "data": {
            "text/plain": [
              "array([6, 7, 8, 9])"
            ]
          },
          "metadata": {},
          "execution_count": 45
        }
      ]
    },
    {
      "cell_type": "code",
      "metadata": {
        "colab": {
          "base_uri": "https://localhost:8080/"
        },
        "id": "MVlDHlnaCc8D",
        "outputId": "652547f1-5c0b-4e11-dc61-923320da17ec"
      },
      "source": [
        "# iterates through arr3\n",
        "for i in arr3:\n",
        "  print(i)"
      ],
      "execution_count": null,
      "outputs": [
        {
          "output_type": "stream",
          "name": "stdout",
          "text": [
            "0\n",
            "1\n",
            "2\n",
            "3\n",
            "4\n",
            "5\n",
            "6\n",
            "7\n",
            "8\n",
            "9\n"
          ]
        }
      ]
    },
    {
      "cell_type": "markdown",
      "metadata": {
        "id": "1TJwocFSu_T9"
      },
      "source": [
        "Multidimensional arrays can have one index per axis. These indices are given in a tuple separated by commas:"
      ]
    },
    {
      "cell_type": "code",
      "metadata": {
        "colab": {
          "base_uri": "https://localhost:8080/"
        },
        "id": "G4uOCgeODIl0",
        "outputId": "51b35d41-a899-4dea-840f-b034cd939d1a"
      },
      "source": [
        "arr4 = np.array(\n",
        "        [\n",
        "          [\n",
        "            [ 0,  1,  2,  3],\n",
        "            [ 4,  5,  6,  7],\n",
        "            [ 8,  9, 10, 11]\n",
        "          ],\n",
        "          [\n",
        "            [12, 13, 14, 15],\n",
        "            [16, 17, 18, 19],\n",
        "            [20, 21, 22, 23]\n",
        "          ]\n",
        "        ]\n",
        "        )\n",
        "arr4.shape"
      ],
      "execution_count": null,
      "outputs": [
        {
          "output_type": "execute_result",
          "data": {
            "text/plain": [
              "(2, 3, 4)"
            ]
          },
          "metadata": {},
          "execution_count": 48
        }
      ]
    },
    {
      "cell_type": "code",
      "metadata": {
        "colab": {
          "base_uri": "https://localhost:8080/"
        },
        "id": "ZMrVYGxClKio",
        "outputId": "99b243c4-1db2-483c-aa30-9a3774b5c31b"
      },
      "source": [
        "# element (0, 2, 1)\n",
        "arr4[0][2]"
      ],
      "execution_count": null,
      "outputs": [
        {
          "output_type": "execute_result",
          "data": {
            "text/plain": [
              "array([ 8,  9, 10, 11])"
            ]
          },
          "metadata": {},
          "execution_count": 51
        }
      ]
    },
    {
      "cell_type": "markdown",
      "metadata": {
        "id": "c9YI--Ixo2M6"
      },
      "source": [
        "Just like slicing a 1D array, we can select a range of element for each axis."
      ]
    },
    {
      "cell_type": "code",
      "metadata": {
        "colab": {
          "base_uri": "https://localhost:8080/"
        },
        "id": "AfviB1i9pbJ3",
        "outputId": "2eee4f09-bb45-49c3-9a05-26b707e8a399"
      },
      "source": [
        "arr4[0, 2, 1:3]"
      ],
      "execution_count": null,
      "outputs": [
        {
          "output_type": "execute_result",
          "data": {
            "text/plain": [
              "array([ 9, 10])"
            ]
          },
          "metadata": {},
          "execution_count": 52
        }
      ]
    },
    {
      "cell_type": "markdown",
      "metadata": {
        "id": "DucTVc8xqJVB"
      },
      "source": [
        "If we want to select all elements in an axis, we can leave out both indices like so:"
      ]
    },
    {
      "cell_type": "code",
      "metadata": {
        "colab": {
          "base_uri": "https://localhost:8080/"
        },
        "id": "kuES2WBoqDqO",
        "outputId": "0c83e362-c155-4b41-f31b-79812575ce08"
      },
      "source": [
        "arr4[0, 2, :]"
      ],
      "execution_count": null,
      "outputs": [
        {
          "output_type": "execute_result",
          "data": {
            "text/plain": [
              "array([ 8,  9, 10, 11])"
            ]
          },
          "metadata": {},
          "execution_count": 53
        }
      ]
    },
    {
      "cell_type": "code",
      "metadata": {
        "colab": {
          "base_uri": "https://localhost:8080/"
        },
        "id": "mTBKhiAuqyAD",
        "outputId": "24d56c87-92ef-45f0-c80c-d5192c9c7bee"
      },
      "source": [
        "arr4[0, :, 1]"
      ],
      "execution_count": null,
      "outputs": [
        {
          "output_type": "execute_result",
          "data": {
            "text/plain": [
              "array([1, 5, 9])"
            ]
          },
          "metadata": {},
          "execution_count": 54
        }
      ]
    },
    {
      "cell_type": "markdown",
      "metadata": {
        "id": "H6kD_6b8oRXH"
      },
      "source": [
        "When fewer indices are provided than the number of axes, the missing indices are considered complete slices:"
      ]
    },
    {
      "cell_type": "markdown",
      "metadata": {
        "id": "u11_IL5ctYD_"
      },
      "source": [
        "Iterating over multidimensional arrays is done with respect to the first axis:"
      ]
    },
    {
      "cell_type": "code",
      "metadata": {
        "id": "g68MtP7VtcJn"
      },
      "source": [
        "arr6 = np.array([\n",
        "       [ 0,  1,  2,  3],\n",
        "       [ 4,  5,  6,  7],\n",
        "       [ 8,  9, 10, 11]\n",
        "       ])\n",
        "arr6"
      ],
      "execution_count": null,
      "outputs": []
    },
    {
      "cell_type": "markdown",
      "metadata": {
        "id": "TBCEGNRxt10p"
      },
      "source": [
        "However, if one wants to perform an operation on each element in the array, one can use the `flat` attribute which is an iterator over all the elements of the array:"
      ]
    },
    {
      "cell_type": "code",
      "metadata": {
        "id": "O3OZuKFutwVd"
      },
      "source": [
        "for element in arr6.flat:\n",
        "  print(element)"
      ],
      "execution_count": null,
      "outputs": []
    },
    {
      "cell_type": "markdown",
      "metadata": {
        "id": "vqpI5LRdmK0E"
      },
      "source": [
        "# NumPy Array Attributes\n",
        "NumPy’s array class is called `ndarray`. It is also known by the alias `array`. Note that `numpy.array` is not the same as the Standard Python Library class `array.array`, which only handles one-dimensional arrays and offers less functionality. The more important attributes of an ndarray object are:"
      ]
    },
    {
      "cell_type": "markdown",
      "metadata": {
        "id": "jK3H-XKUpytM"
      },
      "source": [
        "**ndarray.ndim** \\\\\n",
        "the number of axes (dimensions) of the array."
      ]
    },
    {
      "cell_type": "code",
      "metadata": {
        "colab": {
          "base_uri": "https://localhost:8080/"
        },
        "id": "mNMUtCu_MNJ8",
        "outputId": "8c60f420-8d5a-4869-9450-e51e880bffb7"
      },
      "source": [
        "arr4"
      ],
      "execution_count": null,
      "outputs": [
        {
          "output_type": "execute_result",
          "data": {
            "text/plain": [
              "array([[[ 0,  1,  2,  3],\n",
              "        [ 4,  5,  6,  7],\n",
              "        [ 8,  9, 10, 11]],\n",
              "\n",
              "       [[12, 13, 14, 15],\n",
              "        [16, 17, 18, 19],\n",
              "        [20, 21, 22, 23]]])"
            ]
          },
          "metadata": {},
          "execution_count": 55
        }
      ]
    },
    {
      "cell_type": "code",
      "metadata": {
        "colab": {
          "base_uri": "https://localhost:8080/"
        },
        "id": "nV6eVBU_mj1R",
        "outputId": "d4d344f0-c0c3-4f02-ae92-17da097ab843"
      },
      "source": [
        "# number of dimensions of the array 'ndim'\n",
        "arr4.ndim"
      ],
      "execution_count": null,
      "outputs": [
        {
          "output_type": "execute_result",
          "data": {
            "text/plain": [
              "3"
            ]
          },
          "metadata": {},
          "execution_count": 56
        }
      ]
    },
    {
      "cell_type": "markdown",
      "metadata": {
        "id": "6fsXmMbWp9Hw"
      },
      "source": [
        "**ndarray.shape** \\\\\n",
        "the dimensions of the array. This is a tuple of integers indicating the size of the array in each dimension. For a matrix with n rows and m columns, `shape` will be (n,m). The length of the `shape` tuple is therefore the number of axes, `ndim`."
      ]
    },
    {
      "cell_type": "code",
      "metadata": {
        "colab": {
          "base_uri": "https://localhost:8080/"
        },
        "id": "VhDVYIfLl3cf",
        "outputId": "9c73c091-982b-46f0-8d60-94137297c4ca"
      },
      "source": [
        "# shape of the array 'shape'\n",
        "arr4.shape"
      ],
      "execution_count": null,
      "outputs": [
        {
          "output_type": "execute_result",
          "data": {
            "text/plain": [
              "(2, 3, 4)"
            ]
          },
          "metadata": {},
          "execution_count": 57
        }
      ]
    },
    {
      "cell_type": "markdown",
      "metadata": {
        "id": "zoOlj1OuqU4P"
      },
      "source": [
        "**ndarray.size** \\\\\n",
        "the total number of elements of the array. This is equal to the product of the elements of `shape`."
      ]
    },
    {
      "cell_type": "code",
      "metadata": {
        "colab": {
          "base_uri": "https://localhost:8080/"
        },
        "id": "V2wLCOQnmlvq",
        "outputId": "25c01f1a-7452-447f-f2b7-ae2c048a3a1b"
      },
      "source": [
        "# total number of elements in the array 'size'\n",
        "arr4.size"
      ],
      "execution_count": null,
      "outputs": [
        {
          "output_type": "execute_result",
          "data": {
            "text/plain": [
              "24"
            ]
          },
          "metadata": {},
          "execution_count": 58
        }
      ]
    },
    {
      "cell_type": "markdown",
      "metadata": {
        "id": "fqiVTXrGqqrO"
      },
      "source": [
        "**ndarray.dtype** \\\\\n",
        "an object describing the type of the elements in the array. One can create or specify dtype’s using standard Python types. Additionally NumPy provides types of its own. numpy.int32, numpy.int16, and numpy.float64 are some examples."
      ]
    },
    {
      "cell_type": "code",
      "metadata": {
        "colab": {
          "base_uri": "https://localhost:8080/"
        },
        "id": "-Kwdp7rBmnjI",
        "outputId": "22e37407-aad3-4870-86e9-4d4a96b874a1"
      },
      "source": [
        "# data type of the array 'dtype'   \n",
        "# NOTE: numpy arrays need to have a single data type unlike python lists\n",
        "arr4.dtype"
      ],
      "execution_count": null,
      "outputs": [
        {
          "output_type": "execute_result",
          "data": {
            "text/plain": [
              "dtype('int64')"
            ]
          },
          "metadata": {},
          "execution_count": 59
        }
      ]
    },
    {
      "cell_type": "markdown",
      "metadata": {
        "id": "kofaVDuIjOqR"
      },
      "source": [
        "# Changing the shape of an array\n",
        "An array has a shape given by the number of elements along each axis:"
      ]
    },
    {
      "cell_type": "code",
      "metadata": {
        "colab": {
          "base_uri": "https://localhost:8080/"
        },
        "id": "Xa2fa5h-jZPG",
        "outputId": "0372c8e5-fde3-4412-8abe-ec93635e848e"
      },
      "source": [
        "arr1 = np.array([[1, 2, 3, 4], [5, 6, 7, 8], [9, 10, 11, 12]])\n",
        "arr1.shape"
      ],
      "execution_count": null,
      "outputs": [
        {
          "output_type": "execute_result",
          "data": {
            "text/plain": [
              "(3, 4)"
            ]
          },
          "metadata": {},
          "execution_count": 60
        }
      ]
    },
    {
      "cell_type": "markdown",
      "metadata": {
        "id": "RXXJeW_rkRhc"
      },
      "source": [
        "The shape of an array can be changed with various commands. Note that the following three commands all return a modified array, but do not change the original array:"
      ]
    },
    {
      "cell_type": "code",
      "metadata": {
        "colab": {
          "base_uri": "https://localhost:8080/"
        },
        "id": "_MLojB2akN_3",
        "outputId": "ddd78d38-5e10-4285-d3ee-2baa00c1437d"
      },
      "source": [
        "# ravel = flatten the array\n",
        "arr1.ravel()  # returns the array, flattened"
      ],
      "execution_count": null,
      "outputs": [
        {
          "output_type": "execute_result",
          "data": {
            "text/plain": [
              "array([ 1,  2,  3,  4,  5,  6,  7,  8,  9, 10, 11, 12])"
            ]
          },
          "metadata": {},
          "execution_count": 61
        }
      ]
    },
    {
      "cell_type": "code",
      "metadata": {
        "colab": {
          "base_uri": "https://localhost:8080/"
        },
        "id": "mg1vbY0fkYIU",
        "outputId": "429aaead-24d5-4971-e0ff-1b3ea142f822"
      },
      "source": [
        "# reshape the array to 6x2\n",
        "arr1.reshape(6, 2)"
      ],
      "execution_count": null,
      "outputs": [
        {
          "output_type": "execute_result",
          "data": {
            "text/plain": [
              "array([[ 1,  2],\n",
              "       [ 3,  4],\n",
              "       [ 5,  6],\n",
              "       [ 7,  8],\n",
              "       [ 9, 10],\n",
              "       [11, 12]])"
            ]
          },
          "metadata": {},
          "execution_count": 64
        }
      ]
    },
    {
      "cell_type": "code",
      "metadata": {
        "colab": {
          "base_uri": "https://localhost:8080/"
        },
        "id": "-_33zWD3ko3z",
        "outputId": "8fe52dbf-add1-42f6-d2bf-ede8368af8dd"
      },
      "source": [
        "# transpose the array\n",
        "arr1.T"
      ],
      "execution_count": null,
      "outputs": [
        {
          "output_type": "execute_result",
          "data": {
            "text/plain": [
              "array([[ 1,  5,  9],\n",
              "       [ 2,  6, 10],\n",
              "       [ 3,  7, 11],\n",
              "       [ 4,  8, 12]])"
            ]
          },
          "metadata": {},
          "execution_count": 65
        }
      ]
    },
    {
      "cell_type": "markdown",
      "metadata": {
        "id": "LJLJA6tylg_J"
      },
      "source": [
        "If a dimension is given as `-1` in a reshaping operation, the other dimensions are automatically calculated:"
      ]
    },
    {
      "cell_type": "code",
      "metadata": {
        "colab": {
          "base_uri": "https://localhost:8080/"
        },
        "id": "TRqcxNDQlmLn",
        "outputId": "35b2811f-2822-4110-b914-9e59a69e8f8e"
      },
      "source": [
        "arr1.reshape(6, -1) # equivalent to arr1.reshape(6, 2)"
      ],
      "execution_count": null,
      "outputs": [
        {
          "output_type": "execute_result",
          "data": {
            "text/plain": [
              "array([[ 1,  2],\n",
              "       [ 3,  4],\n",
              "       [ 5,  6],\n",
              "       [ 7,  8],\n",
              "       [ 9, 10],\n",
              "       [11, 12]])"
            ]
          },
          "metadata": {},
          "execution_count": 68
        }
      ]
    },
    {
      "cell_type": "markdown",
      "metadata": {
        "id": "g7zFzYvNsPLV"
      },
      "source": [
        "# Other ways to create an array\n",
        "Often, the elements of an array are originally unknown, but its size is known. Hence, NumPy offers several functions to create arrays with initial placeholder content. These minimize the necessity of growing arrays, an expensive operation."
      ]
    },
    {
      "cell_type": "markdown",
      "metadata": {
        "id": "vlAZJLdMtkQW"
      },
      "source": [
        "The function `zeros` creates an array full of zeros."
      ]
    },
    {
      "cell_type": "code",
      "metadata": {
        "colab": {
          "base_uri": "https://localhost:8080/"
        },
        "id": "27UgyuxSsnD8",
        "outputId": "a942fe02-e62b-42f5-de2c-62866b03b89b"
      },
      "source": [
        "# array of zeros \n",
        "# very useful!!\n",
        "np.zeros((100,2))"
      ],
      "execution_count": null,
      "outputs": [
        {
          "output_type": "execute_result",
          "data": {
            "text/plain": [
              "array([[0., 0.],\n",
              "       [0., 0.],\n",
              "       [0., 0.],\n",
              "       [0., 0.],\n",
              "       [0., 0.],\n",
              "       [0., 0.],\n",
              "       [0., 0.],\n",
              "       [0., 0.],\n",
              "       [0., 0.],\n",
              "       [0., 0.],\n",
              "       [0., 0.],\n",
              "       [0., 0.],\n",
              "       [0., 0.],\n",
              "       [0., 0.],\n",
              "       [0., 0.],\n",
              "       [0., 0.],\n",
              "       [0., 0.],\n",
              "       [0., 0.],\n",
              "       [0., 0.],\n",
              "       [0., 0.],\n",
              "       [0., 0.],\n",
              "       [0., 0.],\n",
              "       [0., 0.],\n",
              "       [0., 0.],\n",
              "       [0., 0.],\n",
              "       [0., 0.],\n",
              "       [0., 0.],\n",
              "       [0., 0.],\n",
              "       [0., 0.],\n",
              "       [0., 0.],\n",
              "       [0., 0.],\n",
              "       [0., 0.],\n",
              "       [0., 0.],\n",
              "       [0., 0.],\n",
              "       [0., 0.],\n",
              "       [0., 0.],\n",
              "       [0., 0.],\n",
              "       [0., 0.],\n",
              "       [0., 0.],\n",
              "       [0., 0.],\n",
              "       [0., 0.],\n",
              "       [0., 0.],\n",
              "       [0., 0.],\n",
              "       [0., 0.],\n",
              "       [0., 0.],\n",
              "       [0., 0.],\n",
              "       [0., 0.],\n",
              "       [0., 0.],\n",
              "       [0., 0.],\n",
              "       [0., 0.],\n",
              "       [0., 0.],\n",
              "       [0., 0.],\n",
              "       [0., 0.],\n",
              "       [0., 0.],\n",
              "       [0., 0.],\n",
              "       [0., 0.],\n",
              "       [0., 0.],\n",
              "       [0., 0.],\n",
              "       [0., 0.],\n",
              "       [0., 0.],\n",
              "       [0., 0.],\n",
              "       [0., 0.],\n",
              "       [0., 0.],\n",
              "       [0., 0.],\n",
              "       [0., 0.],\n",
              "       [0., 0.],\n",
              "       [0., 0.],\n",
              "       [0., 0.],\n",
              "       [0., 0.],\n",
              "       [0., 0.],\n",
              "       [0., 0.],\n",
              "       [0., 0.],\n",
              "       [0., 0.],\n",
              "       [0., 0.],\n",
              "       [0., 0.],\n",
              "       [0., 0.],\n",
              "       [0., 0.],\n",
              "       [0., 0.],\n",
              "       [0., 0.],\n",
              "       [0., 0.],\n",
              "       [0., 0.],\n",
              "       [0., 0.],\n",
              "       [0., 0.],\n",
              "       [0., 0.],\n",
              "       [0., 0.],\n",
              "       [0., 0.],\n",
              "       [0., 0.],\n",
              "       [0., 0.],\n",
              "       [0., 0.],\n",
              "       [0., 0.],\n",
              "       [0., 0.],\n",
              "       [0., 0.],\n",
              "       [0., 0.],\n",
              "       [0., 0.],\n",
              "       [0., 0.],\n",
              "       [0., 0.],\n",
              "       [0., 0.],\n",
              "       [0., 0.],\n",
              "       [0., 0.],\n",
              "       [0., 0.]])"
            ]
          },
          "metadata": {},
          "execution_count": 70
        }
      ]
    },
    {
      "cell_type": "markdown",
      "metadata": {
        "id": "SR_HzXx0tvGv"
      },
      "source": [
        "The function `ones` creates an array full of ones. By default, the dtype of the created array is `float64`, but it can be specified via the key word argument `dtype`."
      ]
    },
    {
      "cell_type": "code",
      "metadata": {
        "colab": {
          "base_uri": "https://localhost:8080/"
        },
        "id": "TqgU3SORs9kT",
        "outputId": "94bc8d2d-b635-4b6e-ee48-a0dfd2c5d506"
      },
      "source": [
        "# array of ones \n",
        "# again, very useful!\n",
        "np.ones((100))"
      ],
      "execution_count": null,
      "outputs": [
        {
          "output_type": "execute_result",
          "data": {
            "text/plain": [
              "array([1., 1., 1., 1., 1., 1., 1., 1., 1., 1., 1., 1., 1., 1., 1., 1., 1.,\n",
              "       1., 1., 1., 1., 1., 1., 1., 1., 1., 1., 1., 1., 1., 1., 1., 1., 1.,\n",
              "       1., 1., 1., 1., 1., 1., 1., 1., 1., 1., 1., 1., 1., 1., 1., 1., 1.,\n",
              "       1., 1., 1., 1., 1., 1., 1., 1., 1., 1., 1., 1., 1., 1., 1., 1., 1.,\n",
              "       1., 1., 1., 1., 1., 1., 1., 1., 1., 1., 1., 1., 1., 1., 1., 1., 1.,\n",
              "       1., 1., 1., 1., 1., 1., 1., 1., 1., 1., 1., 1., 1., 1., 1.])"
            ]
          },
          "metadata": {},
          "execution_count": 71
        }
      ]
    },
    {
      "cell_type": "markdown",
      "metadata": {
        "id": "2pkmdqdXt9j2"
      },
      "source": [
        "The function `empty` creates an array whose initial content is random and depends on the state of the memory."
      ]
    },
    {
      "cell_type": "code",
      "metadata": {
        "colab": {
          "base_uri": "https://localhost:8080/"
        },
        "id": "adn9oym5tGUN",
        "outputId": "41db9dcb-f742-4597-ce64-75c58c2b7c92"
      },
      "source": [
        "x =np.empty((2, 3))\n",
        "x[0,1] = 5\n",
        "x"
      ],
      "execution_count": null,
      "outputs": [
        {
          "output_type": "execute_result",
          "data": {
            "text/plain": [
              "array([[0.84147098, 5.        , 0.14112001],\n",
              "       [0.7568025 , 0.95892427, 0.2794155 ]])"
            ]
          },
          "metadata": {},
          "execution_count": 74
        }
      ]
    },
    {
      "cell_type": "markdown",
      "metadata": {
        "id": "JZE-m2UeuO8N"
      },
      "source": [
        "# Creating sequential data\n",
        "To create sequences of numbers, NumPy provides the `arange` function which is analogous to the Python built-in range, but returns an array. \\\\\n",
        "**Syntax**: `np.arange(start, stop)`, where `start` is inclusive whereas `stop` is not."
      ]
    },
    {
      "cell_type": "code",
      "metadata": {
        "colab": {
          "base_uri": "https://localhost:8080/"
        },
        "id": "DpvRj235xxe3",
        "outputId": "38d7f88a-c9ac-4dd1-c689-e2017f67326c"
      },
      "source": [
        "# sequence of values from [0, 10)\n",
        "np.arange(0, 10)"
      ],
      "execution_count": null,
      "outputs": [
        {
          "output_type": "execute_result",
          "data": {
            "text/plain": [
              "array([0, 1, 2, 3, 4, 5, 6, 7, 8, 9])"
            ]
          },
          "metadata": {},
          "execution_count": 77
        }
      ]
    },
    {
      "cell_type": "markdown",
      "metadata": {
        "id": "CfwKiPc9bXUl"
      },
      "source": [
        "Optionally, we can specify the spacing between consecutive values in our call to `arange` by passing in an additional parameter. \\\\\n",
        "**Syntax**: `np.arange(start, stop, step)`, where `step` is the spacing between values. Note that `step` has a default value of 1."
      ]
    },
    {
      "cell_type": "code",
      "metadata": {
        "colab": {
          "base_uri": "https://localhost:8080/"
        },
        "id": "edtIN2YdkEHe",
        "outputId": "871c4375-e7a7-470c-976e-2de74c81000a"
      },
      "source": [
        "np.arange(10, 30, 5)"
      ],
      "execution_count": null,
      "outputs": [
        {
          "output_type": "execute_result",
          "data": {
            "text/plain": [
              "array([10, 15, 20, 25])"
            ]
          },
          "metadata": {},
          "execution_count": 78
        }
      ]
    },
    {
      "cell_type": "code",
      "metadata": {
        "colab": {
          "base_uri": "https://localhost:8080/"
        },
        "id": "Z7KEVETwx8DB",
        "outputId": "70ca6919-a569-4296-c615-7227056f63ce"
      },
      "source": [
        "np.arange(0, 2, 0.3)  # it accepts float arguments"
      ],
      "execution_count": null,
      "outputs": [
        {
          "output_type": "execute_result",
          "data": {
            "text/plain": [
              "array([0. , 0.3, 0.6, 0.9, 1.2, 1.5, 1.8])"
            ]
          },
          "metadata": {},
          "execution_count": 79
        }
      ]
    },
    {
      "cell_type": "markdown",
      "metadata": {
        "id": "kBZ6UdPjyiqF"
      },
      "source": [
        "When `arange` is used with floating point arguments, it is generally not possible to predict the number of elements obtained, due to the finite floating point precision. For this reason, it is usually better to use the function `linspace` that receives as an argument the number of elements that we want, instead of the step. \\\\\n",
        "**Syntax**: `np.linspace(start, stop, num)`, where `num` is the number of samples to generate. Note that `num` has a default value of 50 and must be non-negative."
      ]
    },
    {
      "cell_type": "code",
      "metadata": {
        "colab": {
          "base_uri": "https://localhost:8080/"
        },
        "id": "wmnKt3q5yydw",
        "outputId": "b7bde74a-8c3a-46ba-9c2f-d94a9dd07912"
      },
      "source": [
        "np.linspace(0, 2, 9)"
      ],
      "execution_count": null,
      "outputs": [
        {
          "output_type": "execute_result",
          "data": {
            "text/plain": [
              "array([0.  , 0.25, 0.5 , 0.75, 1.  , 1.25, 1.5 , 1.75, 2.  ])"
            ]
          },
          "metadata": {},
          "execution_count": 80
        }
      ]
    },
    {
      "cell_type": "markdown",
      "metadata": {
        "id": "_ywPDM41f5t5"
      },
      "source": [
        "Note that the endpoint is **inclusive** in `np.linspace` by default. \\\\\n",
        "We can optionally exclude the endpoint of the interval by passing an extra parameter as follows:"
      ]
    },
    {
      "cell_type": "code",
      "metadata": {
        "colab": {
          "base_uri": "https://localhost:8080/"
        },
        "id": "ctEojM8ggiSV",
        "outputId": "12849b3c-1c31-4a4c-a238-a61283c14362"
      },
      "source": [
        "np.linspace(0, 2, 9, endpoint=False)"
      ],
      "execution_count": null,
      "outputs": [
        {
          "output_type": "execute_result",
          "data": {
            "text/plain": [
              "array([0.        , 0.22222222, 0.44444444, 0.66666667, 0.88888889,\n",
              "       1.11111111, 1.33333333, 1.55555556, 1.77777778])"
            ]
          },
          "metadata": {},
          "execution_count": 81
        }
      ]
    },
    {
      "cell_type": "markdown",
      "metadata": {
        "id": "cHnukPo1c0sY"
      },
      "source": [
        "**Exercise**: Create a sequence of 30 evenly spaced values from 0 to 2$\\pi$. \\\\\n",
        "Hint: Which function would be more helpful here?"
      ]
    },
    {
      "cell_type": "code",
      "metadata": {
        "id": "5rx62wfcdEKX",
        "colab": {
          "base_uri": "https://localhost:8080/"
        },
        "outputId": "f74fbc3f-fe54-4252-c795-48a58b05a6c8"
      },
      "source": [
        "from numpy import pi\n",
        "### Type your answer here ###\n"
      ],
      "execution_count": null,
      "outputs": [
        {
          "output_type": "execute_result",
          "data": {
            "text/plain": [
              "array([0.        , 0.21666156, 0.43332312, 0.64998469, 0.86664625,\n",
              "       1.08330781, 1.29996937, 1.51663094, 1.7332925 , 1.94995406,\n",
              "       2.16661562, 2.38327719, 2.59993875, 2.81660031, 3.03326187,\n",
              "       3.24992343, 3.466585  , 3.68324656, 3.89990812, 4.11656968,\n",
              "       4.33323125, 4.54989281, 4.76655437, 4.98321593, 5.1998775 ,\n",
              "       5.41653906, 5.63320062, 5.84986218, 6.06652374, 6.28318531])"
            ]
          },
          "metadata": {},
          "execution_count": 82
        }
      ]
    },
    {
      "cell_type": "markdown",
      "metadata": {
        "id": "sbQGX1-xluf6"
      },
      "source": [
        "# Conditionally selecting elements\n",
        "When we index arrays with arrays of (integer) indices we are providing the list of indices to pick. With boolean indices the approach is different; we explicitly choose which items in the array we want and which ones we don’t.\n",
        "\n",
        "The most natural way one can think of for boolean indexing is to use boolean arrays that have the same shape as the original array:"
      ]
    },
    {
      "cell_type": "code",
      "metadata": {
        "colab": {
          "base_uri": "https://localhost:8080/"
        },
        "id": "5EYErnXCk7fG",
        "outputId": "0ae38c58-7655-4502-bf8b-290f861ee9d4"
      },
      "source": [
        "# check which elements are greater than or equal to 50\n",
        "arr7 = np.array([[70, 20, 60], [50, 40, 30]])\n",
        "arr7_res = arr7 < 35\n",
        "x = 5\n",
        "y = x < 6\n",
        "y\n",
        "# reponse here"
      ],
      "execution_count": null,
      "outputs": [
        {
          "output_type": "execute_result",
          "data": {
            "text/plain": [
              "True"
            ]
          },
          "metadata": {},
          "execution_count": 88
        }
      ]
    },
    {
      "cell_type": "code",
      "metadata": {
        "colab": {
          "base_uri": "https://localhost:8080/"
        },
        "id": "AoX05e4nlp5v",
        "outputId": "aa52aab8-ef86-4a2e-fa95-cfedd50ad193"
      },
      "source": [
        "arr7[arr7_res]   # 1d array with the selected elements"
      ],
      "execution_count": null,
      "outputs": [
        {
          "output_type": "execute_result",
          "data": {
            "text/plain": [
              "array([20, 30])"
            ]
          },
          "metadata": {},
          "execution_count": 86
        }
      ]
    },
    {
      "cell_type": "markdown",
      "metadata": {
        "id": "9YZQAaBLv1HE"
      },
      "source": [
        "**Exercise**: Select all the elements in `arr7` that are divisible by 20 and store them in `ex4`."
      ]
    },
    {
      "cell_type": "code",
      "metadata": {
        "id": "BPpYZRzdpsQo"
      },
      "source": [
        "### Type your answer here ###\n"
      ],
      "execution_count": null,
      "outputs": []
    },
    {
      "cell_type": "markdown",
      "metadata": {
        "id": "azgoobLEJfxU"
      },
      "source": [
        "# Implementing the Softmax function from scratch"
      ]
    },
    {
      "cell_type": "markdown",
      "metadata": {
        "id": "Hfo7992ldI1e"
      },
      "source": [
        "\n",
        "![image.png](data:image/png;base64,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)\n",
        "\n"
      ]
    },
    {
      "cell_type": "code",
      "metadata": {
        "id": "jDbDOK5EcmsS"
      },
      "source": [
        "def softmax(arr): #arr is the input array\n",
        "  #TODO: write the softmax function\n"
      ],
      "execution_count": null,
      "outputs": []
    },
    {
      "cell_type": "code",
      "metadata": {
        "colab": {
          "base_uri": "https://localhost:8080/"
        },
        "id": "Ta-QsDwpem1x",
        "outputId": "f0278c39-6627-4465-9bf3-a8aadb46b308"
      },
      "source": [
        "softmax(np.array([1, 2, 3, 4]))"
      ],
      "execution_count": null,
      "outputs": [
        {
          "output_type": "execute_result",
          "data": {
            "text/plain": [
              "array([0.0320586 , 0.08714432, 0.23688282, 0.64391426])"
            ]
          },
          "metadata": {},
          "execution_count": 84
        }
      ]
    },
    {
      "cell_type": "markdown",
      "source": [
        "# Pandas\n",
        "\n",
        "Pandas is a fast, powerful, flexible and easy to use open source data analysis and manipulation tool,\n",
        "built on top of the Python programming language.\n",
        "\n",
        "**API Reference**: https://pandas.pydata.org/docs/reference/index.html"
      ],
      "metadata": {
        "id": "CtOF9eN7YLjA"
      }
    },
    {
      "cell_type": "code",
      "source": [
        "import numpy as np\n",
        "import pandas as pd"
      ],
      "metadata": {
        "id": "iBBnHnNJeaAj"
      },
      "execution_count": null,
      "outputs": []
    },
    {
      "cell_type": "markdown",
      "source": [
        "# What is a Pandas DataFrame?\n",
        "\n",
        "A DataFrame is a 2-dimensional data structure that can store data of different types (including characters, integers, floating point values, categorical data and more) in columns. It is similar to a spreadsheet or table.\n",
        "\n",
        "![dataframe.svg](data:image/svg+xml;base64,PD94bWwgdmVyc2lvbj0iMS4wIiBlbmNvZGluZz0iVVRGLTgiIHN0YW5kYWxvbmU9Im5vIj8+CjwhLS0gQ3JlYXRlZCB3aXRoIElua3NjYXBlIChodHRwOi8vd3d3Lmlua3NjYXBlLm9yZy8pIC0tPgoKPHN2ZwogICB4bWxuczpkYz0iaHR0cDovL3B1cmwub3JnL2RjL2VsZW1lbnRzLzEuMS8iCiAgIHhtbG5zOmNjPSJodHRwOi8vY3JlYXRpdmVjb21tb25zLm9yZy9ucyMiCiAgIHhtbG5zOnJkZj0iaHR0cDovL3d3dy53My5vcmcvMTk5OS8wMi8yMi1yZGYtc3ludGF4LW5zIyIKICAgeG1sbnM6c3ZnPSJodHRwOi8vd3d3LnczLm9yZy8yMDAwL3N2ZyIKICAgeG1sbnM9Imh0dHA6Ly93d3cudzMub3JnLzIwMDAvc3ZnIgogICB4bWxuczpzb2RpcG9kaT0iaHR0cDovL3NvZGlwb2RpLnNvdXJjZWZvcmdlLm5ldC9EVEQvc29kaXBvZGktMC5kdGQiCiAgIHhtbG5zOmlua3NjYXBlPSJodHRwOi8vd3d3Lmlua3NjYXBlLm9yZy9uYW1lc3BhY2VzL2lua3NjYXBlIgogICB3aWR0aD0iMTQzLjE5NDk2bW0iCiAgIGhlaWdodD0iMTA0LjMwNjE1bW0iCiAgIHZpZXdCb3g9IjAgMCAxNDMuMTk0OTYgMTA0LjMwNjE1IgogICB2ZXJzaW9uPSIxLjEiCiAgIGlkPSJzdmcxMDI4MCIKICAgaW5rc2NhcGU6dmVyc2lvbj0iMC45Mi40IChmOGRjZTkxLCAyMDE5LTA4LTAyKSIKICAgc29kaXBvZGk6ZG9jbmFtZT0iMDFfdGFibGVfZGF0YWZyYW1lLnN2ZyI+CiAgPGRlZnMKICAgICBpZD0iZGVmczEwMjc0IiAvPgogIDxzb2RpcG9kaTpuYW1lZHZpZXcKICAgICBpZD0iYmFzZSIKICAgICBwYWdlY29sb3I9IiNmZmZmZmYiCiAgICAgYm9yZGVyY29sb3I9IiM2NjY2NjYiCiAgICAgYm9yZGVyb3BhY2l0eT0iMS4wIgogICAgIGlua3NjYXBlOnBhZ2VvcGFjaXR5PSIwLjAiCiAgICAgaW5rc2NhcGU6cGFnZXNoYWRvdz0iMiIKICAgICBpbmtzY2FwZTp6b29tPSIwLjciCiAgICAgaW5rc2NhcGU6Y3g9IjM1NS42NTMxNyIKICAgICBpbmtzY2FwZTpjeT0iMTQyLjgwMjQ1IgogICAgIGlua3NjYXBlOmRvY3VtZW50LXVuaXRzPSJtbSIKICAgICBpbmtzY2FwZTpjdXJyZW50LWxheWVyPSJsYXllcjEiCiAgICAgc2hvd2dyaWQ9ImZhbHNlIgogICAgIGlua3NjYXBlOndpbmRvdy13aWR0aD0iMTU1MSIKICAgICBpbmtzY2FwZTp3aW5kb3ctaGVpZ2h0PSI4NDkiCiAgICAgaW5rc2NhcGU6d2luZG93LXg9IjQ5IgogICAgIGlua3NjYXBlOndpbmRvdy15PSIyNyIKICAgICBpbmtzY2FwZTp3aW5kb3ctbWF4aW1pemVkPSIxIgogICAgIGZpdC1tYXJnaW4tdG9wPSIwIgogICAgIGZpdC1tYXJnaW4tbGVmdD0iMCIKICAgICBmaXQtbWFyZ2luLXJpZ2h0PSIwIgogICAgIGZpdC1tYXJnaW4tYm90dG9tPSIwIiAvPgogIDxtZXRhZGF0YQogICAgIGlkPSJtZXRhZGF0YTEwMjc3Ij4KICAgIDxyZGY6UkRGPgogICAgICA8Y2M6V29yawogICAgICAgICByZGY6YWJvdXQ9IiI+CiAgICAgICAgPGRjOmZvcm1hdD5pbWFnZS9zdmcreG1sPC9kYzpmb3JtYXQ+CiAgICAgICAgPGRjOnR5cGUKICAgICAgICAgICByZGY6cmVzb3VyY2U9Imh0dHA6Ly9wdXJsLm9yZy9kYy9kY21pdHlwZS9TdGlsbEltYWdlIiAvPgogICAgICAgIDxkYzp0aXRsZSAvPgogICAgICA8L2NjOldvcms+CiAgICA8L3JkZjpSREY+CiAgPC9tZXRhZGF0YT4KICA8ZwogICAgIGlua3NjYXBlOmxhYmVsPSJMYXllciAxIgogICAgIGlua3NjYXBlOmdyb3VwbW9kZT0ibGF5ZXIiCiAgICAgaWQ9ImxheWVyMSIKICAgICB0cmFuc2Zvcm09InRyYW5zbGF0ZSgtMjIuNjEzNDE5LC05Ni4wOTc3ODkpIj4KICAgIDxnCiAgICAgICBpZD0iZzg4OCIKICAgICAgIHRyYW5zZm9ybT0ibWF0cml4KDAuODk5OTA3NTMsMCwwLDAuOSw5LjQzNjQxNjMsMTQuODI1MDg4KSIKICAgICAgIHN0eWxlPSJzdHJva2Utd2lkdGg6MS4xMTExNjgxNSI+CiAgICAgIDxwYXRoCiAgICAgICAgIGlua3NjYXBlOmNvbm5lY3Rvci1jdXJ2YXR1cmU9IjAiCiAgICAgICAgIGlkPSJwYXRoNDg5MS0xLTUwLTgtMi0xIgogICAgICAgICBzdHlsZT0iZmlsbDojYWZhYmFiO2ZpbGwtb3BhY2l0eToxO2ZpbGwtcnVsZTpldmVub2RkO3N0cm9rZTojZmZmZmZmO3N0cm9rZS13aWR0aDowLjU2ODk3MjA1O3N0cm9rZS1taXRlcmxpbWl0OjQ7c3Ryb2tlLWRhc2hhcnJheTpub25lO3N0cm9rZS1vcGFjaXR5OjEiCiAgICAgICAgIGQ9Ik0gMjMuNjQ3MzQ5LDE0MS4xNjI4MSBIIDQ4LjUzNTI5IFYgMTI4Ljk3NDg1IEggMjMuNjQ3MzQ5IFoiIC8+CiAgICAgIDxwYXRoCiAgICAgICAgIGlua3NjYXBlOmNvbm5lY3Rvci1jdXJ2YXR1cmU9IjAiCiAgICAgICAgIGlkPSJwYXRoNDg5MS0xLTUwLTgtMi03IgogICAgICAgICBzdHlsZT0iZmlsbDojYWZhYmFiO2ZpbGwtb3BhY2l0eToxO2ZpbGwtcnVsZTpldmVub2RkO3N0cm9rZTojZmZmZmZmO3N0cm9rZS13aWR0aDowLjU2ODk3MjA1O3N0cm9rZS1taXRlcmxpbWl0OjQ7c3Ryb2tlLWRhc2hhcnJheTpub25lO3N0cm9rZS1vcGFjaXR5OjEiCiAgICAgICAgIGQ9Ik0gNTAuMDYzMzM5LDEyNy40NDY4IEggNzQuOTUxMjkxIFYgMTE1LjI1ODg0IEggNTAuMDYzMzM5IFoiIC8+CiAgICAgIDxwYXRoCiAgICAgICAgIGlua3NjYXBlOmNvbm5lY3Rvci1jdXJ2YXR1cmU9IjAiCiAgICAgICAgIGlkPSJwYXRoNDg5MS0xLTUwLTgtMi0xLTkiCiAgICAgICAgIHN0eWxlPSJmaWxsOiNhZmFiYWI7ZmlsbC1vcGFjaXR5OjAuMzkyMTU2ODY7ZmlsbC1ydWxlOmV2ZW5vZGQ7c3Ryb2tlOiNmZmZmZmY7c3Ryb2tlLXdpZHRoOjAuNTY4OTcyMDU7c3Ryb2tlLW1pdGVybGltaXQ6NDtzdHJva2UtZGFzaGFycmF5Om5vbmU7c3Ryb2tlLW9wYWNpdHk6MSIKICAgICAgICAgZD0iTSA1MC4wNjMzMzksMTQxLjE2MjgxIEggNzQuOTUxMjkxIFYgMTI4Ljk3NDg1IEggNTAuMDYzMzM5IFoiIC8+CiAgICAgIDxwYXRoCiAgICAgICAgIGlua3NjYXBlOmNvbm5lY3Rvci1jdXJ2YXR1cmU9IjAiCiAgICAgICAgIGlkPSJwYXRoNDg5MS0xLTUwLTgtMi0yIgogICAgICAgICBzdHlsZT0iZmlsbDojYWZhYmFiO2ZpbGwtb3BhY2l0eToxO2ZpbGwtcnVsZTpldmVub2RkO3N0cm9rZTojZmZmZmZmO3N0cm9rZS13aWR0aDowLjU2ODk3MjA1O3N0cm9rZS1taXRlcmxpbWl0OjQ7c3Ryb2tlLWRhc2hhcnJheTpub25lO3N0cm9rZS1vcGFjaXR5OjEiCiAgICAgICAgIGQ9Ik0gMjMuNjQ3MzM5LDE1My44NjI4MSBIIDQ4LjUzNTI5IFYgMTQxLjY3NDg2IEggMjMuNjQ3MzM5IFoiIC8+CiAgICAgIDxwYXRoCiAgICAgICAgIGlua3NjYXBlOmNvbm5lY3Rvci1jdXJ2YXR1cmU9IjAiCiAgICAgICAgIGlkPSJwYXRoNDg5MS0xLTUwLTgtMi03LTUiCiAgICAgICAgIHN0eWxlPSJmaWxsOiNhZmFiYWI7ZmlsbC1vcGFjaXR5OjAuMzkyMTU2ODY7ZmlsbC1ydWxlOmV2ZW5vZGQ7c3Ryb2tlOiNmZmZmZmY7c3Ryb2tlLXdpZHRoOjAuNTY4OTcyMDU7c3Ryb2tlLW1pdGVybGltaXQ6NDtzdHJva2UtZGFzaGFycmF5Om5vbmU7c3Ryb2tlLW9wYWNpdHk6MSIKICAgICAgICAgZD0iTSA1MC4wNjMzMzksMTUzLjg2MjgxIEggNzQuOTUxMjkxIFYgMTQxLjY3NDg2IEggNTAuMDYzMzM5IFoiIC8+CiAgICAgIDxwYXRoCiAgICAgICAgIGlua3NjYXBlOmNvbm5lY3Rvci1jdXJ2YXR1cmU9IjAiCiAgICAgICAgIGlkPSJwYXRoNDg5MS0xLTUwLTgtMi02IgogICAgICAgICBzdHlsZT0iZmlsbDojYWZhYmFiO2ZpbGwtb3BhY2l0eToxO2ZpbGwtcnVsZTpldmVub2RkO3N0cm9rZTojZmZmZmZmO3N0cm9rZS13aWR0aDowLjU2ODk3MjA1O3N0cm9rZS1taXRlcmxpbWl0OjQ7c3Ryb2tlLWRhc2hhcnJheTpub25lO3N0cm9rZS1vcGFjaXR5OjEiCiAgICAgICAgIGQ9Ik0gNzUuNDYzMzQxLDEyNy40NDY4IEggMTAwLjM1MTMgViAxMTUuMjU4ODQgSCA3NS40NjMzNDEgWiIgLz4KICAgICAgPHBhdGgKICAgICAgICAgaW5rc2NhcGU6Y29ubmVjdG9yLWN1cnZhdHVyZT0iMCIKICAgICAgICAgaWQ9InBhdGg0ODkxLTEtNTAtOC0yLTEtNSIKICAgICAgICAgc3R5bGU9ImZpbGw6I2FmYWJhYjtmaWxsLW9wYWNpdHk6MC4zOTIxNTY4NjtmaWxsLXJ1bGU6ZXZlbm9kZDtzdHJva2U6I2ZmZmZmZjtzdHJva2Utd2lkdGg6MC41Njg5NzIwNTtzdHJva2UtbWl0ZXJsaW1pdDo0O3N0cm9rZS1kYXNoYXJyYXk6bm9uZTtzdHJva2Utb3BhY2l0eToxIgogICAgICAgICBkPSJNIDc1LjQ2MzM0MSwxNDEuMTYyODEgSCAxMDAuMzUxMyBWIDEyOC45NzQ4NSBIIDc1LjQ2MzM0MSBaIiAvPgogICAgICA8cGF0aAogICAgICAgICBpbmtzY2FwZTpjb25uZWN0b3ItY3VydmF0dXJlPSIwIgogICAgICAgICBpZD0icGF0aDQ4OTEtMS01MC04LTItMi0zIgogICAgICAgICBzdHlsZT0iZmlsbDojYWZhYmFiO2ZpbGwtb3BhY2l0eTowLjM5MjE1Njg2O2ZpbGwtcnVsZTpldmVub2RkO3N0cm9rZTojZmZmZmZmO3N0cm9rZS13aWR0aDowLjU2ODk3MjA1O3N0cm9rZS1taXRlcmxpbWl0OjQ7c3Ryb2tlLWRhc2hhcnJheTpub25lO3N0cm9rZS1vcGFjaXR5OjEiCiAgICAgICAgIGQ9Ik0gNzUuNDYzMzQxLDE1My44NjI4MSBIIDEwMC4zNTEzIFYgMTQxLjY3NDg2IEggNzUuNDYzMzQxIFoiIC8+CiAgICAgIDxwYXRoCiAgICAgICAgIGlua3NjYXBlOmNvbm5lY3Rvci1jdXJ2YXR1cmU9IjAiCiAgICAgICAgIGlkPSJwYXRoNDg5MS0xLTUwLTgtMi0xLTctNSIKICAgICAgICAgc3R5bGU9ImZpbGw6I2FmYWJhYjtmaWxsLW9wYWNpdHk6MTtmaWxsLXJ1bGU6ZXZlbm9kZDtzdHJva2U6I2ZmZmZmZjtzdHJva2Utd2lkdGg6MC41Njg5NzIwNTtzdHJva2UtbWl0ZXJsaW1pdDo0O3N0cm9rZS1kYXNoYXJyYXk6bm9uZTtzdHJva2Utb3BhY2l0eToxIgogICAgICAgICBkPSJNIDIzLjY0NzM0OSwxNzkuMjYyODQgSCA0OC41MzUyOSBWIDE2Ny4wNzQ4NyBIIDIzLjY0NzM0OSBaIiAvPgogICAgICA8cGF0aAogICAgICAgICBpbmtzY2FwZTpjb25uZWN0b3ItY3VydmF0dXJlPSIwIgogICAgICAgICBpZD0icGF0aDQ4OTEtMS01MC04LTItMS05LTgtMCIKICAgICAgICAgc3R5bGU9ImZpbGw6I2FmYWJhYjtmaWxsLW9wYWNpdHk6MC4zOTIxNTY4NjtmaWxsLXJ1bGU6ZXZlbm9kZDtzdHJva2U6I2ZmZmZmZjtzdHJva2Utd2lkdGg6MC41Njg5NzIwNTtzdHJva2UtbWl0ZXJsaW1pdDo0O3N0cm9rZS1kYXNoYXJyYXk6bm9uZTtzdHJva2Utb3BhY2l0eToxIgogICAgICAgICBkPSJNIDUwLjA2MzMzOSwxNzkuMjYyODQgSCA3NC45NTEyOTEgViAxNjcuMDc0ODcgSCA1MC4wNjMzMzkgWiIgLz4KICAgICAgPHBhdGgKICAgICAgICAgaW5rc2NhcGU6Y29ubmVjdG9yLWN1cnZhdHVyZT0iMCIKICAgICAgICAgaWQ9InBhdGg0ODkxLTEtNTAtOC0yLTEtNy04LTUiCiAgICAgICAgIHN0eWxlPSJmaWxsOiNhZmFiYWI7ZmlsbC1vcGFjaXR5OjAuMzkyMTU2ODY7ZmlsbC1ydWxlOmV2ZW5vZGQ7c3Ryb2tlOiNmZmZmZmY7c3Ryb2tlLXdpZHRoOjAuNTY4OTcyMDU7c3Ryb2tlLW1pdGVybGltaXQ6NDtzdHJva2UtZGFzaGFycmF5Om5vbmU7c3Ryb2tlLW9wYWNpdHk6MSIKICAgICAgICAgZD0iTSA3NS40NjMzNDEsMTc5LjI2Mjg0IEggMTAwLjM1MTMgViAxNjcuMDc0ODcgSCA3NS40NjMzNDEgWiIgLz4KICAgICAgPHBhdGgKICAgICAgICAgaW5rc2NhcGU6Y29ubmVjdG9yLWN1cnZhdHVyZT0iMCIKICAgICAgICAgaWQ9InBhdGg0ODkxLTEtNTAtOC0yLTEtNy01LTIiCiAgICAgICAgIHN0eWxlPSJmaWxsOiNhZmFiYWI7ZmlsbC1vcGFjaXR5OjE7ZmlsbC1ydWxlOmV2ZW5vZGQ7c3Ryb2tlOiNmZmZmZmY7c3Ryb2tlLXdpZHRoOjAuNTY4OTcyMDU7c3Ryb2tlLW1pdGVybGltaXQ6NDtzdHJva2UtZGFzaGFycmF5Om5vbmU7c3Ryb2tlLW9wYWNpdHk6MSIKICAgICAgICAgZD0iTSAyMy42NDczNDksMTkxLjk2Mjg0IEggNDguNTM1MjkgViAxNzkuNzc0ODggSCAyMy42NDczNDkgWiIgLz4KICAgICAgPHBhdGgKICAgICAgICAgaW5rc2NhcGU6Y29ubmVjdG9yLWN1cnZhdHVyZT0iMCIKICAgICAgICAgaWQ9InBhdGg0ODkxLTEtNTAtOC0yLTEtOS04LTAtNyIKICAgICAgICAgc3R5bGU9ImZpbGw6I2FmYWJhYjtmaWxsLW9wYWNpdHk6MC4zOTIxNTY4NjtmaWxsLXJ1bGU6ZXZlbm9kZDtzdHJva2U6I2ZmZmZmZjtzdHJva2Utd2lkdGg6MC41Njg5NzIwNTtzdHJva2UtbWl0ZXJsaW1pdDo0O3N0cm9rZS1kYXNoYXJyYXk6bm9uZTtzdHJva2Utb3BhY2l0eToxIgogICAgICAgICBkPSJNIDUwLjA2MzMzOSwxOTEuOTYyODQgSCA3NC45NTEyOTEgViAxNzkuNzc0ODggSCA1MC4wNjMzMzkgWiIgLz4KICAgICAgPHBhdGgKICAgICAgICAgaW5rc2NhcGU6Y29ubmVjdG9yLWN1cnZhdHVyZT0iMCIKICAgICAgICAgaWQ9InBhdGg0ODkxLTEtNTAtOC0yLTEtNy04LTUtMiIKICAgICAgICAgc3R5bGU9ImZpbGw6I2FmYWJhYjtmaWxsLW9wYWNpdHk6MC4zOTIxNTY4NjtmaWxsLXJ1bGU6ZXZlbm9kZDtzdHJva2U6I2ZmZmZmZjtzdHJva2Utd2lkdGg6MC41Njg5NzIwNTtzdHJva2UtbWl0ZXJsaW1pdDo0O3N0cm9rZS1kYXNoYXJyYXk6bm9uZTtzdHJva2Utb3BhY2l0eToxIgogICAgICAgICBkPSJNIDc1LjQ2MzM0MSwxOTEuOTYyODQgSCAxMDAuMzUxMyBWIDE3OS43NzQ4OCBIIDc1LjQ2MzM0MSBaIiAvPgogICAgICA8cGF0aAogICAgICAgICBpbmtzY2FwZTpjb25uZWN0b3ItY3VydmF0dXJlPSIwIgogICAgICAgICBpZD0icGF0aDQ4OTEtMS01MC04LTItNy04IgogICAgICAgICBzdHlsZT0iZmlsbDojYWZhYmFiO2ZpbGwtb3BhY2l0eToxO2ZpbGwtcnVsZTpldmVub2RkO3N0cm9rZTojZmZmZmZmO3N0cm9rZS13aWR0aDowLjU2ODk3MjA1O3N0cm9rZS1taXRlcmxpbWl0OjQ7c3Ryb2tlLWRhc2hhcnJheTpub25lO3N0cm9rZS1vcGFjaXR5OjEiCiAgICAgICAgIGQ9Im0gMTAwLjg2MzM0LDEyNy40NDY4IGggMjQuODg3OTQgdiAtMTIuMTg3OTYgaCAtMjQuODg3OTQgeiIgLz4KICAgICAgPHBhdGgKICAgICAgICAgaW5rc2NhcGU6Y29ubmVjdG9yLWN1cnZhdHVyZT0iMCIKICAgICAgICAgaWQ9InBhdGg0ODkxLTEtNTAtOC0yLTEtOS00IgogICAgICAgICBzdHlsZT0iZmlsbDojYWZhYmFiO2ZpbGwtb3BhY2l0eTowLjM5MjE1Njg2O2ZpbGwtcnVsZTpldmVub2RkO3N0cm9rZTojZmZmZmZmO3N0cm9rZS13aWR0aDowLjU2ODk3MjA1O3N0cm9rZS1taXRlcmxpbWl0OjQ7c3Ryb2tlLWRhc2hhcnJheTpub25lO3N0cm9rZS1vcGFjaXR5OjEiCiAgICAgICAgIGQ9Im0gMTAwLjg2MzM1LDE0MS4xNjI4MSBoIDI0Ljg4NzkzIHYgLTEyLjE4Nzk2IGggLTI0Ljg4NzkzIHoiIC8+CiAgICAgIDxwYXRoCiAgICAgICAgIGlua3NjYXBlOmNvbm5lY3Rvci1jdXJ2YXR1cmU9IjAiCiAgICAgICAgIGlkPSJwYXRoNDg5MS0xLTUwLTgtMi03LTUtNSIKICAgICAgICAgc3R5bGU9ImZpbGw6I2FmYWJhYjtmaWxsLW9wYWNpdHk6MC4zOTIxNTY4NjtmaWxsLXJ1bGU6ZXZlbm9kZDtzdHJva2U6I2ZmZmZmZjtzdHJva2Utd2lkdGg6MC41Njg5NzIwNTtzdHJva2UtbWl0ZXJsaW1pdDo0O3N0cm9rZS1kYXNoYXJyYXk6bm9uZTtzdHJva2Utb3BhY2l0eToxIgogICAgICAgICBkPSJtIDEwMC44NjMzNCwxNTMuODYyODEgaCAyNC44ODc5NCB2IC0xMi4xODc5NSBoIC0yNC44ODc5NCB6IiAvPgogICAgICA8cGF0aAogICAgICAgICBpbmtzY2FwZTpjb25uZWN0b3ItY3VydmF0dXJlPSIwIgogICAgICAgICBpZD0icGF0aDQ4OTEtMS01MC04LTItMS05LTgtMi03IgogICAgICAgICBzdHlsZT0iZmlsbDojYWZhYmFiO2ZpbGwtb3BhY2l0eTowLjM5MjE1Njg2O2ZpbGwtcnVsZTpldmVub2RkO3N0cm9rZTojZmZmZmZmO3N0cm9rZS13aWR0aDowLjU2ODk3MjA1O3N0cm9rZS1taXRlcmxpbWl0OjQ7c3Ryb2tlLWRhc2hhcnJheTpub25lO3N0cm9rZS1vcGFjaXR5OjEiCiAgICAgICAgIGQ9Im0gMTAwLjg2MzM1LDE3OS4yNjI4NCBoIDI0Ljg4NzkzIHYgLTEyLjE4Nzk3IGggLTI0Ljg4NzkzIHoiIC8+CiAgICAgIDxwYXRoCiAgICAgICAgIGlua3NjYXBlOmNvbm5lY3Rvci1jdXJ2YXR1cmU9IjAiCiAgICAgICAgIGlkPSJwYXRoNDg5MS0xLTUwLTgtMi0xLTktOC0yLTctMSIKICAgICAgICAgc3R5bGU9ImZpbGw6I2FmYWJhYjtmaWxsLW9wYWNpdHk6MC4zOTIxNTY4NjtmaWxsLXJ1bGU6ZXZlbm9kZDtzdHJva2U6I2ZmZmZmZjtzdHJva2Utd2lkdGg6MC41Njg5NzIwNTtzdHJva2UtbWl0ZXJsaW1pdDo0O3N0cm9rZS1kYXNoYXJyYXk6bm9uZTtzdHJva2Utb3BhY2l0eToxIgogICAgICAgICBkPSJtIDEwMC44NjMzNSwxOTEuOTYyODQgaCAyNC44ODc5MyB2IC0xMi4xODc5NiBoIC0yNC44ODc5MyB6IiAvPgogICAgICA8ZwogICAgICAgICBpZD0iZzkzNSIKICAgICAgICAgc3R5bGU9InN0cm9rZS13aWR0aDoxLjExMTE2ODE1Ij4KICAgICAgICA8cGF0aAogICAgICAgICAgIGQ9Ik0gMjMuNjQ3MzQ5LDE2Ni41NjI4MyBIIDQ4LjUzNTI5IFYgMTU0LjM3NDg3IEggMjMuNjQ3MzQ5IFoiCiAgICAgICAgICAgc3R5bGU9ImZpbGw6I2FmYWJhYjtmaWxsLW9wYWNpdHk6MTtmaWxsLXJ1bGU6ZXZlbm9kZDtzdHJva2U6I2ZmZmZmZjtzdHJva2Utd2lkdGg6MC41Njg5NzIwNTtzdHJva2UtbWl0ZXJsaW1pdDo0O3N0cm9rZS1kYXNoYXJyYXk6bm9uZTtzdHJva2Utb3BhY2l0eToxIgogICAgICAgICAgIGlkPSJwYXRoNDg5MS0xLTUwLTgtMi0xLTciCiAgICAgICAgICAgaW5rc2NhcGU6Y29ubmVjdG9yLWN1cnZhdHVyZT0iMCIgLz4KICAgICAgICA8cGF0aAogICAgICAgICAgIGQ9Ik0gNTAuMDYzMzM5LDE2Ni41NjI4MyBIIDc0Ljk1MTI5MSBWIDE1NC4zNzQ4NyBIIDUwLjA2MzMzOSBaIgogICAgICAgICAgIHN0eWxlPSJmaWxsOiNhZmFiYWI7ZmlsbC1vcGFjaXR5OjAuMzkyMTU2ODY7ZmlsbC1ydWxlOmV2ZW5vZGQ7c3Ryb2tlOiNmZmZmZmY7c3Ryb2tlLXdpZHRoOjAuNTY4OTcyMDU7c3Ryb2tlLW1pdGVybGltaXQ6NDtzdHJva2UtZGFzaGFycmF5Om5vbmU7c3Ryb2tlLW9wYWNpdHk6MSIKICAgICAgICAgICBpZD0icGF0aDQ4OTEtMS01MC04LTItMS05LTgiCiAgICAgICAgICAgaW5rc2NhcGU6Y29ubmVjdG9yLWN1cnZhdHVyZT0iMCIgLz4KICAgICAgICA8cGF0aAogICAgICAgICAgIGQ9Ik0gNzUuNDYzMzQxLDE2Ni41NjI4MyBIIDEwMC4zNTEzIFYgMTU0LjM3NDg3IEggNzUuNDYzMzQxIFoiCiAgICAgICAgICAgc3R5bGU9ImZpbGw6I2FmYWJhYjtmaWxsLW9wYWNpdHk6MC4zOTIxNTY4NjtmaWxsLXJ1bGU6ZXZlbm9kZDtzdHJva2U6I2ZmZmZmZjtzdHJva2Utd2lkdGg6MC41Njg5NzIwNTtzdHJva2UtbWl0ZXJsaW1pdDo0O3N0cm9rZS1kYXNoYXJyYXk6bm9uZTtzdHJva2Utb3BhY2l0eToxIgogICAgICAgICAgIGlkPSJwYXRoNDg5MS0xLTUwLTgtMi0xLTctOCIKICAgICAgICAgICBpbmtzY2FwZTpjb25uZWN0b3ItY3VydmF0dXJlPSIwIiAvPgogICAgICAgIDxwYXRoCiAgICAgICAgICAgZD0ibSAxMDAuODYzMzUsMTY2LjU2MjgzIGggMjQuODg3OTMgdiAtMTIuMTg3OTYgaCAtMjQuODg3OTMgeiIKICAgICAgICAgICBzdHlsZT0iZmlsbDojYWZhYmFiO2ZpbGwtb3BhY2l0eTowLjM5MjE1Njg2O2ZpbGwtcnVsZTpldmVub2RkO3N0cm9rZTojZmZmZmZmO3N0cm9rZS13aWR0aDowLjU2ODk3MjA1O3N0cm9rZS1taXRlcmxpbWl0OjQ7c3Ryb2tlLWRhc2hhcnJheTpub25lO3N0cm9rZS1vcGFjaXR5OjEiCiAgICAgICAgICAgaWQ9InBhdGg0ODkxLTEtNTAtOC0yLTEtOS04LTIiCiAgICAgICAgICAgaW5rc2NhcGU6Y29ubmVjdG9yLWN1cnZhdHVyZT0iMCIgLz4KICAgICAgICA8cGF0aAogICAgICAgICAgIGQ9Im0gMTI2LjI2MzM0LDE2Ni41NjI4MyBoIDI0Ljg4NzkyIHYgLTEyLjE4Nzk2IGggLTI0Ljg4NzkyIHoiCiAgICAgICAgICAgc3R5bGU9ImZpbGw6I2FmYWJhYjtmaWxsLW9wYWNpdHk6MC4zOTIxNTY4NjtmaWxsLXJ1bGU6ZXZlbm9kZDtzdHJva2U6I2ZmZmZmZjtzdHJva2Utd2lkdGg6MC41Njg5NzIwNTtzdHJva2UtbWl0ZXJsaW1pdDo0O3N0cm9rZS1kYXNoYXJyYXk6bm9uZTtzdHJva2Utb3BhY2l0eToxIgogICAgICAgICAgIGlkPSJwYXRoNDg5MS0xLTUwLTgtMi0xLTktOC0yLTQiCiAgICAgICAgICAgaW5rc2NhcGU6Y29ubmVjdG9yLWN1cnZhdHVyZT0iMCIgLz4KICAgICAgPC9nPgogICAgICA8cGF0aAogICAgICAgICBpbmtzY2FwZTpjb25uZWN0b3ItY3VydmF0dXJlPSIwIgogICAgICAgICBpZD0icGF0aDQ4OTEtMS01MC04LTItNy04LTIiCiAgICAgICAgIHN0eWxlPSJmaWxsOiNhZmFiYWI7ZmlsbC1vcGFjaXR5OjE7ZmlsbC1ydWxlOmV2ZW5vZGQ7c3Ryb2tlOiNmZmZmZmY7c3Ryb2tlLXdpZHRoOjAuNTY4OTcyMDU7c3Ryb2tlLW1pdGVybGltaXQ6NDtzdHJva2UtZGFzaGFycmF5Om5vbmU7c3Ryb2tlLW9wYWNpdHk6MSIKICAgICAgICAgZD0ibSAxMjYuMjYzMzMsMTI3LjQ0NjggaCAyNC44ODc5MyB2IC0xMi4xODc5NiBoIC0yNC44ODc5MyB6IiAvPgogICAgICA8cGF0aAogICAgICAgICBpbmtzY2FwZTpjb25uZWN0b3ItY3VydmF0dXJlPSIwIgogICAgICAgICBpZD0icGF0aDQ4OTEtMS01MC04LTItMS05LTQtMiIKICAgICAgICAgc3R5bGU9ImZpbGw6I2FmYWJhYjtmaWxsLW9wYWNpdHk6MC4zOTIxNTY4NjtmaWxsLXJ1bGU6ZXZlbm9kZDtzdHJva2U6I2ZmZmZmZjtzdHJva2Utd2lkdGg6MC41Njg5NzIwNTtzdHJva2UtbWl0ZXJsaW1pdDo0O3N0cm9rZS1kYXNoYXJyYXk6bm9uZTtzdHJva2Utb3BhY2l0eToxIgogICAgICAgICBkPSJtIDEyNi4yNjMzNCwxNDEuMTYyODEgaCAyNC44ODc5MiB2IC0xMi4xODc5NiBoIC0yNC44ODc5MiB6IiAvPgogICAgICA8cGF0aAogICAgICAgICBpbmtzY2FwZTpjb25uZWN0b3ItY3VydmF0dXJlPSIwIgogICAgICAgICBpZD0icGF0aDQ4OTEtMS01MC04LTItNy01LTUtMSIKICAgICAgICAgc3R5bGU9ImZpbGw6I2FmYWJhYjtmaWxsLW9wYWNpdHk6MC4zOTIxNTY4NjtmaWxsLXJ1bGU6ZXZlbm9kZDtzdHJva2U6I2ZmZmZmZjtzdHJva2Utd2lkdGg6MC41Njg5NzIwNTtzdHJva2UtbWl0ZXJsaW1pdDo0O3N0cm9rZS1kYXNoYXJyYXk6bm9uZTtzdHJva2Utb3BhY2l0eToxIgogICAgICAgICBkPSJtIDEyNi4yNjMzMywxNTMuODYyODEgaCAyNC44ODc5MyB2IC0xMi4xODc5NSBoIC0yNC44ODc5MyB6IiAvPgogICAgICA8cGF0aAogICAgICAgICBpbmtzY2FwZTpjb25uZWN0b3ItY3VydmF0dXJlPSIwIgogICAgICAgICBpZD0icGF0aDQ4OTEtMS01MC04LTItMS05LTgtMi03LTYiCiAgICAgICAgIHN0eWxlPSJmaWxsOiNhZmFiYWI7ZmlsbC1vcGFjaXR5OjAuMzkyMTU2ODY7ZmlsbC1ydWxlOmV2ZW5vZGQ7c3Ryb2tlOiNmZmZmZmY7c3Ryb2tlLXdpZHRoOjAuNTY4OTcyMDU7c3Ryb2tlLW1pdGVybGltaXQ6NDtzdHJva2UtZGFzaGFycmF5Om5vbmU7c3Ryb2tlLW9wYWNpdHk6MSIKICAgICAgICAgZD0ibSAxMjYuMjYzMzQsMTc5LjI2Mjg0IGggMjQuODg3OTIgdiAtMTIuMTg3OTcgaCAtMjQuODg3OTIgeiIgLz4KICAgICAgPHBhdGgKICAgICAgICAgaW5rc2NhcGU6Y29ubmVjdG9yLWN1cnZhdHVyZT0iMCIKICAgICAgICAgaWQ9InBhdGg0ODkxLTEtNTAtOC0yLTEtOS04LTItNy0xLTIiCiAgICAgICAgIHN0eWxlPSJmaWxsOiNhZmFiYWI7ZmlsbC1vcGFjaXR5OjAuMzkyMTU2ODY7ZmlsbC1ydWxlOmV2ZW5vZGQ7c3Ryb2tlOiNmZmZmZmY7c3Ryb2tlLXdpZHRoOjAuNTY4OTcyMDU7c3Ryb2tlLW1pdGVybGltaXQ6NDtzdHJva2UtZGFzaGFycmF5Om5vbmU7c3Ryb2tlLW9wYWNpdHk6MSIKICAgICAgICAgZD0ibSAxMjYuMjYzMzQsMTkxLjk2Mjg0IGggMjQuODg3OTIgdiAtMTIuMTg3OTYgaCAtMjQuODg3OTIgeiIgLz4KICAgICAgPHRleHQKICAgICAgICAgaWQ9InRleHQ0NzI0Ny05IgogICAgICAgICB5PSIyMDAuMzA0MDMiCiAgICAgICAgIHg9IjEwMC41NTAxMyIKICAgICAgICAgc3R5bGU9ImZvbnQtc3R5bGU6bm9ybWFsO2ZvbnQtd2VpZ2h0Om5vcm1hbDtmb250LXNpemU6MTAuNTgzMzMzMDJweDtsaW5lLWhlaWdodDoxLjI1O2ZvbnQtZmFtaWx5OnNhbnMtc2VyaWY7bGV0dGVyLXNwYWNpbmc6MHB4O3dvcmQtc3BhY2luZzowcHg7ZmlsbDojMDAwMDAwO2ZpbGwtb3BhY2l0eToxO3N0cm9rZTpub25lO3N0cm9rZS13aWR0aDowLjI5Mzk5NjU3IgogICAgICAgICB4bWw6c3BhY2U9InByZXNlcnZlIj48dHNwYW4KICAgICAgICAgICBzdHlsZT0iZm9udC1zdHlsZTpub3JtYWw7Zm9udC12YXJpYW50Om5vcm1hbDtmb250LXdlaWdodDpub3JtYWw7Zm9udC1zdHJldGNoOm5vcm1hbDtmb250LXNpemU6Ny4wNTU1NTUzNHB4O2ZvbnQtZmFtaWx5Om1vbm9zcGFjZTstaW5rc2NhcGUtZm9udC1zcGVjaWZpY2F0aW9uOm1vbm9zcGFjZTtzdHJva2Utd2lkdGg6MC4yOTM5OTY1NyIKICAgICAgICAgICB5PSIyMDAuMzA0MDMiCiAgICAgICAgICAgeD0iMTAwLjU1MDEzIgogICAgICAgICAgIGlkPSJ0c3BhbjQ3MjQ1LTciCiAgICAgICAgICAgc29kaXBvZGk6cm9sZT0ibGluZSI+Y29sdW1uPC90c3Bhbj48L3RleHQ+CiAgICAgIDx0ZXh0CiAgICAgICAgIGlkPSJ0ZXh0NDcyNDctMSIKICAgICAgICAgeT0iMTAzLjgxMzA4IgogICAgICAgICB4PSI3Ni4zMDY2NzEiCiAgICAgICAgIHN0eWxlPSJmb250LXN0eWxlOm5vcm1hbDtmb250LXdlaWdodDpub3JtYWw7Zm9udC1zaXplOjEwLjU4MzMzMzAycHg7bGluZS1oZWlnaHQ6MS4yNTtmb250LWZhbWlseTpzYW5zLXNlcmlmO2xldHRlci1zcGFjaW5nOjBweDt3b3JkLXNwYWNpbmc6MHB4O2ZpbGw6IzAwMDAwMDtmaWxsLW9wYWNpdHk6MTtzdHJva2U6bm9uZTtzdHJva2Utd2lkdGg6MC4yOTM5OTY1NyIKICAgICAgICAgeG1sOnNwYWNlPSJwcmVzZXJ2ZSI+PHRzcGFuCiAgICAgICAgICAgc3R5bGU9ImZvbnQtc3R5bGU6bm9ybWFsO2ZvbnQtdmFyaWFudDpub3JtYWw7Zm9udC13ZWlnaHQ6bm9ybWFsO2ZvbnQtc3RyZXRjaDpub3JtYWw7Zm9udC1zaXplOjEwLjU4MzMzMzAycHg7Zm9udC1mYW1pbHk6bW9ub3NwYWNlOy1pbmtzY2FwZS1mb250LXNwZWNpZmljYXRpb246bW9ub3NwYWNlO3N0cm9rZS13aWR0aDowLjI5Mzk5NjU3IgogICAgICAgICAgIHk9IjEwMy44MTMwOCIKICAgICAgICAgICB4PSI3Ni4zMDY2NzEiCiAgICAgICAgICAgaWQ9InRzcGFuNDcyNDUtMyIKICAgICAgICAgICBzb2RpcG9kaTpyb2xlPSJsaW5lIj5EYXRhRnJhbWU8L3RzcGFuPjwvdGV4dD4KICAgICAgPHJlY3QKICAgICAgICAgeT0iMTEzLjYxNjg5IgogICAgICAgICB4PSIxMDAuNTUwNzMiCiAgICAgICAgIGhlaWdodD0iNzkuOTg3OTA3IgogICAgICAgICB3aWR0aD0iMjUuNTEzMTY1IgogICAgICAgICBpZD0icmVjdDg1MCIKICAgICAgICAgc3R5bGU9ImZpbGw6bm9uZTtmaWxsLW9wYWNpdHk6MTtzdHJva2U6IzAwMDAwMDtzdHJva2Utd2lkdGg6MC4yOTM5OTY1NztzdHJva2Utb3BhY2l0eToxIiAvPgogICAgICA8cmVjdAogICAgICAgICB5PSIxNTQuMTA3MTUiCiAgICAgICAgIHg9IjIyLjc0NTcxIgogICAgICAgICBoZWlnaHQ9IjEyLjc3MTAyOSIKICAgICAgICAgd2lkdGg9IjEyOS4zMDcxOSIKICAgICAgICAgaWQ9InJlY3Q4NTAtMyIKICAgICAgICAgc3R5bGU9ImZpbGw6bm9uZTtmaWxsLW9wYWNpdHk6MTtzdHJva2U6IzAwMDAwMDtzdHJva2Utd2lkdGg6MC4yOTM5OTY1NztzdHJva2Utb3BhY2l0eToxIiAvPgogICAgICA8dGV4dAogICAgICAgICBpZD0idGV4dDQ3MjQ3LTktNiIKICAgICAgICAgeT0iMTYyLjQxODQ3IgogICAgICAgICB4PSIxNTMuMDcxODciCiAgICAgICAgIHN0eWxlPSJmb250LXN0eWxlOm5vcm1hbDtmb250LXdlaWdodDpub3JtYWw7Zm9udC1zaXplOjEwLjU4MzMzMzAycHg7bGluZS1oZWlnaHQ6MS4yNTtmb250LWZhbWlseTpzYW5zLXNlcmlmO2xldHRlci1zcGFjaW5nOjBweDt3b3JkLXNwYWNpbmc6MHB4O2ZpbGw6IzAwMDAwMDtmaWxsLW9wYWNpdHk6MTtzdHJva2U6bm9uZTtzdHJva2Utd2lkdGg6MC4yOTM5OTY1NyIKICAgICAgICAgeG1sOnNwYWNlPSJwcmVzZXJ2ZSI+PHRzcGFuCiAgICAgICAgICAgc3R5bGU9ImZvbnQtc3R5bGU6bm9ybWFsO2ZvbnQtdmFyaWFudDpub3JtYWw7Zm9udC13ZWlnaHQ6bm9ybWFsO2ZvbnQtc3RyZXRjaDpub3JtYWw7Zm9udC1zaXplOjcuMDU1NTU1MzRweDtmb250LWZhbWlseTptb25vc3BhY2U7LWlua3NjYXBlLWZvbnQtc3BlY2lmaWNhdGlvbjptb25vc3BhY2U7c3Ryb2tlLXdpZHRoOjAuMjkzOTk2NTciCiAgICAgICAgICAgeT0iMTYyLjQxODQ3IgogICAgICAgICAgIHg9IjE1My4wNzE4NyIKICAgICAgICAgICBpZD0idHNwYW40NzI0NS03LTciCiAgICAgICAgICAgc29kaXBvZGk6cm9sZT0ibGluZSI+cm93PC90c3Bhbj48L3RleHQ+CiAgICA8L2c+CiAgPC9nPgo8L3N2Zz4K)"
      ],
      "metadata": {
        "id": "BCRBVeC2ZBVo"
      }
    },
    {
      "cell_type": "markdown",
      "source": [
        "# Creating Pandas DataFrames\n",
        "\n",
        "There are a few ways to create a `pandas.DataFrame`. Let's create one using the `DataFrame` function."
      ],
      "metadata": {
        "id": "sCGl52nGd7fi"
      }
    },
    {
      "cell_type": "code",
      "source": [
        "# data is a list of dictionaries\n",
        "data = [{'a': 1, 'b': 2, 'c': 3, 'd': 4},\n",
        "        {'a': 100, 'b': 200, 'c': 300, 'd': 400},\n",
        "        {'a': 1000, 'b': 2000, 'c': 3000, 'd': 4000 }]\n",
        "\n",
        "df1 = pd.DataFrame(data)\n",
        "df1"
      ],
      "metadata": {
        "colab": {
          "base_uri": "https://localhost:8080/",
          "height": 143
        },
        "id": "jpBtF2xldi1Z",
        "outputId": "cc9f06d4-6d78-4688-ea78-6fc4d94b1287"
      },
      "execution_count": null,
      "outputs": [
        {
          "output_type": "execute_result",
          "data": {
            "text/html": [
              "\n",
              "  <div id=\"df-15c9ce78-c321-4701-9e88-dd659685f205\">\n",
              "    <div class=\"colab-df-container\">\n",
              "      <div>\n",
              "<style scoped>\n",
              "    .dataframe tbody tr th:only-of-type {\n",
              "        vertical-align: middle;\n",
              "    }\n",
              "\n",
              "    .dataframe tbody tr th {\n",
              "        vertical-align: top;\n",
              "    }\n",
              "\n",
              "    .dataframe thead th {\n",
              "        text-align: right;\n",
              "    }\n",
              "</style>\n",
              "<table border=\"1\" class=\"dataframe\">\n",
              "  <thead>\n",
              "    <tr style=\"text-align: right;\">\n",
              "      <th></th>\n",
              "      <th>a</th>\n",
              "      <th>b</th>\n",
              "      <th>c</th>\n",
              "      <th>d</th>\n",
              "    </tr>\n",
              "  </thead>\n",
              "  <tbody>\n",
              "    <tr>\n",
              "      <th>0</th>\n",
              "      <td>1</td>\n",
              "      <td>2</td>\n",
              "      <td>3</td>\n",
              "      <td>4</td>\n",
              "    </tr>\n",
              "    <tr>\n",
              "      <th>1</th>\n",
              "      <td>100</td>\n",
              "      <td>200</td>\n",
              "      <td>300</td>\n",
              "      <td>400</td>\n",
              "    </tr>\n",
              "    <tr>\n",
              "      <th>2</th>\n",
              "      <td>1000</td>\n",
              "      <td>2000</td>\n",
              "      <td>3000</td>\n",
              "      <td>4000</td>\n",
              "    </tr>\n",
              "  </tbody>\n",
              "</table>\n",
              "</div>\n",
              "      <button class=\"colab-df-convert\" onclick=\"convertToInteractive('df-15c9ce78-c321-4701-9e88-dd659685f205')\"\n",
              "              title=\"Convert this dataframe to an interactive table.\"\n",
              "              style=\"display:none;\">\n",
              "        \n",
              "  <svg xmlns=\"http://www.w3.org/2000/svg\" height=\"24px\"viewBox=\"0 0 24 24\"\n",
              "       width=\"24px\">\n",
              "    <path d=\"M0 0h24v24H0V0z\" fill=\"none\"/>\n",
              "    <path d=\"M18.56 5.44l.94 2.06.94-2.06 2.06-.94-2.06-.94-.94-2.06-.94 2.06-2.06.94zm-11 1L8.5 8.5l.94-2.06 2.06-.94-2.06-.94L8.5 2.5l-.94 2.06-2.06.94zm10 10l.94 2.06.94-2.06 2.06-.94-2.06-.94-.94-2.06-.94 2.06-2.06.94z\"/><path d=\"M17.41 7.96l-1.37-1.37c-.4-.4-.92-.59-1.43-.59-.52 0-1.04.2-1.43.59L10.3 9.45l-7.72 7.72c-.78.78-.78 2.05 0 2.83L4 21.41c.39.39.9.59 1.41.59.51 0 1.02-.2 1.41-.59l7.78-7.78 2.81-2.81c.8-.78.8-2.07 0-2.86zM5.41 20L4 18.59l7.72-7.72 1.47 1.35L5.41 20z\"/>\n",
              "  </svg>\n",
              "      </button>\n",
              "      \n",
              "  <style>\n",
              "    .colab-df-container {\n",
              "      display:flex;\n",
              "      flex-wrap:wrap;\n",
              "      gap: 12px;\n",
              "    }\n",
              "\n",
              "    .colab-df-convert {\n",
              "      background-color: #E8F0FE;\n",
              "      border: none;\n",
              "      border-radius: 50%;\n",
              "      cursor: pointer;\n",
              "      display: none;\n",
              "      fill: #1967D2;\n",
              "      height: 32px;\n",
              "      padding: 0 0 0 0;\n",
              "      width: 32px;\n",
              "    }\n",
              "\n",
              "    .colab-df-convert:hover {\n",
              "      background-color: #E2EBFA;\n",
              "      box-shadow: 0px 1px 2px rgba(60, 64, 67, 0.3), 0px 1px 3px 1px rgba(60, 64, 67, 0.15);\n",
              "      fill: #174EA6;\n",
              "    }\n",
              "\n",
              "    [theme=dark] .colab-df-convert {\n",
              "      background-color: #3B4455;\n",
              "      fill: #D2E3FC;\n",
              "    }\n",
              "\n",
              "    [theme=dark] .colab-df-convert:hover {\n",
              "      background-color: #434B5C;\n",
              "      box-shadow: 0px 1px 3px 1px rgba(0, 0, 0, 0.15);\n",
              "      filter: drop-shadow(0px 1px 2px rgba(0, 0, 0, 0.3));\n",
              "      fill: #FFFFFF;\n",
              "    }\n",
              "  </style>\n",
              "\n",
              "      <script>\n",
              "        const buttonEl =\n",
              "          document.querySelector('#df-15c9ce78-c321-4701-9e88-dd659685f205 button.colab-df-convert');\n",
              "        buttonEl.style.display =\n",
              "          google.colab.kernel.accessAllowed ? 'block' : 'none';\n",
              "\n",
              "        async function convertToInteractive(key) {\n",
              "          const element = document.querySelector('#df-15c9ce78-c321-4701-9e88-dd659685f205');\n",
              "          const dataTable =\n",
              "            await google.colab.kernel.invokeFunction('convertToInteractive',\n",
              "                                                     [key], {});\n",
              "          if (!dataTable) return;\n",
              "\n",
              "          const docLinkHtml = 'Like what you see? Visit the ' +\n",
              "            '<a target=\"_blank\" href=https://colab.research.google.com/notebooks/data_table.ipynb>data table notebook</a>'\n",
              "            + ' to learn more about interactive tables.';\n",
              "          element.innerHTML = '';\n",
              "          dataTable['output_type'] = 'display_data';\n",
              "          await google.colab.output.renderOutput(dataTable, element);\n",
              "          const docLink = document.createElement('div');\n",
              "          docLink.innerHTML = docLinkHtml;\n",
              "          element.appendChild(docLink);\n",
              "        }\n",
              "      </script>\n",
              "    </div>\n",
              "  </div>\n",
              "  "
            ],
            "text/plain": [
              "      a     b     c     d\n",
              "0     1     2     3     4\n",
              "1   100   200   300   400\n",
              "2  1000  2000  3000  4000"
            ]
          },
          "metadata": {},
          "execution_count": 5
        }
      ]
    },
    {
      "cell_type": "markdown",
      "source": [
        "To select a column in our `DataFrame`, we can use the square brackets notation by passing in the name of the column. This is very similar to how we get the value associated with a key in a dictionary."
      ],
      "metadata": {
        "id": "g6m20DEufmC3"
      }
    },
    {
      "cell_type": "code",
      "source": [
        "col_a = df1['a']\n",
        "col_a"
      ],
      "metadata": {
        "colab": {
          "base_uri": "https://localhost:8080/"
        },
        "id": "iHV-OFRhfGaw",
        "outputId": "7c1646c1-4447-48a9-ea0d-089b10ea8ad7"
      },
      "execution_count": null,
      "outputs": [
        {
          "output_type": "execute_result",
          "data": {
            "text/plain": [
              "0       1\n",
              "1     100\n",
              "2    1000\n",
              "Name: a, dtype: int64"
            ]
          },
          "metadata": {},
          "execution_count": 6
        }
      ]
    },
    {
      "cell_type": "markdown",
      "source": [
        "Note the type of a column in our `DataFrame`. A `pandas.Series` is a one-dimensional ndarray with axis labels (including time series).\n",
        "\n",
        "**Further reading**: https://pandas.pydata.org/docs/reference/api/pandas.Series.html"
      ],
      "metadata": {
        "id": "0KP80mnhgPHU"
      }
    },
    {
      "cell_type": "code",
      "source": [
        "type(col_a)"
      ],
      "metadata": {
        "colab": {
          "base_uri": "https://localhost:8080/"
        },
        "id": "P3TZacxUgQ6B",
        "outputId": "006f01ed-f9ce-4d5a-cea6-b9407026c763"
      },
      "execution_count": null,
      "outputs": [
        {
          "output_type": "execute_result",
          "data": {
            "text/plain": [
              "pandas.core.series.Series"
            ]
          },
          "metadata": {},
          "execution_count": 7
        }
      ]
    },
    {
      "cell_type": "markdown",
      "source": [
        "Similarly, we can extract multiple columns in our `DataFrame` by passing in a list of column names. Again, note the type of the output."
      ],
      "metadata": {
        "id": "Qf_BsMbdhRk1"
      }
    },
    {
      "cell_type": "code",
      "source": [
        "cols_ab = df1[['a', 'b']]\n",
        "cols_ab"
      ],
      "metadata": {
        "colab": {
          "base_uri": "https://localhost:8080/",
          "height": 143
        },
        "id": "i6hPPhAZhGlf",
        "outputId": "982213c6-43d0-4865-9cdc-b4cea088abe3"
      },
      "execution_count": null,
      "outputs": [
        {
          "output_type": "execute_result",
          "data": {
            "text/html": [
              "\n",
              "  <div id=\"df-342b6d2a-378e-4003-814c-3183a003f596\">\n",
              "    <div class=\"colab-df-container\">\n",
              "      <div>\n",
              "<style scoped>\n",
              "    .dataframe tbody tr th:only-of-type {\n",
              "        vertical-align: middle;\n",
              "    }\n",
              "\n",
              "    .dataframe tbody tr th {\n",
              "        vertical-align: top;\n",
              "    }\n",
              "\n",
              "    .dataframe thead th {\n",
              "        text-align: right;\n",
              "    }\n",
              "</style>\n",
              "<table border=\"1\" class=\"dataframe\">\n",
              "  <thead>\n",
              "    <tr style=\"text-align: right;\">\n",
              "      <th></th>\n",
              "      <th>a</th>\n",
              "      <th>b</th>\n",
              "    </tr>\n",
              "  </thead>\n",
              "  <tbody>\n",
              "    <tr>\n",
              "      <th>0</th>\n",
              "      <td>1</td>\n",
              "      <td>2</td>\n",
              "    </tr>\n",
              "    <tr>\n",
              "      <th>1</th>\n",
              "      <td>100</td>\n",
              "      <td>200</td>\n",
              "    </tr>\n",
              "    <tr>\n",
              "      <th>2</th>\n",
              "      <td>1000</td>\n",
              "      <td>2000</td>\n",
              "    </tr>\n",
              "  </tbody>\n",
              "</table>\n",
              "</div>\n",
              "      <button class=\"colab-df-convert\" onclick=\"convertToInteractive('df-342b6d2a-378e-4003-814c-3183a003f596')\"\n",
              "              title=\"Convert this dataframe to an interactive table.\"\n",
              "              style=\"display:none;\">\n",
              "        \n",
              "  <svg xmlns=\"http://www.w3.org/2000/svg\" height=\"24px\"viewBox=\"0 0 24 24\"\n",
              "       width=\"24px\">\n",
              "    <path d=\"M0 0h24v24H0V0z\" fill=\"none\"/>\n",
              "    <path d=\"M18.56 5.44l.94 2.06.94-2.06 2.06-.94-2.06-.94-.94-2.06-.94 2.06-2.06.94zm-11 1L8.5 8.5l.94-2.06 2.06-.94-2.06-.94L8.5 2.5l-.94 2.06-2.06.94zm10 10l.94 2.06.94-2.06 2.06-.94-2.06-.94-.94-2.06-.94 2.06-2.06.94z\"/><path d=\"M17.41 7.96l-1.37-1.37c-.4-.4-.92-.59-1.43-.59-.52 0-1.04.2-1.43.59L10.3 9.45l-7.72 7.72c-.78.78-.78 2.05 0 2.83L4 21.41c.39.39.9.59 1.41.59.51 0 1.02-.2 1.41-.59l7.78-7.78 2.81-2.81c.8-.78.8-2.07 0-2.86zM5.41 20L4 18.59l7.72-7.72 1.47 1.35L5.41 20z\"/>\n",
              "  </svg>\n",
              "      </button>\n",
              "      \n",
              "  <style>\n",
              "    .colab-df-container {\n",
              "      display:flex;\n",
              "      flex-wrap:wrap;\n",
              "      gap: 12px;\n",
              "    }\n",
              "\n",
              "    .colab-df-convert {\n",
              "      background-color: #E8F0FE;\n",
              "      border: none;\n",
              "      border-radius: 50%;\n",
              "      cursor: pointer;\n",
              "      display: none;\n",
              "      fill: #1967D2;\n",
              "      height: 32px;\n",
              "      padding: 0 0 0 0;\n",
              "      width: 32px;\n",
              "    }\n",
              "\n",
              "    .colab-df-convert:hover {\n",
              "      background-color: #E2EBFA;\n",
              "      box-shadow: 0px 1px 2px rgba(60, 64, 67, 0.3), 0px 1px 3px 1px rgba(60, 64, 67, 0.15);\n",
              "      fill: #174EA6;\n",
              "    }\n",
              "\n",
              "    [theme=dark] .colab-df-convert {\n",
              "      background-color: #3B4455;\n",
              "      fill: #D2E3FC;\n",
              "    }\n",
              "\n",
              "    [theme=dark] .colab-df-convert:hover {\n",
              "      background-color: #434B5C;\n",
              "      box-shadow: 0px 1px 3px 1px rgba(0, 0, 0, 0.15);\n",
              "      filter: drop-shadow(0px 1px 2px rgba(0, 0, 0, 0.3));\n",
              "      fill: #FFFFFF;\n",
              "    }\n",
              "  </style>\n",
              "\n",
              "      <script>\n",
              "        const buttonEl =\n",
              "          document.querySelector('#df-342b6d2a-378e-4003-814c-3183a003f596 button.colab-df-convert');\n",
              "        buttonEl.style.display =\n",
              "          google.colab.kernel.accessAllowed ? 'block' : 'none';\n",
              "\n",
              "        async function convertToInteractive(key) {\n",
              "          const element = document.querySelector('#df-342b6d2a-378e-4003-814c-3183a003f596');\n",
              "          const dataTable =\n",
              "            await google.colab.kernel.invokeFunction('convertToInteractive',\n",
              "                                                     [key], {});\n",
              "          if (!dataTable) return;\n",
              "\n",
              "          const docLinkHtml = 'Like what you see? Visit the ' +\n",
              "            '<a target=\"_blank\" href=https://colab.research.google.com/notebooks/data_table.ipynb>data table notebook</a>'\n",
              "            + ' to learn more about interactive tables.';\n",
              "          element.innerHTML = '';\n",
              "          dataTable['output_type'] = 'display_data';\n",
              "          await google.colab.output.renderOutput(dataTable, element);\n",
              "          const docLink = document.createElement('div');\n",
              "          docLink.innerHTML = docLinkHtml;\n",
              "          element.appendChild(docLink);\n",
              "        }\n",
              "      </script>\n",
              "    </div>\n",
              "  </div>\n",
              "  "
            ],
            "text/plain": [
              "      a     b\n",
              "0     1     2\n",
              "1   100   200\n",
              "2  1000  2000"
            ]
          },
          "metadata": {},
          "execution_count": 11
        }
      ]
    },
    {
      "cell_type": "markdown",
      "source": [
        "To select a row in our `DataFrame`, we can make use of the method `pandas.DataFrame.iloc` along with the square brackets notation.\n",
        "\n",
        "**Documentation**: https://pandas.pydata.org/docs/reference/api/pandas.DataFrame.iloc.html"
      ],
      "metadata": {
        "id": "5caAgmVvhpCg"
      }
    },
    {
      "cell_type": "code",
      "source": [
        "# select the first row\n",
        "row_0 = df1.iloc[0]\n",
        "row_0"
      ],
      "metadata": {
        "colab": {
          "base_uri": "https://localhost:8080/"
        },
        "id": "hghRjHDDiG3u",
        "outputId": "03f4b09a-6aa8-48bf-b45f-df1c8664cee1"
      },
      "execution_count": null,
      "outputs": [
        {
          "output_type": "execute_result",
          "data": {
            "text/plain": [
              "a    1\n",
              "b    2\n",
              "c    3\n",
              "d    4\n",
              "Name: 0, dtype: int64"
            ]
          },
          "metadata": {},
          "execution_count": 9
        }
      ]
    },
    {
      "cell_type": "markdown",
      "source": [
        "Note the type of a row in our `DataFrame`."
      ],
      "metadata": {
        "id": "Js77OlPxi5-k"
      }
    },
    {
      "cell_type": "code",
      "source": [
        "type(row_0)"
      ],
      "metadata": {
        "colab": {
          "base_uri": "https://localhost:8080/"
        },
        "id": "kw1_Rc7dirId",
        "outputId": "2c1f0433-7300-485e-fcf9-b5c51b68b864"
      },
      "execution_count": null,
      "outputs": [
        {
          "output_type": "execute_result",
          "data": {
            "text/plain": [
              "pandas.core.series.Series"
            ]
          },
          "metadata": {},
          "execution_count": 10
        }
      ]
    },
    {
      "cell_type": "markdown",
      "source": [
        "We can select multiple rows in our `DataFrame` much like how we can slice a Python list or a NumPy array. Again, note the type of the output."
      ],
      "metadata": {
        "id": "fN-MpqS-jBTm"
      }
    },
    {
      "cell_type": "code",
      "source": [
        "rows_01 = df1.iloc[0:2]\n",
        "rows_01"
      ],
      "metadata": {
        "colab": {
          "base_uri": "https://localhost:8080/",
          "height": 112
        },
        "id": "A84SDBYPjViU",
        "outputId": "e60a2cbf-d786-4384-a389-e213ae5a2b34"
      },
      "execution_count": null,
      "outputs": [
        {
          "output_type": "execute_result",
          "data": {
            "text/html": [
              "\n",
              "  <div id=\"df-cfa15f68-560e-417a-8de4-84eb7e382426\">\n",
              "    <div class=\"colab-df-container\">\n",
              "      <div>\n",
              "<style scoped>\n",
              "    .dataframe tbody tr th:only-of-type {\n",
              "        vertical-align: middle;\n",
              "    }\n",
              "\n",
              "    .dataframe tbody tr th {\n",
              "        vertical-align: top;\n",
              "    }\n",
              "\n",
              "    .dataframe thead th {\n",
              "        text-align: right;\n",
              "    }\n",
              "</style>\n",
              "<table border=\"1\" class=\"dataframe\">\n",
              "  <thead>\n",
              "    <tr style=\"text-align: right;\">\n",
              "      <th></th>\n",
              "      <th>a</th>\n",
              "      <th>b</th>\n",
              "      <th>c</th>\n",
              "      <th>d</th>\n",
              "    </tr>\n",
              "  </thead>\n",
              "  <tbody>\n",
              "    <tr>\n",
              "      <th>0</th>\n",
              "      <td>1</td>\n",
              "      <td>2</td>\n",
              "      <td>3</td>\n",
              "      <td>4</td>\n",
              "    </tr>\n",
              "    <tr>\n",
              "      <th>1</th>\n",
              "      <td>100</td>\n",
              "      <td>200</td>\n",
              "      <td>300</td>\n",
              "      <td>400</td>\n",
              "    </tr>\n",
              "  </tbody>\n",
              "</table>\n",
              "</div>\n",
              "      <button class=\"colab-df-convert\" onclick=\"convertToInteractive('df-cfa15f68-560e-417a-8de4-84eb7e382426')\"\n",
              "              title=\"Convert this dataframe to an interactive table.\"\n",
              "              style=\"display:none;\">\n",
              "        \n",
              "  <svg xmlns=\"http://www.w3.org/2000/svg\" height=\"24px\"viewBox=\"0 0 24 24\"\n",
              "       width=\"24px\">\n",
              "    <path d=\"M0 0h24v24H0V0z\" fill=\"none\"/>\n",
              "    <path d=\"M18.56 5.44l.94 2.06.94-2.06 2.06-.94-2.06-.94-.94-2.06-.94 2.06-2.06.94zm-11 1L8.5 8.5l.94-2.06 2.06-.94-2.06-.94L8.5 2.5l-.94 2.06-2.06.94zm10 10l.94 2.06.94-2.06 2.06-.94-2.06-.94-.94-2.06-.94 2.06-2.06.94z\"/><path d=\"M17.41 7.96l-1.37-1.37c-.4-.4-.92-.59-1.43-.59-.52 0-1.04.2-1.43.59L10.3 9.45l-7.72 7.72c-.78.78-.78 2.05 0 2.83L4 21.41c.39.39.9.59 1.41.59.51 0 1.02-.2 1.41-.59l7.78-7.78 2.81-2.81c.8-.78.8-2.07 0-2.86zM5.41 20L4 18.59l7.72-7.72 1.47 1.35L5.41 20z\"/>\n",
              "  </svg>\n",
              "      </button>\n",
              "      \n",
              "  <style>\n",
              "    .colab-df-container {\n",
              "      display:flex;\n",
              "      flex-wrap:wrap;\n",
              "      gap: 12px;\n",
              "    }\n",
              "\n",
              "    .colab-df-convert {\n",
              "      background-color: #E8F0FE;\n",
              "      border: none;\n",
              "      border-radius: 50%;\n",
              "      cursor: pointer;\n",
              "      display: none;\n",
              "      fill: #1967D2;\n",
              "      height: 32px;\n",
              "      padding: 0 0 0 0;\n",
              "      width: 32px;\n",
              "    }\n",
              "\n",
              "    .colab-df-convert:hover {\n",
              "      background-color: #E2EBFA;\n",
              "      box-shadow: 0px 1px 2px rgba(60, 64, 67, 0.3), 0px 1px 3px 1px rgba(60, 64, 67, 0.15);\n",
              "      fill: #174EA6;\n",
              "    }\n",
              "\n",
              "    [theme=dark] .colab-df-convert {\n",
              "      background-color: #3B4455;\n",
              "      fill: #D2E3FC;\n",
              "    }\n",
              "\n",
              "    [theme=dark] .colab-df-convert:hover {\n",
              "      background-color: #434B5C;\n",
              "      box-shadow: 0px 1px 3px 1px rgba(0, 0, 0, 0.15);\n",
              "      filter: drop-shadow(0px 1px 2px rgba(0, 0, 0, 0.3));\n",
              "      fill: #FFFFFF;\n",
              "    }\n",
              "  </style>\n",
              "\n",
              "      <script>\n",
              "        const buttonEl =\n",
              "          document.querySelector('#df-cfa15f68-560e-417a-8de4-84eb7e382426 button.colab-df-convert');\n",
              "        buttonEl.style.display =\n",
              "          google.colab.kernel.accessAllowed ? 'block' : 'none';\n",
              "\n",
              "        async function convertToInteractive(key) {\n",
              "          const element = document.querySelector('#df-cfa15f68-560e-417a-8de4-84eb7e382426');\n",
              "          const dataTable =\n",
              "            await google.colab.kernel.invokeFunction('convertToInteractive',\n",
              "                                                     [key], {});\n",
              "          if (!dataTable) return;\n",
              "\n",
              "          const docLinkHtml = 'Like what you see? Visit the ' +\n",
              "            '<a target=\"_blank\" href=https://colab.research.google.com/notebooks/data_table.ipynb>data table notebook</a>'\n",
              "            + ' to learn more about interactive tables.';\n",
              "          element.innerHTML = '';\n",
              "          dataTable['output_type'] = 'display_data';\n",
              "          await google.colab.output.renderOutput(dataTable, element);\n",
              "          const docLink = document.createElement('div');\n",
              "          docLink.innerHTML = docLinkHtml;\n",
              "          element.appendChild(docLink);\n",
              "        }\n",
              "      </script>\n",
              "    </div>\n",
              "  </div>\n",
              "  "
            ],
            "text/plain": [
              "     a    b    c    d\n",
              "0    1    2    3    4\n",
              "1  100  200  300  400"
            ]
          },
          "metadata": {},
          "execution_count": 12
        }
      ]
    },
    {
      "cell_type": "markdown",
      "source": [
        "Another common way to create a `DataFrame` is to \"import\" it from an existing csv file. Here, the `read_csv` function comes in handy."
      ],
      "metadata": {
        "id": "jsfIyih6j-Sf"
      }
    },
    {
      "cell_type": "code",
      "source": [
        "url = 'https://raw.githubusercontent.com/uclaacmai/beginner-track-fall-2020/main/Workshop_8/sat_vs_gpa.csv'\n",
        "df2 = pd.read_csv(url)\n",
        "df2"
      ],
      "metadata": {
        "colab": {
          "base_uri": "https://localhost:8080/",
          "height": 423
        },
        "id": "Qn1M_WTHjuOI",
        "outputId": "10c3580c-b77e-401b-e4dc-0ff897765ea5"
      },
      "execution_count": null,
      "outputs": [
        {
          "output_type": "execute_result",
          "data": {
            "text/html": [
              "\n",
              "  <div id=\"df-dee63288-4b3b-4313-b9f7-96413d7a6c80\">\n",
              "    <div class=\"colab-df-container\">\n",
              "      <div>\n",
              "<style scoped>\n",
              "    .dataframe tbody tr th:only-of-type {\n",
              "        vertical-align: middle;\n",
              "    }\n",
              "\n",
              "    .dataframe tbody tr th {\n",
              "        vertical-align: top;\n",
              "    }\n",
              "\n",
              "    .dataframe thead th {\n",
              "        text-align: right;\n",
              "    }\n",
              "</style>\n",
              "<table border=\"1\" class=\"dataframe\">\n",
              "  <thead>\n",
              "    <tr style=\"text-align: right;\">\n",
              "      <th></th>\n",
              "      <th>SAT</th>\n",
              "      <th>GPA</th>\n",
              "    </tr>\n",
              "  </thead>\n",
              "  <tbody>\n",
              "    <tr>\n",
              "      <th>0</th>\n",
              "      <td>1714</td>\n",
              "      <td>2.40</td>\n",
              "    </tr>\n",
              "    <tr>\n",
              "      <th>1</th>\n",
              "      <td>1664</td>\n",
              "      <td>2.52</td>\n",
              "    </tr>\n",
              "    <tr>\n",
              "      <th>2</th>\n",
              "      <td>1760</td>\n",
              "      <td>2.54</td>\n",
              "    </tr>\n",
              "    <tr>\n",
              "      <th>3</th>\n",
              "      <td>1685</td>\n",
              "      <td>2.74</td>\n",
              "    </tr>\n",
              "    <tr>\n",
              "      <th>4</th>\n",
              "      <td>1693</td>\n",
              "      <td>2.83</td>\n",
              "    </tr>\n",
              "    <tr>\n",
              "      <th>...</th>\n",
              "      <td>...</td>\n",
              "      <td>...</td>\n",
              "    </tr>\n",
              "    <tr>\n",
              "      <th>79</th>\n",
              "      <td>1936</td>\n",
              "      <td>3.71</td>\n",
              "    </tr>\n",
              "    <tr>\n",
              "      <th>80</th>\n",
              "      <td>1810</td>\n",
              "      <td>3.71</td>\n",
              "    </tr>\n",
              "    <tr>\n",
              "      <th>81</th>\n",
              "      <td>1987</td>\n",
              "      <td>3.73</td>\n",
              "    </tr>\n",
              "    <tr>\n",
              "      <th>82</th>\n",
              "      <td>1962</td>\n",
              "      <td>3.76</td>\n",
              "    </tr>\n",
              "    <tr>\n",
              "      <th>83</th>\n",
              "      <td>2050</td>\n",
              "      <td>3.81</td>\n",
              "    </tr>\n",
              "  </tbody>\n",
              "</table>\n",
              "<p>84 rows × 2 columns</p>\n",
              "</div>\n",
              "      <button class=\"colab-df-convert\" onclick=\"convertToInteractive('df-dee63288-4b3b-4313-b9f7-96413d7a6c80')\"\n",
              "              title=\"Convert this dataframe to an interactive table.\"\n",
              "              style=\"display:none;\">\n",
              "        \n",
              "  <svg xmlns=\"http://www.w3.org/2000/svg\" height=\"24px\"viewBox=\"0 0 24 24\"\n",
              "       width=\"24px\">\n",
              "    <path d=\"M0 0h24v24H0V0z\" fill=\"none\"/>\n",
              "    <path d=\"M18.56 5.44l.94 2.06.94-2.06 2.06-.94-2.06-.94-.94-2.06-.94 2.06-2.06.94zm-11 1L8.5 8.5l.94-2.06 2.06-.94-2.06-.94L8.5 2.5l-.94 2.06-2.06.94zm10 10l.94 2.06.94-2.06 2.06-.94-2.06-.94-.94-2.06-.94 2.06-2.06.94z\"/><path d=\"M17.41 7.96l-1.37-1.37c-.4-.4-.92-.59-1.43-.59-.52 0-1.04.2-1.43.59L10.3 9.45l-7.72 7.72c-.78.78-.78 2.05 0 2.83L4 21.41c.39.39.9.59 1.41.59.51 0 1.02-.2 1.41-.59l7.78-7.78 2.81-2.81c.8-.78.8-2.07 0-2.86zM5.41 20L4 18.59l7.72-7.72 1.47 1.35L5.41 20z\"/>\n",
              "  </svg>\n",
              "      </button>\n",
              "      \n",
              "  <style>\n",
              "    .colab-df-container {\n",
              "      display:flex;\n",
              "      flex-wrap:wrap;\n",
              "      gap: 12px;\n",
              "    }\n",
              "\n",
              "    .colab-df-convert {\n",
              "      background-color: #E8F0FE;\n",
              "      border: none;\n",
              "      border-radius: 50%;\n",
              "      cursor: pointer;\n",
              "      display: none;\n",
              "      fill: #1967D2;\n",
              "      height: 32px;\n",
              "      padding: 0 0 0 0;\n",
              "      width: 32px;\n",
              "    }\n",
              "\n",
              "    .colab-df-convert:hover {\n",
              "      background-color: #E2EBFA;\n",
              "      box-shadow: 0px 1px 2px rgba(60, 64, 67, 0.3), 0px 1px 3px 1px rgba(60, 64, 67, 0.15);\n",
              "      fill: #174EA6;\n",
              "    }\n",
              "\n",
              "    [theme=dark] .colab-df-convert {\n",
              "      background-color: #3B4455;\n",
              "      fill: #D2E3FC;\n",
              "    }\n",
              "\n",
              "    [theme=dark] .colab-df-convert:hover {\n",
              "      background-color: #434B5C;\n",
              "      box-shadow: 0px 1px 3px 1px rgba(0, 0, 0, 0.15);\n",
              "      filter: drop-shadow(0px 1px 2px rgba(0, 0, 0, 0.3));\n",
              "      fill: #FFFFFF;\n",
              "    }\n",
              "  </style>\n",
              "\n",
              "      <script>\n",
              "        const buttonEl =\n",
              "          document.querySelector('#df-dee63288-4b3b-4313-b9f7-96413d7a6c80 button.colab-df-convert');\n",
              "        buttonEl.style.display =\n",
              "          google.colab.kernel.accessAllowed ? 'block' : 'none';\n",
              "\n",
              "        async function convertToInteractive(key) {\n",
              "          const element = document.querySelector('#df-dee63288-4b3b-4313-b9f7-96413d7a6c80');\n",
              "          const dataTable =\n",
              "            await google.colab.kernel.invokeFunction('convertToInteractive',\n",
              "                                                     [key], {});\n",
              "          if (!dataTable) return;\n",
              "\n",
              "          const docLinkHtml = 'Like what you see? Visit the ' +\n",
              "            '<a target=\"_blank\" href=https://colab.research.google.com/notebooks/data_table.ipynb>data table notebook</a>'\n",
              "            + ' to learn more about interactive tables.';\n",
              "          element.innerHTML = '';\n",
              "          dataTable['output_type'] = 'display_data';\n",
              "          await google.colab.output.renderOutput(dataTable, element);\n",
              "          const docLink = document.createElement('div');\n",
              "          docLink.innerHTML = docLinkHtml;\n",
              "          element.appendChild(docLink);\n",
              "        }\n",
              "      </script>\n",
              "    </div>\n",
              "  </div>\n",
              "  "
            ],
            "text/plain": [
              "     SAT   GPA\n",
              "0   1714  2.40\n",
              "1   1664  2.52\n",
              "2   1760  2.54\n",
              "3   1685  2.74\n",
              "4   1693  2.83\n",
              "..   ...   ...\n",
              "79  1936  3.71\n",
              "80  1810  3.71\n",
              "81  1987  3.73\n",
              "82  1962  3.76\n",
              "83  2050  3.81\n",
              "\n",
              "[84 rows x 2 columns]"
            ]
          },
          "metadata": {},
          "execution_count": 13
        }
      ]
    },
    {
      "cell_type": "markdown",
      "source": [
        "# Data Cleaning\n",
        "\n",
        "If you work with real world datasets, you will likely encounter missing or NULL values in your datasets. We can use the method `pandas.DataFrame.isna` to detect missing values."
      ],
      "metadata": {
        "id": "NWOkuVnkl3Wp"
      }
    },
    {
      "cell_type": "code",
      "source": [
        "df2.isna()"
      ],
      "metadata": {
        "colab": {
          "base_uri": "https://localhost:8080/",
          "height": 423
        },
        "id": "yDhrp9DGmexw",
        "outputId": "17e7e9d8-e648-494e-ad54-b1fa07f02e5f"
      },
      "execution_count": null,
      "outputs": [
        {
          "output_type": "execute_result",
          "data": {
            "text/html": [
              "\n",
              "  <div id=\"df-e21247df-9917-4a31-90bd-d3b253bf2991\">\n",
              "    <div class=\"colab-df-container\">\n",
              "      <div>\n",
              "<style scoped>\n",
              "    .dataframe tbody tr th:only-of-type {\n",
              "        vertical-align: middle;\n",
              "    }\n",
              "\n",
              "    .dataframe tbody tr th {\n",
              "        vertical-align: top;\n",
              "    }\n",
              "\n",
              "    .dataframe thead th {\n",
              "        text-align: right;\n",
              "    }\n",
              "</style>\n",
              "<table border=\"1\" class=\"dataframe\">\n",
              "  <thead>\n",
              "    <tr style=\"text-align: right;\">\n",
              "      <th></th>\n",
              "      <th>SAT</th>\n",
              "      <th>GPA</th>\n",
              "    </tr>\n",
              "  </thead>\n",
              "  <tbody>\n",
              "    <tr>\n",
              "      <th>0</th>\n",
              "      <td>False</td>\n",
              "      <td>False</td>\n",
              "    </tr>\n",
              "    <tr>\n",
              "      <th>1</th>\n",
              "      <td>False</td>\n",
              "      <td>False</td>\n",
              "    </tr>\n",
              "    <tr>\n",
              "      <th>2</th>\n",
              "      <td>False</td>\n",
              "      <td>False</td>\n",
              "    </tr>\n",
              "    <tr>\n",
              "      <th>3</th>\n",
              "      <td>False</td>\n",
              "      <td>False</td>\n",
              "    </tr>\n",
              "    <tr>\n",
              "      <th>4</th>\n",
              "      <td>False</td>\n",
              "      <td>False</td>\n",
              "    </tr>\n",
              "    <tr>\n",
              "      <th>...</th>\n",
              "      <td>...</td>\n",
              "      <td>...</td>\n",
              "    </tr>\n",
              "    <tr>\n",
              "      <th>79</th>\n",
              "      <td>False</td>\n",
              "      <td>False</td>\n",
              "    </tr>\n",
              "    <tr>\n",
              "      <th>80</th>\n",
              "      <td>False</td>\n",
              "      <td>False</td>\n",
              "    </tr>\n",
              "    <tr>\n",
              "      <th>81</th>\n",
              "      <td>False</td>\n",
              "      <td>False</td>\n",
              "    </tr>\n",
              "    <tr>\n",
              "      <th>82</th>\n",
              "      <td>False</td>\n",
              "      <td>False</td>\n",
              "    </tr>\n",
              "    <tr>\n",
              "      <th>83</th>\n",
              "      <td>False</td>\n",
              "      <td>False</td>\n",
              "    </tr>\n",
              "  </tbody>\n",
              "</table>\n",
              "<p>84 rows × 2 columns</p>\n",
              "</div>\n",
              "      <button class=\"colab-df-convert\" onclick=\"convertToInteractive('df-e21247df-9917-4a31-90bd-d3b253bf2991')\"\n",
              "              title=\"Convert this dataframe to an interactive table.\"\n",
              "              style=\"display:none;\">\n",
              "        \n",
              "  <svg xmlns=\"http://www.w3.org/2000/svg\" height=\"24px\"viewBox=\"0 0 24 24\"\n",
              "       width=\"24px\">\n",
              "    <path d=\"M0 0h24v24H0V0z\" fill=\"none\"/>\n",
              "    <path d=\"M18.56 5.44l.94 2.06.94-2.06 2.06-.94-2.06-.94-.94-2.06-.94 2.06-2.06.94zm-11 1L8.5 8.5l.94-2.06 2.06-.94-2.06-.94L8.5 2.5l-.94 2.06-2.06.94zm10 10l.94 2.06.94-2.06 2.06-.94-2.06-.94-.94-2.06-.94 2.06-2.06.94z\"/><path d=\"M17.41 7.96l-1.37-1.37c-.4-.4-.92-.59-1.43-.59-.52 0-1.04.2-1.43.59L10.3 9.45l-7.72 7.72c-.78.78-.78 2.05 0 2.83L4 21.41c.39.39.9.59 1.41.59.51 0 1.02-.2 1.41-.59l7.78-7.78 2.81-2.81c.8-.78.8-2.07 0-2.86zM5.41 20L4 18.59l7.72-7.72 1.47 1.35L5.41 20z\"/>\n",
              "  </svg>\n",
              "      </button>\n",
              "      \n",
              "  <style>\n",
              "    .colab-df-container {\n",
              "      display:flex;\n",
              "      flex-wrap:wrap;\n",
              "      gap: 12px;\n",
              "    }\n",
              "\n",
              "    .colab-df-convert {\n",
              "      background-color: #E8F0FE;\n",
              "      border: none;\n",
              "      border-radius: 50%;\n",
              "      cursor: pointer;\n",
              "      display: none;\n",
              "      fill: #1967D2;\n",
              "      height: 32px;\n",
              "      padding: 0 0 0 0;\n",
              "      width: 32px;\n",
              "    }\n",
              "\n",
              "    .colab-df-convert:hover {\n",
              "      background-color: #E2EBFA;\n",
              "      box-shadow: 0px 1px 2px rgba(60, 64, 67, 0.3), 0px 1px 3px 1px rgba(60, 64, 67, 0.15);\n",
              "      fill: #174EA6;\n",
              "    }\n",
              "\n",
              "    [theme=dark] .colab-df-convert {\n",
              "      background-color: #3B4455;\n",
              "      fill: #D2E3FC;\n",
              "    }\n",
              "\n",
              "    [theme=dark] .colab-df-convert:hover {\n",
              "      background-color: #434B5C;\n",
              "      box-shadow: 0px 1px 3px 1px rgba(0, 0, 0, 0.15);\n",
              "      filter: drop-shadow(0px 1px 2px rgba(0, 0, 0, 0.3));\n",
              "      fill: #FFFFFF;\n",
              "    }\n",
              "  </style>\n",
              "\n",
              "      <script>\n",
              "        const buttonEl =\n",
              "          document.querySelector('#df-e21247df-9917-4a31-90bd-d3b253bf2991 button.colab-df-convert');\n",
              "        buttonEl.style.display =\n",
              "          google.colab.kernel.accessAllowed ? 'block' : 'none';\n",
              "\n",
              "        async function convertToInteractive(key) {\n",
              "          const element = document.querySelector('#df-e21247df-9917-4a31-90bd-d3b253bf2991');\n",
              "          const dataTable =\n",
              "            await google.colab.kernel.invokeFunction('convertToInteractive',\n",
              "                                                     [key], {});\n",
              "          if (!dataTable) return;\n",
              "\n",
              "          const docLinkHtml = 'Like what you see? Visit the ' +\n",
              "            '<a target=\"_blank\" href=https://colab.research.google.com/notebooks/data_table.ipynb>data table notebook</a>'\n",
              "            + ' to learn more about interactive tables.';\n",
              "          element.innerHTML = '';\n",
              "          dataTable['output_type'] = 'display_data';\n",
              "          await google.colab.output.renderOutput(dataTable, element);\n",
              "          const docLink = document.createElement('div');\n",
              "          docLink.innerHTML = docLinkHtml;\n",
              "          element.appendChild(docLink);\n",
              "        }\n",
              "      </script>\n",
              "    </div>\n",
              "  </div>\n",
              "  "
            ],
            "text/plain": [
              "      SAT    GPA\n",
              "0   False  False\n",
              "1   False  False\n",
              "2   False  False\n",
              "3   False  False\n",
              "4   False  False\n",
              "..    ...    ...\n",
              "79  False  False\n",
              "80  False  False\n",
              "81  False  False\n",
              "82  False  False\n",
              "83  False  False\n",
              "\n",
              "[84 rows x 2 columns]"
            ]
          },
          "metadata": {},
          "execution_count": 16
        }
      ]
    },
    {
      "cell_type": "markdown",
      "source": [
        "As you probably noticed, this isn't very helpful as `pandas.DataFrame.isna` returns another `DataFrame` with boolean data type. To fix this, we can chain the `pandas.DataFrame.any` method to our previous result."
      ],
      "metadata": {
        "id": "81Hmg-GfmnMy"
      }
    },
    {
      "cell_type": "code",
      "source": [
        "df2.isna().any()"
      ],
      "metadata": {
        "colab": {
          "base_uri": "https://localhost:8080/"
        },
        "id": "g6qGqomQnIuj",
        "outputId": "ec714801-f4e8-46d4-a6a0-ee438bd06e87"
      },
      "execution_count": null,
      "outputs": [
        {
          "output_type": "execute_result",
          "data": {
            "text/plain": [
              "SAT    False\n",
              "GPA    False\n",
              "dtype: bool"
            ]
          },
          "metadata": {},
          "execution_count": 17
        }
      ]
    },
    {
      "cell_type": "markdown",
      "source": [
        "Luckily, we don't have any missing or NULL values in this dataset. For the sake of illustration though, let's go through an example where we do have missing values."
      ],
      "metadata": {
        "id": "G_8NFu0nnP1i"
      }
    },
    {
      "cell_type": "code",
      "source": [
        "df3 = pd.DataFrame([[np.nan, 2, np.nan, 0],\n",
        "                   [3, 4, np.nan, 1],\n",
        "                   [np.nan, np.nan, np.nan, np.nan],\n",
        "                   [np.nan, 3, np.nan, 4]],\n",
        "                  columns=list(\"ABCD\"))\n",
        "\n",
        "df3"
      ],
      "metadata": {
        "colab": {
          "base_uri": "https://localhost:8080/",
          "height": 175
        },
        "id": "neBbDpMzn5aR",
        "outputId": "54a39e47-845d-4753-eb62-dfda4e31e411"
      },
      "execution_count": null,
      "outputs": [
        {
          "output_type": "execute_result",
          "data": {
            "text/html": [
              "\n",
              "  <div id=\"df-f3692458-8c1f-497c-9cf4-4ebbae41f96f\">\n",
              "    <div class=\"colab-df-container\">\n",
              "      <div>\n",
              "<style scoped>\n",
              "    .dataframe tbody tr th:only-of-type {\n",
              "        vertical-align: middle;\n",
              "    }\n",
              "\n",
              "    .dataframe tbody tr th {\n",
              "        vertical-align: top;\n",
              "    }\n",
              "\n",
              "    .dataframe thead th {\n",
              "        text-align: right;\n",
              "    }\n",
              "</style>\n",
              "<table border=\"1\" class=\"dataframe\">\n",
              "  <thead>\n",
              "    <tr style=\"text-align: right;\">\n",
              "      <th></th>\n",
              "      <th>A</th>\n",
              "      <th>B</th>\n",
              "      <th>C</th>\n",
              "      <th>D</th>\n",
              "    </tr>\n",
              "  </thead>\n",
              "  <tbody>\n",
              "    <tr>\n",
              "      <th>0</th>\n",
              "      <td>NaN</td>\n",
              "      <td>2.0</td>\n",
              "      <td>NaN</td>\n",
              "      <td>0.0</td>\n",
              "    </tr>\n",
              "    <tr>\n",
              "      <th>1</th>\n",
              "      <td>3.0</td>\n",
              "      <td>4.0</td>\n",
              "      <td>NaN</td>\n",
              "      <td>1.0</td>\n",
              "    </tr>\n",
              "    <tr>\n",
              "      <th>2</th>\n",
              "      <td>NaN</td>\n",
              "      <td>NaN</td>\n",
              "      <td>NaN</td>\n",
              "      <td>NaN</td>\n",
              "    </tr>\n",
              "    <tr>\n",
              "      <th>3</th>\n",
              "      <td>NaN</td>\n",
              "      <td>3.0</td>\n",
              "      <td>NaN</td>\n",
              "      <td>4.0</td>\n",
              "    </tr>\n",
              "  </tbody>\n",
              "</table>\n",
              "</div>\n",
              "      <button class=\"colab-df-convert\" onclick=\"convertToInteractive('df-f3692458-8c1f-497c-9cf4-4ebbae41f96f')\"\n",
              "              title=\"Convert this dataframe to an interactive table.\"\n",
              "              style=\"display:none;\">\n",
              "        \n",
              "  <svg xmlns=\"http://www.w3.org/2000/svg\" height=\"24px\"viewBox=\"0 0 24 24\"\n",
              "       width=\"24px\">\n",
              "    <path d=\"M0 0h24v24H0V0z\" fill=\"none\"/>\n",
              "    <path d=\"M18.56 5.44l.94 2.06.94-2.06 2.06-.94-2.06-.94-.94-2.06-.94 2.06-2.06.94zm-11 1L8.5 8.5l.94-2.06 2.06-.94-2.06-.94L8.5 2.5l-.94 2.06-2.06.94zm10 10l.94 2.06.94-2.06 2.06-.94-2.06-.94-.94-2.06-.94 2.06-2.06.94z\"/><path d=\"M17.41 7.96l-1.37-1.37c-.4-.4-.92-.59-1.43-.59-.52 0-1.04.2-1.43.59L10.3 9.45l-7.72 7.72c-.78.78-.78 2.05 0 2.83L4 21.41c.39.39.9.59 1.41.59.51 0 1.02-.2 1.41-.59l7.78-7.78 2.81-2.81c.8-.78.8-2.07 0-2.86zM5.41 20L4 18.59l7.72-7.72 1.47 1.35L5.41 20z\"/>\n",
              "  </svg>\n",
              "      </button>\n",
              "      \n",
              "  <style>\n",
              "    .colab-df-container {\n",
              "      display:flex;\n",
              "      flex-wrap:wrap;\n",
              "      gap: 12px;\n",
              "    }\n",
              "\n",
              "    .colab-df-convert {\n",
              "      background-color: #E8F0FE;\n",
              "      border: none;\n",
              "      border-radius: 50%;\n",
              "      cursor: pointer;\n",
              "      display: none;\n",
              "      fill: #1967D2;\n",
              "      height: 32px;\n",
              "      padding: 0 0 0 0;\n",
              "      width: 32px;\n",
              "    }\n",
              "\n",
              "    .colab-df-convert:hover {\n",
              "      background-color: #E2EBFA;\n",
              "      box-shadow: 0px 1px 2px rgba(60, 64, 67, 0.3), 0px 1px 3px 1px rgba(60, 64, 67, 0.15);\n",
              "      fill: #174EA6;\n",
              "    }\n",
              "\n",
              "    [theme=dark] .colab-df-convert {\n",
              "      background-color: #3B4455;\n",
              "      fill: #D2E3FC;\n",
              "    }\n",
              "\n",
              "    [theme=dark] .colab-df-convert:hover {\n",
              "      background-color: #434B5C;\n",
              "      box-shadow: 0px 1px 3px 1px rgba(0, 0, 0, 0.15);\n",
              "      filter: drop-shadow(0px 1px 2px rgba(0, 0, 0, 0.3));\n",
              "      fill: #FFFFFF;\n",
              "    }\n",
              "  </style>\n",
              "\n",
              "      <script>\n",
              "        const buttonEl =\n",
              "          document.querySelector('#df-f3692458-8c1f-497c-9cf4-4ebbae41f96f button.colab-df-convert');\n",
              "        buttonEl.style.display =\n",
              "          google.colab.kernel.accessAllowed ? 'block' : 'none';\n",
              "\n",
              "        async function convertToInteractive(key) {\n",
              "          const element = document.querySelector('#df-f3692458-8c1f-497c-9cf4-4ebbae41f96f');\n",
              "          const dataTable =\n",
              "            await google.colab.kernel.invokeFunction('convertToInteractive',\n",
              "                                                     [key], {});\n",
              "          if (!dataTable) return;\n",
              "\n",
              "          const docLinkHtml = 'Like what you see? Visit the ' +\n",
              "            '<a target=\"_blank\" href=https://colab.research.google.com/notebooks/data_table.ipynb>data table notebook</a>'\n",
              "            + ' to learn more about interactive tables.';\n",
              "          element.innerHTML = '';\n",
              "          dataTable['output_type'] = 'display_data';\n",
              "          await google.colab.output.renderOutput(dataTable, element);\n",
              "          const docLink = document.createElement('div');\n",
              "          docLink.innerHTML = docLinkHtml;\n",
              "          element.appendChild(docLink);\n",
              "        }\n",
              "      </script>\n",
              "    </div>\n",
              "  </div>\n",
              "  "
            ],
            "text/plain": [
              "     A    B   C    D\n",
              "0  NaN  2.0 NaN  0.0\n",
              "1  3.0  4.0 NaN  1.0\n",
              "2  NaN  NaN NaN  NaN\n",
              "3  NaN  3.0 NaN  4.0"
            ]
          },
          "metadata": {},
          "execution_count": 21
        }
      ]
    },
    {
      "cell_type": "markdown",
      "source": [
        "To replace the missing values, we can use the `pandas.DataFrame.fillna` method."
      ],
      "metadata": {
        "id": "dj0Yy5_coXWT"
      }
    },
    {
      "cell_type": "code",
      "source": [
        "# replace NaN with 0\n",
        "df3.fillna(0)"
      ],
      "metadata": {
        "colab": {
          "base_uri": "https://localhost:8080/",
          "height": 175
        },
        "id": "8kuZr79RohVU",
        "outputId": "90d50ce5-0260-451f-c015-cbc7a6470800"
      },
      "execution_count": null,
      "outputs": [
        {
          "output_type": "execute_result",
          "data": {
            "text/html": [
              "\n",
              "  <div id=\"df-aa29b8e3-520a-4c57-a874-e31aeb4e06d2\">\n",
              "    <div class=\"colab-df-container\">\n",
              "      <div>\n",
              "<style scoped>\n",
              "    .dataframe tbody tr th:only-of-type {\n",
              "        vertical-align: middle;\n",
              "    }\n",
              "\n",
              "    .dataframe tbody tr th {\n",
              "        vertical-align: top;\n",
              "    }\n",
              "\n",
              "    .dataframe thead th {\n",
              "        text-align: right;\n",
              "    }\n",
              "</style>\n",
              "<table border=\"1\" class=\"dataframe\">\n",
              "  <thead>\n",
              "    <tr style=\"text-align: right;\">\n",
              "      <th></th>\n",
              "      <th>A</th>\n",
              "      <th>B</th>\n",
              "      <th>C</th>\n",
              "      <th>D</th>\n",
              "    </tr>\n",
              "  </thead>\n",
              "  <tbody>\n",
              "    <tr>\n",
              "      <th>0</th>\n",
              "      <td>0.0</td>\n",
              "      <td>2.0</td>\n",
              "      <td>0.0</td>\n",
              "      <td>0.0</td>\n",
              "    </tr>\n",
              "    <tr>\n",
              "      <th>1</th>\n",
              "      <td>3.0</td>\n",
              "      <td>4.0</td>\n",
              "      <td>0.0</td>\n",
              "      <td>1.0</td>\n",
              "    </tr>\n",
              "    <tr>\n",
              "      <th>2</th>\n",
              "      <td>0.0</td>\n",
              "      <td>0.0</td>\n",
              "      <td>0.0</td>\n",
              "      <td>0.0</td>\n",
              "    </tr>\n",
              "    <tr>\n",
              "      <th>3</th>\n",
              "      <td>0.0</td>\n",
              "      <td>3.0</td>\n",
              "      <td>0.0</td>\n",
              "      <td>4.0</td>\n",
              "    </tr>\n",
              "  </tbody>\n",
              "</table>\n",
              "</div>\n",
              "      <button class=\"colab-df-convert\" onclick=\"convertToInteractive('df-aa29b8e3-520a-4c57-a874-e31aeb4e06d2')\"\n",
              "              title=\"Convert this dataframe to an interactive table.\"\n",
              "              style=\"display:none;\">\n",
              "        \n",
              "  <svg xmlns=\"http://www.w3.org/2000/svg\" height=\"24px\"viewBox=\"0 0 24 24\"\n",
              "       width=\"24px\">\n",
              "    <path d=\"M0 0h24v24H0V0z\" fill=\"none\"/>\n",
              "    <path d=\"M18.56 5.44l.94 2.06.94-2.06 2.06-.94-2.06-.94-.94-2.06-.94 2.06-2.06.94zm-11 1L8.5 8.5l.94-2.06 2.06-.94-2.06-.94L8.5 2.5l-.94 2.06-2.06.94zm10 10l.94 2.06.94-2.06 2.06-.94-2.06-.94-.94-2.06-.94 2.06-2.06.94z\"/><path d=\"M17.41 7.96l-1.37-1.37c-.4-.4-.92-.59-1.43-.59-.52 0-1.04.2-1.43.59L10.3 9.45l-7.72 7.72c-.78.78-.78 2.05 0 2.83L4 21.41c.39.39.9.59 1.41.59.51 0 1.02-.2 1.41-.59l7.78-7.78 2.81-2.81c.8-.78.8-2.07 0-2.86zM5.41 20L4 18.59l7.72-7.72 1.47 1.35L5.41 20z\"/>\n",
              "  </svg>\n",
              "      </button>\n",
              "      \n",
              "  <style>\n",
              "    .colab-df-container {\n",
              "      display:flex;\n",
              "      flex-wrap:wrap;\n",
              "      gap: 12px;\n",
              "    }\n",
              "\n",
              "    .colab-df-convert {\n",
              "      background-color: #E8F0FE;\n",
              "      border: none;\n",
              "      border-radius: 50%;\n",
              "      cursor: pointer;\n",
              "      display: none;\n",
              "      fill: #1967D2;\n",
              "      height: 32px;\n",
              "      padding: 0 0 0 0;\n",
              "      width: 32px;\n",
              "    }\n",
              "\n",
              "    .colab-df-convert:hover {\n",
              "      background-color: #E2EBFA;\n",
              "      box-shadow: 0px 1px 2px rgba(60, 64, 67, 0.3), 0px 1px 3px 1px rgba(60, 64, 67, 0.15);\n",
              "      fill: #174EA6;\n",
              "    }\n",
              "\n",
              "    [theme=dark] .colab-df-convert {\n",
              "      background-color: #3B4455;\n",
              "      fill: #D2E3FC;\n",
              "    }\n",
              "\n",
              "    [theme=dark] .colab-df-convert:hover {\n",
              "      background-color: #434B5C;\n",
              "      box-shadow: 0px 1px 3px 1px rgba(0, 0, 0, 0.15);\n",
              "      filter: drop-shadow(0px 1px 2px rgba(0, 0, 0, 0.3));\n",
              "      fill: #FFFFFF;\n",
              "    }\n",
              "  </style>\n",
              "\n",
              "      <script>\n",
              "        const buttonEl =\n",
              "          document.querySelector('#df-aa29b8e3-520a-4c57-a874-e31aeb4e06d2 button.colab-df-convert');\n",
              "        buttonEl.style.display =\n",
              "          google.colab.kernel.accessAllowed ? 'block' : 'none';\n",
              "\n",
              "        async function convertToInteractive(key) {\n",
              "          const element = document.querySelector('#df-aa29b8e3-520a-4c57-a874-e31aeb4e06d2');\n",
              "          const dataTable =\n",
              "            await google.colab.kernel.invokeFunction('convertToInteractive',\n",
              "                                                     [key], {});\n",
              "          if (!dataTable) return;\n",
              "\n",
              "          const docLinkHtml = 'Like what you see? Visit the ' +\n",
              "            '<a target=\"_blank\" href=https://colab.research.google.com/notebooks/data_table.ipynb>data table notebook</a>'\n",
              "            + ' to learn more about interactive tables.';\n",
              "          element.innerHTML = '';\n",
              "          dataTable['output_type'] = 'display_data';\n",
              "          await google.colab.output.renderOutput(dataTable, element);\n",
              "          const docLink = document.createElement('div');\n",
              "          docLink.innerHTML = docLinkHtml;\n",
              "          element.appendChild(docLink);\n",
              "        }\n",
              "      </script>\n",
              "    </div>\n",
              "  </div>\n",
              "  "
            ],
            "text/plain": [
              "     A    B    C    D\n",
              "0  0.0  2.0  0.0  0.0\n",
              "1  3.0  4.0  0.0  1.0\n",
              "2  0.0  0.0  0.0  0.0\n",
              "3  0.0  3.0  0.0  4.0"
            ]
          },
          "metadata": {},
          "execution_count": 23
        }
      ]
    },
    {
      "cell_type": "markdown",
      "source": [
        "# Matplotlib\n",
        "Matplotlib is a Python library used for generating graphs.\n",
        "It is helpful for illustrating data distribution.\n",
        "\n",
        "Matplotlib's basic usage tutorial (more general): [https://matplotlib.org/stable/tutorials/introductory/usage.html#sphx-glr-tutorials-introductory-usage-py](https://matplotlib.org/stable/tutorials/introductory/usage.html#sphx-glr-tutorials-introductory-usage-py)\n",
        "\n"
      ],
      "metadata": {
        "id": "_TDY-9JSfwaP"
      }
    },
    {
      "cell_type": "code",
      "source": [
        "# import matplotlib as mpl\n",
        "import matplotlib.pyplot as plt"
      ],
      "metadata": {
        "id": "ycbI_vWgZZKu"
      },
      "execution_count": null,
      "outputs": []
    },
    {
      "cell_type": "markdown",
      "source": [
        "`matplotlib.pyplot.plot` is great for graphing continuous functions.\n",
        "\n",
        "**Documentation**: [https://matplotlib.org/stable/api/_as_gen/matplotlib.pyplot.plot.html](https://matplotlib.org/stable/api/_as_gen/matplotlib.pyplot.plot.html)"
      ],
      "metadata": {
        "id": "oi4XFjV4cGH9"
      }
    },
    {
      "cell_type": "code",
      "source": [
        "x = np.linspace(0, 10, 30)\n",
        "y = np.sin(x)\n",
        "plt.grid() # show grid lines\n",
        "\n",
        "plt.title(\"Graph of the sine function\")\n",
        "plt.xlabel(\"X axis\")\n",
        "plt.ylabel(\"Y axis\")\n",
        "\n",
        "plt.plot(x, y);"
      ],
      "metadata": {
        "colab": {
          "base_uri": "https://localhost:8080/",
          "height": 295
        },
        "id": "gN9nz7rgZ1xl",
        "outputId": "fb30bce5-930b-4fb1-c2b3-41c35fa28a90"
      },
      "execution_count": null,
      "outputs": [
        {
          "output_type": "display_data",
          "data": {
            "image/png": "[encoded data removed]",
            "text/plain": [
              "<Figure size 432x288 with 1 Axes>"
            ]
          },
          "metadata": {
            "needs_background": "light"
          }
        }
      ]
    },
    {
      "cell_type": "markdown",
      "source": [
        "Use `matplotlib.pyplot.scatter` to display scatter plots:\n",
        "\n",
        "**Documentation**: [https://matplotlib.org/stable/api/_as_gen/matplotlib.pyplot.scatter.html](https://matplotlib.org/stable/api/_as_gen/matplotlib.pyplot.scatter.html)"
      ],
      "metadata": {
        "id": "WYEacZ42cjb-"
      }
    },
    {
      "cell_type": "code",
      "source": [
        "from numpy import random\n",
        "\n",
        "x=random.randint(100, size=(100)) #generating random data with numpy so it's scattered\n",
        "y=random.randint(100, size=(100))\n",
        "plt.grid()\n",
        "\n",
        "# Adding graph descriptors\n",
        "plt.title(\"Scatter plot\")\n",
        "plt.xlabel(\"X axis\")\n",
        "plt.ylabel(\"Y axis\")\n",
        "\n",
        "plt.scatter(x, y, marker='o', color= 'black'); #changing shape and color of the points"
      ],
      "metadata": {
        "colab": {
          "base_uri": "https://localhost:8080/",
          "height": 295
        },
        "id": "7iQ3F9zmajqY",
        "outputId": "23e5d4ba-d156-4f15-c218-4f15c94a5900"
      },
      "execution_count": null,
      "outputs": [
        {
          "output_type": "display_data",
          "data": {
            "image/png": "[encoded data removed]",
            "text/plain": [
              "<Figure size 432x288 with 1 Axes>"
            ]
          },
          "metadata": {
            "needs_background": "light"
          }
        }
      ]
    },
    {
      "cell_type": "markdown",
      "source": [
        "Use `matplotlib.pyplot.bar` to create bar charts:\n",
        "\n",
        "**Documentation**: [https://matplotlib.org/stable/api/_as_gen/matplotlib.pyplot.bar.html](https://matplotlib.org/stable/api/_as_gen/matplotlib.pyplot.bar.html)"
      ],
      "metadata": {
        "id": "V2cVRd3QczXr"
      }
    },
    {
      "cell_type": "code",
      "source": [
        "x = [1,2,3,4,5]\n",
        "y = [23, 45, 56, 78, 213]\n",
        "plt.grid()\n",
        "\n",
        "# Adding graph descriptors\n",
        "plt.title(\"Bar chart\")\n",
        "plt.xlabel(\"Categories\")\n",
        "plt.ylabel(\"Amount of items in this category\")\n",
        "\n",
        "plt.bar(x, y, color=\"pink\")\n",
        "plt.show()"
      ],
      "metadata": {
        "colab": {
          "base_uri": "https://localhost:8080/",
          "height": 295
        },
        "id": "gOv62FHtcBls",
        "outputId": "194806f8-3dc1-4f0b-8d44-111b85b94f66"
      },
      "execution_count": null,
      "outputs": [
        {
          "output_type": "display_data",
          "data": {
            "image/png": "[encoded data removed]",
            "text/plain": [
              "<Figure size 432x288 with 1 Axes>"
            ]
          },
          "metadata": {
            "needs_background": "light"
          }
        }
      ]
    },
    {
      "cell_type": "markdown",
      "source": [
        "This is just the beginning! If you want to explore `matplotlib` more, check out the official `matplotlib` API docs: [https://matplotlib.org/stable/index.html](https://matplotlib.org/stable/index.html)\n",
        "\n",
        "There are a bunch of cool examples on there!"
      ],
      "metadata": {
        "id": "5u3z4T99W-Od"
      }
    },
    {
      "cell_type": "markdown",
      "source": [
        "# Thank you for coming! Next Workshop: Guided Project Part 1\n",
        "\n",
        "Feedback form: [Google Form](https://bit.ly/btrack-w22-feedback) \\\\\n",
        "Facebook: [UCLA ACM AI](https://facebook.com/groups/uclaacmai)\n"
      ],
      "metadata": {
        "id": "Dmhe3KkmXvUP"
      }
    }
  ]
}