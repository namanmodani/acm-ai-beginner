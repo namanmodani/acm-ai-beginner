{
  "nbformat": 4,
  "nbformat_minor": 0,
  "metadata": {
    "colab": {
      "name": "solution_guided_project_logistic.ipynb",
      "provenance": [],
      "collapsed_sections": [],
      "include_colab_link": true
    },
    "kernelspec": {
      "name": "python3",
      "display_name": "Python 3"
    },
    "language_info": {
      "name": "python"
    }
  },
  "cells": [
    {
      "cell_type": "markdown",
      "metadata": {
        "id": "view-in-github",
        "colab_type": "text"
      },
      "source": [
        "<a href=\"https://colab.research.google.com/github/namanmodani/acm-ai-beginner/blob/main/solution_guided_project_logistic.ipynb\" target=\"_parent\"><img src=\"https://colab.research.google.com/assets/colab-badge.svg\" alt=\"Open In Colab\"/></a>"
      ]
    },
    {
      "cell_type": "markdown",
      "metadata": {
        "id": "vLLBDQBvZ4HR"
      },
      "source": [
        "# **ACM AI Beginner Track - Workshop 8**\n",
        "\n",
        "Discord: https://bit.ly/ACMdiscord \\\\\n",
        "Based on: https://towardsdatascience.com/logistic-regression-from-scratch-with-numpy-da4cc3121ece"
      ]
    },
    {
      "cell_type": "code",
      "metadata": {
        "id": "7x0Tv2bUgL7D"
      },
      "source": [
        "# import modules\n",
        "import matplotlib.pyplot as plt\n",
        "import numpy as np\n",
        "from sklearn.model_selection import train_test_split\n",
        "from sklearn.metrics import accuracy_score"
      ],
      "execution_count": null,
      "outputs": []
    },
    {
      "cell_type": "code",
      "metadata": {
        "id": "2RKs68B4OsNa"
      },
      "source": [
        "# set the random seed\n",
        "np.random.seed(0)"
      ],
      "execution_count": null,
      "outputs": []
    },
    {
      "cell_type": "code",
      "metadata": {
        "colab": {
          "base_uri": "https://localhost:8080/",
          "height": 283
        },
        "id": "BDDGztxJgub0",
        "outputId": "47502ab7-0c6e-4db6-c0b9-9ec8d21a29e2"
      },
      "source": [
        "# create data\n",
        "x11 = np.random.normal(loc=3, size=100)\n",
        "x12 = np.random.normal(loc=5, size=100)\n",
        "\n",
        "x0 = np.stack((x11, x12)).T\n",
        "\n",
        "x21 = np.random.normal(loc=6, size=100)\n",
        "x22 = np.random.normal(loc=7, size=100)\n",
        "\n",
        "x1 = np.stack((x21, x22)).T\n",
        "\n",
        "X_ori = np.zeros((200, 2))\n",
        "y_ori = np.zeros(200)\n",
        "y_ori[100:] = 1\n",
        "X_ori[:100] = x0\n",
        "X_ori[100:] = x1\n",
        "\n",
        "indicies = np.random.choice(np.arange(200), replace=False, size=200)\n",
        "X = np.zeros((200, 2))\n",
        "y = np.zeros(200)\n",
        "X = X_ori[indicies]\n",
        "y = y_ori[indicies]\n",
        "\n",
        "plt.scatter(x11, x12, label='Class 0')\n",
        "plt.scatter(x21, x22, label='Class 1')\n",
        "plt.legend()\n",
        "\n",
        "# augment with 1's\n",
        "\n",
        "# X = np.hstack((np.ones((200, 1)), X))"
      ],
      "execution_count": null,
      "outputs": [
        {
          "output_type": "execute_result",
          "data": {
            "text/plain": [
              "<matplotlib.legend.Legend at 0x7f2a0e72cfd0>"
            ]
          },
          "metadata": {},
          "execution_count": 10
        },
        {
          "output_type": "display_data",
          "data": {
            "image/png": "[encoded data removed]",
            "text/plain": [
              "<Figure size 432x288 with 1 Axes>"
            ]
          },
          "metadata": {
            "needs_background": "light"
          }
        }
      ]
    },
    {
      "cell_type": "code",
      "metadata": {
        "colab": {
          "base_uri": "https://localhost:8080/"
        },
        "id": "NETOjmqWg5D-",
        "outputId": "46253ea6-64b2-4ebd-d1a2-78ca0116c2f3"
      },
      "source": [
        "# shape\n",
        "print('Shape of X:', X.shape)\n",
        "print('Shape of y:', y.shape)"
      ],
      "execution_count": null,
      "outputs": [
        {
          "output_type": "stream",
          "name": "stdout",
          "text": [
            "Shape of X: (200, 2)\n",
            "Shape of y: (200,)\n"
          ]
        }
      ]
    },
    {
      "cell_type": "code",
      "metadata": {
        "id": "uxDEOqKBiGHr"
      },
      "source": [
        "# TO DO: split training and test data with train_test_split - 1 line\n",
        "X_train, X_test, y_train, y_test = train_test_split(X, y, test_size=0.2, random_state=0)"
      ],
      "execution_count": null,
      "outputs": []
    },
    {
      "cell_type": "markdown",
      "metadata": {
        "id": "-5mtk5IOUQMt"
      },
      "source": [
        "# Brief Review of Logistic Regression\n",
        "N: number of samples \\\\\n",
        "f: number of features \\\\\n",
        "X: data; shape = (N, f) \\\\\n",
        "y: labels/targets; shape = (N, ) \\\\\n",
        "W: weights; shape = (f, ) \\\\\n",
        "b: bias; scalar \\\\\n",
        "a: learning rate; scalar"
      ]
    },
    {
      "cell_type": "markdown",
      "metadata": {
        "id": "CufzZGLaYmoG"
      },
      "source": [
        "## $$\\textbf{Our hypothesis}$$\n",
        "### $$\\hat{y}(X)=\\sigma{(XW+b)}$$\n",
        "\n",
        "## $$\\textbf{Loss function - Binary Cross Entropy}$$\n",
        "### $$L(y, \\hat{y}) = -\\frac{1}{N} \\sum_{i=1}^{N}\\big(y_i\\log(\\hat{y_i}) + (1-y_i)\\log(1-\\hat{y_i})\\big) $$\n",
        "\n",
        "## $$\\textbf{Gradients of Loss with respect to W, b}$$\n",
        "### $$ \\frac{\\partial L}{\\partial W} = \\frac{2}{N}X^T\\big(\\hat{y}-y\\big)$$\n",
        "### $$ \\frac{\\partial L}{\\partial b} = \\frac{2}{N}\\sum_{i=1}^{N}\\big(\\hat{y_i}-y_i\\big)$$\n",
        "\n",
        "## $$\\textbf{Gradient Descent - update W, b accordingly}$$\n",
        "### $$W = W - \\alpha \\frac{\\partial L}{\\partial W}$$\n",
        "### $$b = b - \\alpha \\frac{\\partial L}{\\partial b}$$"
      ]
    },
    {
      "cell_type": "markdown",
      "metadata": {
        "id": "jAy32lc6RExL"
      },
      "source": [
        "## **Classes in Python**"
      ]
    },
    {
      "cell_type": "code",
      "metadata": {
        "id": "lo5UW5_7RA7K"
      },
      "source": [
        "class Rectangle: \n",
        "\n",
        "  def __init__(self, b, h): \n",
        "      self.b = b \n",
        "      self.h = h \n",
        "  def area(self): \n",
        "      return self.b*self.h \n",
        "  def perimeter(self): \n",
        "      # TO DO \n",
        "      return 2*self.b + 2*self.h \n"
      ],
      "execution_count": null,
      "outputs": []
    },
    {
      "cell_type": "code",
      "metadata": {
        "colab": {
          "base_uri": "https://localhost:8080/"
        },
        "id": "4U-sgoKJRgSX",
        "outputId": "fca9a85d-89b6-4e37-ff55-3221b10eeede"
      },
      "source": [
        "my_rect = Rectangle(3, 5) \n",
        "print(\"Area: \", my_rect.area())\n",
        "print(\"Perimeter: \", my_rect.perimeter())"
      ],
      "execution_count": null,
      "outputs": [
        {
          "output_type": "stream",
          "name": "stdout",
          "text": [
            "Area:  15\n",
            "Perimeter:  16\n"
          ]
        }
      ]
    },
    {
      "cell_type": "code",
      "metadata": {
        "id": "_afPZS7KiQ7G"
      },
      "source": [
        "# Logistic Regression Class\n",
        "class Logistic_Regression():\n",
        "  \"\"\"\n",
        "  Logistic Regression (aka logit, MaxEnt) classifier.\n",
        "\n",
        "  Logistic_Regression fits a linear model with coefficients w = (w1, ..., wf)\n",
        "  to minimize the binary cross entropy loss between the observed targets in\n",
        "  the dataset, and the targets predicted by the linear approximation.\n",
        "\n",
        "  Parameters:\n",
        "    num_epochs - number of epochs\n",
        "    lr - learning rate\n",
        "    verbose - creates a plot when fitting train data if set to True\n",
        "\n",
        "  Attributes:\n",
        "    epochs - number of epochs\n",
        "    alpha - learning rate\n",
        "    verbose - creates a plot if set to True\n",
        "    weights - numpy.ndarray with shape (f, )\n",
        "    bias - float\n",
        "    loss_history - list containing the loss of each epoch\n",
        "  \"\"\"\n",
        "  def __init__(self, num_epochs=2000, lr=0.6, verbose=False):\n",
        "    \"\"\"\n",
        "    Initializes a logisitic regression model.\n",
        "    \n",
        "    Parameters:\n",
        "      num_epochs - number of epochs: int\n",
        "      lr - learning rate: float\n",
        "      verbose - verbose: boolean\n",
        "    \"\"\"\n",
        "    self.epochs = num_epochs\n",
        "    self.alpha = lr\n",
        "    self.verbose = verbose\n",
        "\n",
        "  def init_params(self, X):\n",
        "    \"\"\"\n",
        "    Initialize the parameters of the model based on input data.\n",
        "\n",
        "    Parameters:\n",
        "      X - data: numpy.ndarray with shape (N, f)\n",
        "\n",
        "    Returns:\n",
        "      nothing\n",
        "    \"\"\"\n",
        "    # TO DO : Initialize weights and biases according to the shapes of the input\n",
        "    self.weights = np.random.rand(X.shape[1])\n",
        "    self.bias = np.random.rand()\n",
        "\n",
        "    self.loss_history = []\n",
        "  \n",
        "  def activate(self, z):\n",
        "    \"\"\"\n",
        "    Activate the outputs of your model using the sigmoid function\n",
        "\n",
        "    Parameters:\n",
        "      z - outputs: numpy.ndarray with shape (N, )\n",
        "\n",
        "    Returns:\n",
        "      activations - numpy.ndarray with shape (N, )\n",
        "    \"\"\"\n",
        "    # TO DO: implement sigmoid activation function - 1 line\n",
        "    activations = 1/(1 + np.exp(-z))\n",
        "    return activations\n",
        "\n",
        "  def predict(self, X):\n",
        "    \"\"\"\n",
        "    Makes a prediction using the hypothesis.\n",
        "\n",
        "    Parameters:\n",
        "      X - data: numpy.ndarray with shape (N, f)\n",
        "\n",
        "    Returns:\n",
        "      predictions - numpy.ndarray with shape (N, )\n",
        "    \"\"\"\n",
        "    # TO DO: implement predict (using our hypothesis) - 1 line\n",
        "    predictions = np.dot(X, self.weights) + self.bias\n",
        "    return self.activate(predictions)\n",
        "\n",
        "  def loss(self, y, y_hat):\n",
        "    \"\"\"\n",
        "    Computes the Binary Cross Entropy Loss of the current predictions.\n",
        "\n",
        "    Parameters:\n",
        "      y - targets: numpy.ndarray with shape (N, )\n",
        "      y_hat - predictions: numpy.ndarray with shape (N, )\n",
        "\n",
        "    Returns:\n",
        "      loss - float\n",
        "    \"\"\"\n",
        "    # TO DO: compute loss (Binary Cross Entropy) - 1 line\n",
        "    log_loss = - np.average(y * np.log(np.abs(y_hat)) + (1-y) * np.log(np.abs(1-y_hat)))\n",
        "    return log_loss\n",
        "\n",
        "  def grads(self, X, y, y_hat):\n",
        "    \"\"\"\n",
        "    Computes the gradients of the loss with respect the weights and bias.\n",
        "\n",
        "    Parameters:\n",
        "      X - data: numpy.ndarray with shape (N, f)\n",
        "      y - targets: numpy.ndarray with shape (N, )\n",
        "      y_hat - predictions: numpy.ndarray with shape (N, )\n",
        "\n",
        "    Returns:\n",
        "      grads - tuple containing the gradients dw, db\n",
        "    \"\"\"\n",
        "    n = y.shape[0]\n",
        "    # TO DO: compute gradients - 2 lines\n",
        "    dw = (2/n)*np.dot(X.T, (y_hat - y))\n",
        "    db = (2/n)*np.sum(y_hat - y)\n",
        "    return dw, db\n",
        "\n",
        "  def fit(self, X, y):\n",
        "    \"\"\"\n",
        "    Fits the model to the training data and targets.\n",
        "\n",
        "    Parameters:\n",
        "      X - training data: numpy.ndarray with shape (N, f)\n",
        "      y - targets: numpy.ndarray with shape (N, )\n",
        "\n",
        "    Returns:\n",
        "      a reference to self\n",
        "    \"\"\"\n",
        "    self.init_params(X)\n",
        "    # main loop for training\n",
        "    for i in range(self.epochs):\n",
        "      # TO DO: implement the training routine - about 5 lines\n",
        "      predictions = self.predict(X)\n",
        "      loss = self.loss(y, predictions)\n",
        "      dw, db = self.grads(X, y, predictions)\n",
        "\n",
        "      self.weights -= self.alpha * dw\n",
        "      self.bias -= self.alpha * db\n",
        "\n",
        "      self.loss_history.append(loss)\n",
        "\n",
        "    if self.verbose:\n",
        "      plt.figure(figsize=[8, 6])\n",
        "      plt.xlabel('epoch')\n",
        "      plt.ylabel('loss')\n",
        "      plt.plot(np.arange(1, len(self.loss_history) + 1), self.loss_history)\n",
        "      plt.show()\n",
        "\n",
        "    return self"
      ],
      "execution_count": null,
      "outputs": []
    },
    {
      "cell_type": "code",
      "metadata": {
        "colab": {
          "base_uri": "https://localhost:8080/",
          "height": 424
        },
        "id": "7mtVD6bPMlhL",
        "outputId": "4df06016-6a8f-4af2-dc8c-e11d5e685f3b"
      },
      "source": [
        "log_reg = Logistic_Regression(verbose=True).fit(X_train, y_train)"
      ],
      "execution_count": null,
      "outputs": [
        {
          "output_type": "stream",
          "name": "stderr",
          "text": [
            "/usr/local/lib/python3.7/dist-packages/ipykernel_launcher.py:92: RuntimeWarning: divide by zero encountered in log\n",
            "/usr/local/lib/python3.7/dist-packages/ipykernel_launcher.py:92: RuntimeWarning: invalid value encountered in multiply\n"
          ]
        },
        {
          "output_type": "display_data",
          "data": {
            "image/png": "[encoded data removed]",
            "text/plain": [
              "<Figure size 576x432 with 1 Axes>"
            ]
          },
          "metadata": {
            "needs_background": "light"
          }
        }
      ]
    },
    {
      "cell_type": "code",
      "metadata": {
        "colab": {
          "base_uri": "https://localhost:8080/"
        },
        "id": "AzSI-74tOYyU",
        "outputId": "e48fc56d-d2f6-4fb5-f506-d172efb7e1be"
      },
      "source": [
        "print('weights:', log_reg.weights)\n",
        "print('bias:', log_reg.bias.round(10))"
      ],
      "execution_count": null,
      "outputs": [
        {
          "output_type": "stream",
          "name": "stdout",
          "text": [
            "weights: [4.01697021 2.09835467]\n",
            "bias: -32.2630561022\n"
          ]
        }
      ]
    },
    {
      "cell_type": "markdown",
      "metadata": {
        "id": "-RpbkHLBY7pH"
      },
      "source": [
        "# Data Visualization"
      ]
    },
    {
      "cell_type": "code",
      "metadata": {
        "colab": {
          "base_uri": "https://localhost:8080/",
          "height": 396
        },
        "id": "mOBLWJPaXxAG",
        "outputId": "c4b63e57-b6ca-4add-f097-405947b2a8b7"
      },
      "source": [
        "# plot original data\n",
        "y_pred = log_reg.predict(X)\n",
        "plt.figure(figsize=(8, 6))\n",
        "plt.xlim([0, 9])\n",
        "plt.ylim([2, 10])\n",
        "plt.scatter(x11, x12, label='Class 0')\n",
        "plt.scatter(x21, x22, label='Class 1')\n",
        "\n",
        "plt.legend()"
      ],
      "execution_count": null,
      "outputs": [
        {
          "output_type": "execute_result",
          "data": {
            "text/plain": [
              "<matplotlib.legend.Legend at 0x7f2a0e0abd10>"
            ]
          },
          "metadata": {},
          "execution_count": 23
        },
        {
          "output_type": "display_data",
          "data": {
            "image/png": "[encoded data removed]",
            "text/plain": [
              "<Figure size 576x432 with 1 Axes>"
            ]
          },
          "metadata": {
            "needs_background": "light"
          }
        }
      ]
    },
    {
      "cell_type": "code",
      "metadata": {
        "colab": {
          "base_uri": "https://localhost:8080/",
          "height": 396
        },
        "id": "d2Ek7AkLYSUW",
        "outputId": "8dda42bb-5e81-4823-e1ab-947fb99c39af"
      },
      "source": [
        "# plot what our model predicts\n",
        "plt.figure(figsize=(8, 6))\n",
        "plt.xlim([0, 9])\n",
        "plt.ylim([2, 10])\n",
        "plt.scatter(X[y_pred < 0.5][:, 0], X[y_pred < 0.5][:, 1], label='pred blue')\n",
        "plt.scatter(X[y_pred > 0.5][:, 0], X[y_pred > 0.5][:, 1], label='pred orange')\n",
        "plt.legend()"
      ],
      "execution_count": null,
      "outputs": [
        {
          "output_type": "execute_result",
          "data": {
            "text/plain": [
              "<matplotlib.legend.Legend at 0x7f2a0dffaa10>"
            ]
          },
          "metadata": {},
          "execution_count": 24
        },
        {
          "output_type": "display_data",
          "data": {
            "image/png": "[encoded data removed]",
            "text/plain": [
              "<Figure size 576x432 with 1 Axes>"
            ]
          },
          "metadata": {
            "needs_background": "light"
          }
        }
      ]
    },
    {
      "cell_type": "code",
      "metadata": {
        "colab": {
          "base_uri": "https://localhost:8080/",
          "height": 396
        },
        "id": "rE-Rmn8oPC-S",
        "outputId": "36a76ecf-b63f-40bd-9596-aec7867d4d72"
      },
      "source": [
        "# plot data\n",
        "plt.figure(figsize=(8, 6))\n",
        "plt.xlim([0, 9])\n",
        "plt.ylim([2, 10])\n",
        "plt.scatter(x11, x12, label='Class 0')\n",
        "plt.scatter(x21, x22, label='Class 1')\n",
        "\n",
        "# compute slope & intercept of the decision boundary\n",
        "slope = - (log_reg.weights[0]/log_reg.weights[1])\n",
        "intercept = - (log_reg.bias/log_reg.weights[1])\n",
        "\n",
        "# plot decision boundary\n",
        "X_plot = np.arange(1, 10)\n",
        "y_plot = slope * X_plot + intercept\n",
        "plt.plot(X_plot, y_plot, c='black', label='decision boundary')\n",
        "\n",
        "plt.legend()"
      ],
      "execution_count": null,
      "outputs": [
        {
          "output_type": "execute_result",
          "data": {
            "text/plain": [
              "<matplotlib.legend.Legend at 0x7f2a0df6bc50>"
            ]
          },
          "metadata": {},
          "execution_count": 25
        },
        {
          "output_type": "display_data",
          "data": {
            "image/png": "[encoded data removed]",
            "text/plain": [
              "<Figure size 576x432 with 1 Axes>"
            ]
          },
          "metadata": {
            "needs_background": "light"
          }
        }
      ]
    },
    {
      "cell_type": "markdown",
      "metadata": {
        "id": "JNQ0HQiBZQbi"
      },
      "source": [
        "# Which accuracy do you expect to be higher?"
      ]
    },
    {
      "cell_type": "code",
      "metadata": {
        "colab": {
          "base_uri": "https://localhost:8080/"
        },
        "id": "QKrQkSVYXTtB",
        "outputId": "4450f75b-1dce-40d9-8d0d-11e8945d9921"
      },
      "source": [
        "# TO DO: compute train accuracy - 2 lines\n",
        "y_pred = log_reg.predict(X_train)\n",
        "y_pred = y_pred > 0.5\n",
        "print('Train Accuracy:', accuracy_score(y_train, y_pred))"
      ],
      "execution_count": null,
      "outputs": [
        {
          "output_type": "stream",
          "name": "stdout",
          "text": [
            "Train Accuracy: 0.9375\n"
          ]
        }
      ]
    },
    {
      "cell_type": "code",
      "metadata": {
        "colab": {
          "base_uri": "https://localhost:8080/"
        },
        "id": "ynQ12FZcP1di",
        "outputId": "244a1d99-a0b4-4119-c6a7-fdd36c3d94bd"
      },
      "source": [
        "# TO DO: compute test accuracy - 2 lines\n",
        "y_pred = log_reg.predict(X_test)\n",
        "y_pred = y_pred > 0.5\n",
        "print('Test Accuracy:', accuracy_score(y_test, y_pred))"
      ],
      "execution_count": null,
      "outputs": [
        {
          "output_type": "stream",
          "text": [
            "Test Accuracy: 0.875\n"
          ],
          "name": "stdout"
        }
      ]
    },
    {
      "cell_type": "markdown",
      "metadata": {
        "id": "31QlJJL6avkz"
      },
      "source": [
        "## **Multiclass Classification (using the wine dataset)**\n",
        "Sklearn documentation: https://scikit-learn.org/stable/modules/generated/sklearn.datasets.load_wine.html"
      ]
    },
    {
      "cell_type": "code",
      "metadata": {
        "id": "Tb8ItOFIa0Zq"
      },
      "source": [
        "# additional imports\n",
        "from sklearn.datasets import load_wine"
      ],
      "execution_count": null,
      "outputs": []
    },
    {
      "cell_type": "code",
      "metadata": {
        "id": "im5nY57uGG4r"
      },
      "source": [
        "# TO DO: Load Data - 1 line\n",
        "X, y = load_wine(return_X_y=True)"
      ],
      "execution_count": null,
      "outputs": []
    },
    {
      "cell_type": "code",
      "metadata": {
        "colab": {
          "base_uri": "https://localhost:8080/"
        },
        "id": "wRXj9xCIGjf4",
        "outputId": "5832cf21-ee39-476a-b440-2dec01c3e240"
      },
      "source": [
        "# examine Data\n",
        "X = X[:, :12]\n",
        "print(\"X: {} samples, {} attributes \".format(X.shape[0], X.shape[1]))\n",
        "print(\"y: {} samples, {} classes\".format(y.shape[0], np.unique(y)))"
      ],
      "execution_count": null,
      "outputs": [
        {
          "output_type": "stream",
          "text": [
            "X: 178 samples, 12 attributes \n",
            "y: 178 samples, [0 1 2] classes\n"
          ],
          "name": "stdout"
        }
      ]
    },
    {
      "cell_type": "code",
      "metadata": {
        "id": "418E8nJFedne"
      },
      "source": [
        "# Reformat y (one hot encoding)\n",
        "num_samples = X.shape[0]\n",
        "num_classes = np.unique(y).size\n",
        "y_new = np.zeros((num_samples, num_classes), dtype=np.float64)\n",
        "for idx, e in np.ndenumerate(y):\n",
        "  y_new[idx][e] = 1.0"
      ],
      "execution_count": null,
      "outputs": []
    },
    {
      "cell_type": "code",
      "metadata": {
        "id": "cnyj6d0QGkPH"
      },
      "source": [
        "# TO DO: split data - 1 line\n",
        "X_train, X_test, y_train, y_test = train_test_split(X, y_new, test_size=0.2, random_state=42)"
      ],
      "execution_count": null,
      "outputs": []
    },
    {
      "cell_type": "markdown",
      "metadata": {
        "id": "gC7oxfyfNd8H"
      },
      "source": [
        "# Brief Review of Multiclass Classification\n",
        "N: number of samples \\\\\n",
        "f: number of features \\\\\n",
        "c: number of classes \\\\\n",
        "X: data; shape = (N, f) \\\\\n",
        "y: labels/targets; shape = (N, c) \\\\\n",
        "W: weights; shape = (f, c) \\\\\n",
        "b: bias; shape = (c, ) \\\\\n",
        "a: learning rate; scalar\n"
      ]
    },
    {
      "cell_type": "markdown",
      "metadata": {
        "id": "t9aBYKmkZems"
      },
      "source": [
        "## $$\\textbf{Our hypothesis}$$\n",
        "### $$\\hat{y}(X)= softmax{(XW+b)}$$\n",
        "\n",
        "## $$\\textbf{Loss function - Cross Entropy}$$\n",
        "### $$L(y, \\hat{y}) = -\\frac{1}{N} \\sum_{j=1}^{N}\\sum_{i=1}^{c} y_{ji} \\log{\\hat{y_{ji}}}$$\n",
        "\n",
        "## $$\\textbf{Gradients of Loss with respect to W, b (SAME)}$$\n",
        "### $$ \\frac{\\partial L}{\\partial W} = \\frac{2}{N}X^T\\big(\\hat{y}-y\\big)$$\n",
        "### $$ \\frac{\\partial L}{\\partial b} = \\frac{2}{N}\\sum_{i=1}^{N}\\big(\\hat{y_i}-y_i\\big)$$\n",
        "\n",
        "## $$\\textbf{Gradient Descent - update W, b accordingly (SAME)}$$\n",
        "### $$W = W - \\alpha \\frac{\\partial L}{\\partial W}$$\n",
        "### $$b = b - \\alpha \\frac{\\partial L}{\\partial b}$$"
      ]
    },
    {
      "cell_type": "code",
      "metadata": {
        "id": "wVioPgwbNc8y"
      },
      "source": [
        "# Multiclass classifier Class\n",
        "class Classifer(Logistic_Regression):\n",
        "  \"\"\"\n",
        "  Multiclass classifier using Softmax and Cross Entropy Loss.\n",
        "\n",
        "  This classifier fits a linear model with coefficients w = (w1, ..., wf)\n",
        "  to minimize the categorical cross entropy loss between the observed targets in\n",
        "  the dataset, and the targets predicted by the linear approximation.\n",
        "\n",
        "  Parameters:\n",
        "    num_classes - number of classes\n",
        "    num_epochs - number of epochs\n",
        "    lr - learning rate\n",
        "    verbose - creates a plot if set to True\n",
        "\n",
        "  Attributes:\n",
        "    epochs - number of epochs\n",
        "    alpha - learning rate\n",
        "    verbose - creates a plot if set to True\n",
        "    weights - numpy.ndarray with shape (f, c)\n",
        "    bias - (c)\n",
        "    loss_history - list containing the loss of each epoch\n",
        "  \"\"\"\n",
        "  def __init__(self, num_classes, num_epochs=2000, lr=0.6, verbose=False):\n",
        "    \"\"\"\n",
        "    Initializes a multiclass classifier.\n",
        "    \n",
        "    Parameters:\n",
        "      num_class - number of classes: int\n",
        "      num_epochs - number of epochs: int\n",
        "      lr - learning rate: float\n",
        "      verbose - verbose: boolean\n",
        "    \"\"\"\n",
        "    self.num_classes = num_classes\n",
        "    self.epochs = num_epochs\n",
        "    self.alpha = lr\n",
        "    self.verbose = verbose\n",
        "    \n",
        "  def init_params(self, X):\n",
        "    \"\"\"\n",
        "    Initialize the parameters of the model based on input data.\n",
        "\n",
        "    Parameters:\n",
        "      X - data: numpy.ndarray with shape (N, f)\n",
        "\n",
        "    Returns:\n",
        "      nothing\n",
        "    \"\"\"\n",
        "    self.weights = np.random.rand(X.shape[1], self.num_classes)\n",
        "    self.bias = np.random.rand(self.num_classes)\n",
        "    self.loss_history = []\n",
        "  \n",
        "  def activate(self, z):\n",
        "    \"\"\"\n",
        "    Activate the outputs of your model using the sigmoid function\n",
        "\n",
        "    Parameters:\n",
        "      z - outputs: numpy.ndarray with shape (N, c)\n",
        "\n",
        "    Returns:\n",
        "      activations - numpy.ndarray with shape (N, c)\n",
        "    \"\"\"\n",
        "    # TO DO: implement softmax activation function - 1 line\n",
        "    exponential = np.exp(z)\n",
        "    activations = np.divide(exponential, np.sum(exponential,axis=1)[:, np.newaxis])\n",
        "    return activations\n",
        "\n",
        "  def loss(self, y, y_hat):\n",
        "    \"\"\"\n",
        "    Computes the Categorical Cross Entropy Loss of the current predictions.\n",
        "\n",
        "    Parameters:\n",
        "      y - targets: numpy.ndarray with shape (N, c)\n",
        "      y_hat - predictions: numpy.ndarray with shape (N, c)\n",
        "\n",
        "    Returns:\n",
        "      loss - float\n",
        "    \"\"\"\n",
        "    # TO DO: compute loss (Cross Entropy) - 1 line\n",
        "    loss = - np.sum(y*np.log(y_hat)) / y.shape[0]\n",
        "    return loss\n",
        "\n",
        "  def score(self, X, y): \n",
        "    \"\"\"\n",
        "    Computes the accuracy score on a set of data and targets\n",
        "\n",
        "    Parameters:\n",
        "      X - data: np.ndarray with shape(N, f)\n",
        "      y - targets: np.ndarray with same (N, c)\n",
        "    \"\"\"\n",
        "    # TO DO - test model on test data - 3-4 lines\n",
        "    # get predictions, go from 1 hot encodings -> class values (vector to numbers), test accuracy with accuracy_score\n",
        "    pred_vecs = self.predict(X)\n",
        "    preds = np.argmax(pred_vecs, axis=1)\n",
        "    targets = np.argmax(y, axis=1)\n",
        "    return accuracy_score(preds, targets)"
      ],
      "execution_count": null,
      "outputs": []
    },
    {
      "cell_type": "code",
      "metadata": {
        "colab": {
          "base_uri": "https://localhost:8080/",
          "height": 388
        },
        "id": "AqyzL5dPL9fd",
        "outputId": "15b05a77-8c17-4752-bd34-2bd802edc655"
      },
      "source": [
        "# TO DO: Fit on training data with 3 classes, 7000 epochs, lr = 0.001 - 1 line\n",
        "classifier = Classifer(num_classes=3, num_epochs=7000, lr=0.001, verbose=True).fit(X_train, y_train)"
      ],
      "execution_count": null,
      "outputs": [
        {
          "output_type": "display_data",
          "data": {
            "image/png": "[encoded data removed]",
            "text/plain": [
              "<Figure size 576x432 with 1 Axes>"
            ]
          },
          "metadata": {
            "tags": [],
            "needs_background": "light"
          }
        }
      ]
    },
    {
      "cell_type": "markdown",
      "metadata": {
        "id": "Urzbu7o28TZN"
      },
      "source": [
        "## Which accuarcy score do you expect to be higher? Why?"
      ]
    },
    {
      "cell_type": "code",
      "metadata": {
        "colab": {
          "base_uri": "https://localhost:8080/"
        },
        "id": "tnhu-gMhp2SS",
        "outputId": "29bc908e-48e8-4468-c8b7-fba79a29486c"
      },
      "source": [
        "# TO DO: print out the accuracy on training and test data\n",
        "print(\"Test Accuracy: {}\".format(classifier.score(X_test, y_test).round(3)))\n",
        "print(\"Train Accuracy: {}\".format(classifier.score(X_train, y_train).round(3)))"
      ],
      "execution_count": null,
      "outputs": [
        {
          "output_type": "stream",
          "text": [
            "Test Accuracy: 0.889\n",
            "Train Accuracy: 0.923\n"
          ],
          "name": "stdout"
        }
      ]
    },
    {
      "cell_type": "markdown",
      "metadata": {
        "id": "MnaXBlQP9rpC"
      },
      "source": [
        "## Let's compare our model to sklearn's model! (The moment of truth)"
      ]
    },
    {
      "cell_type": "code",
      "metadata": {
        "id": "0uuqIHE5zBMO",
        "colab": {
          "base_uri": "https://localhost:8080/"
        },
        "outputId": "fdd7e3d8-c3ad-440b-b0f1-39a67dc7ed6c"
      },
      "source": [
        "from sklearn.linear_model import LogisticRegression\n",
        "\n",
        "X_train, X_test, y_train, y_test = train_test_split(X, y, test_size=0.2, random_state=42)\n",
        "clf = LogisticRegression().fit(X_train, y_train)\n",
        "print('Test Accuracy:', clf.score(X_test, y_test).round(3))"
      ],
      "execution_count": null,
      "outputs": [
        {
          "output_type": "stream",
          "text": [
            "Test Accuracy: 0.917\n"
          ],
          "name": "stdout"
        },
        {
          "output_type": "stream",
          "text": [
            "/usr/local/lib/python3.7/dist-packages/sklearn/linear_model/_logistic.py:940: ConvergenceWarning: lbfgs failed to converge (status=1):\n",
            "STOP: TOTAL NO. of ITERATIONS REACHED LIMIT.\n",
            "\n",
            "Increase the number of iterations (max_iter) or scale the data as shown in:\n",
            "    https://scikit-learn.org/stable/modules/preprocessing.html\n",
            "Please also refer to the documentation for alternative solver options:\n",
            "    https://scikit-learn.org/stable/modules/linear_model.html#logistic-regression\n",
            "  extra_warning_msg=_LOGISTIC_SOLVER_CONVERGENCE_MSG)\n"
          ],
          "name": "stderr"
        }
      ]
    },
    {
      "cell_type": "markdown",
      "metadata": {
        "id": "xaWk96-hCEZN"
      },
      "source": [
        "## Not too shaby, eh?"
      ]
    }
  ]
}